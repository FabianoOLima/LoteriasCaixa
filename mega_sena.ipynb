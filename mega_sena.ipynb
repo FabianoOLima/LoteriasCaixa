{
 "cells": [
  {
   "cell_type": "markdown",
   "metadata": {},
   "source": [
    "## Mega-Sena\n",
    "\n",
    "Neste projeto iremos analisar os resultados de jogos da Mega-Sena que paga milhões para o acertador dos 6 números sorteados. Ainda é possível ganhar prêmios ao acertar 4 ou 5 números dentre os 60 disponíveis no volante de apostas. Para realizar o sonho de ser o próximo milionário, você deve marcar de 6 a 15 números do volante\n",
    "\n",
    "### Premiação\n",
    "__O prêmio bruto corresponde a 43,35% da arrecadação.__\n",
    "\n",
    "Dessa porcentagem:\n",
    "- __35%__ são distribuídos entre os acertadores dos 6 números sorteados (Sena);\n",
    "- __19%__ entre os acertadores de 5 números (Quina);\n",
    "- __19%__ entre os acertadores de 4 números (Quadra);\n",
    "- __22%__ ficam acumulados e são distribuídos aos acertadores dos 6 números nos concursos de final 0 ou 5.\n",
    "- __5%__ ficam acumulados para a primeira faixa - sena - do último concurso do ano de final 0 ou 5 (Mega da Virada).\n",
    "\n",
    "### Downloads:\n",
    "- Informações sobre a [Mega-Sena](http://loterias.caixa.gov.br/wps/portal/loterias/landing/megasena/)\n",
    "- Arquivo de [Dados](http://www1.caixa.gov.br/loterias/_arquivos/loterias/D_megase.zip)"
   ]
  },
  {
   "cell_type": "markdown",
   "metadata": {},
   "source": [
    "![Mega](mega_sena.png)"
   ]
  },
  {
   "cell_type": "code",
   "execution_count": 1,
   "metadata": {},
   "outputs": [],
   "source": [
    "# Importando as bibliotecas que iremos utilizar\n",
    "\n",
    "import pandas as pd\n",
    "import numpy as np\n",
    "import matplotlib.pyplot as plt\n",
    "from palpita import palpite\n",
    "\n",
    "%matplotlib inline"
   ]
  },
  {
   "cell_type": "code",
   "execution_count": 2,
   "metadata": {},
   "outputs": [],
   "source": [
    "# Carregando o arquivo, neste caso o arquivo veio em formato HTML\n",
    "\n",
    "mega = pd.read_html('D_MEGA.htm')"
   ]
  },
  {
   "cell_type": "code",
   "execution_count": 3,
   "metadata": {},
   "outputs": [
    {
     "data": {
      "text/html": [
       "<div>\n",
       "<style scoped>\n",
       "    .dataframe tbody tr th:only-of-type {\n",
       "        vertical-align: middle;\n",
       "    }\n",
       "\n",
       "    .dataframe tbody tr th {\n",
       "        vertical-align: top;\n",
       "    }\n",
       "\n",
       "    .dataframe thead th {\n",
       "        text-align: right;\n",
       "    }\n",
       "</style>\n",
       "<table border=\"1\" class=\"dataframe\">\n",
       "  <thead>\n",
       "    <tr style=\"text-align: right;\">\n",
       "      <th></th>\n",
       "      <th>0</th>\n",
       "      <th>1</th>\n",
       "      <th>2</th>\n",
       "      <th>3</th>\n",
       "      <th>4</th>\n",
       "      <th>5</th>\n",
       "      <th>6</th>\n",
       "      <th>7</th>\n",
       "      <th>8</th>\n",
       "      <th>9</th>\n",
       "      <th>...</th>\n",
       "      <th>11</th>\n",
       "      <th>12</th>\n",
       "      <th>13</th>\n",
       "      <th>14</th>\n",
       "      <th>15</th>\n",
       "      <th>16</th>\n",
       "      <th>17</th>\n",
       "      <th>18</th>\n",
       "      <th>19</th>\n",
       "      <th>20</th>\n",
       "    </tr>\n",
       "  </thead>\n",
       "  <tbody>\n",
       "    <tr>\n",
       "      <th>0</th>\n",
       "      <td>Concurso</td>\n",
       "      <td>Data Sorteio</td>\n",
       "      <td>1ª Dezena</td>\n",
       "      <td>2ª Dezena</td>\n",
       "      <td>3ª Dezena</td>\n",
       "      <td>4ª Dezena</td>\n",
       "      <td>5ª Dezena</td>\n",
       "      <td>6ª Dezena</td>\n",
       "      <td>Arrecadacao_Total</td>\n",
       "      <td>Ganhadores_Sena</td>\n",
       "      <td>...</td>\n",
       "      <td>UF</td>\n",
       "      <td>Rateio_Sena</td>\n",
       "      <td>Ganhadores_Quina</td>\n",
       "      <td>Rateio_Quina</td>\n",
       "      <td>Ganhadores_Quadra</td>\n",
       "      <td>Rateio_Quadra</td>\n",
       "      <td>Acumulado</td>\n",
       "      <td>Valor_Acumulado</td>\n",
       "      <td>Estimativa_Prêmio</td>\n",
       "      <td>Acumulado_Mega_da_Virada</td>\n",
       "    </tr>\n",
       "    <tr>\n",
       "      <th>1</th>\n",
       "      <td>1</td>\n",
       "      <td>11/03/1996</td>\n",
       "      <td>41</td>\n",
       "      <td>05</td>\n",
       "      <td>04</td>\n",
       "      <td>52</td>\n",
       "      <td>30</td>\n",
       "      <td>33</td>\n",
       "      <td>000</td>\n",
       "      <td>0</td>\n",
       "      <td>...</td>\n",
       "      <td>&amp;nbsp</td>\n",
       "      <td>000</td>\n",
       "      <td>17</td>\n",
       "      <td>39.15892</td>\n",
       "      <td>2016</td>\n",
       "      <td>33021</td>\n",
       "      <td>SIM</td>\n",
       "      <td>1.714.65023</td>\n",
       "      <td>000</td>\n",
       "      <td>000</td>\n",
       "    </tr>\n",
       "    <tr>\n",
       "      <th>2</th>\n",
       "      <td>2</td>\n",
       "      <td>18/03/1996</td>\n",
       "      <td>09</td>\n",
       "      <td>39</td>\n",
       "      <td>37</td>\n",
       "      <td>49</td>\n",
       "      <td>43</td>\n",
       "      <td>41</td>\n",
       "      <td>000</td>\n",
       "      <td>1</td>\n",
       "      <td>...</td>\n",
       "      <td>PR</td>\n",
       "      <td>2.307.16223</td>\n",
       "      <td>65</td>\n",
       "      <td>14.42402</td>\n",
       "      <td>4488</td>\n",
       "      <td>20891</td>\n",
       "      <td>NÃO</td>\n",
       "      <td>000</td>\n",
       "      <td>000</td>\n",
       "      <td>000</td>\n",
       "    </tr>\n",
       "    <tr>\n",
       "      <th>3</th>\n",
       "      <td>3</td>\n",
       "      <td>25/03/1996</td>\n",
       "      <td>36</td>\n",
       "      <td>30</td>\n",
       "      <td>10</td>\n",
       "      <td>11</td>\n",
       "      <td>29</td>\n",
       "      <td>47</td>\n",
       "      <td>000</td>\n",
       "      <td>2</td>\n",
       "      <td>...</td>\n",
       "      <td>RN</td>\n",
       "      <td>391.19251</td>\n",
       "      <td>62</td>\n",
       "      <td>10.51593</td>\n",
       "      <td>4261</td>\n",
       "      <td>15301</td>\n",
       "      <td>NÃO</td>\n",
       "      <td>000</td>\n",
       "      <td>000</td>\n",
       "      <td>000</td>\n",
       "    </tr>\n",
       "    <tr>\n",
       "      <th>4</th>\n",
       "      <td>NaN</td>\n",
       "      <td>SP</td>\n",
       "      <td>NaN</td>\n",
       "      <td>NaN</td>\n",
       "      <td>NaN</td>\n",
       "      <td>NaN</td>\n",
       "      <td>NaN</td>\n",
       "      <td>NaN</td>\n",
       "      <td>NaN</td>\n",
       "      <td>NaN</td>\n",
       "      <td>...</td>\n",
       "      <td>NaN</td>\n",
       "      <td>NaN</td>\n",
       "      <td>NaN</td>\n",
       "      <td>NaN</td>\n",
       "      <td>NaN</td>\n",
       "      <td>NaN</td>\n",
       "      <td>NaN</td>\n",
       "      <td>NaN</td>\n",
       "      <td>NaN</td>\n",
       "      <td>NaN</td>\n",
       "    </tr>\n",
       "  </tbody>\n",
       "</table>\n",
       "<p>5 rows × 21 columns</p>\n",
       "</div>"
      ],
      "text/plain": [
       "         0             1          2          3          4          5   \\\n",
       "0  Concurso  Data Sorteio  1ª Dezena  2ª Dezena  3ª Dezena  4ª Dezena   \n",
       "1         1    11/03/1996         41         05         04         52   \n",
       "2         2    18/03/1996         09         39         37         49   \n",
       "3         3    25/03/1996         36         30         10         11   \n",
       "4       NaN            SP        NaN        NaN        NaN        NaN   \n",
       "\n",
       "          6          7                  8                9   \\\n",
       "0  5ª Dezena  6ª Dezena  Arrecadacao_Total  Ganhadores_Sena   \n",
       "1         30         33                000                0   \n",
       "2         43         41                000                1   \n",
       "3         29         47                000                2   \n",
       "4        NaN        NaN                NaN              NaN   \n",
       "\n",
       "             ...                11           12                13  \\\n",
       "0            ...                UF  Rateio_Sena  Ganhadores_Quina   \n",
       "1            ...             &nbsp          000                17   \n",
       "2            ...                PR  2.307.16223                65   \n",
       "3            ...                RN    391.19251                62   \n",
       "4            ...               NaN          NaN               NaN   \n",
       "\n",
       "             14                 15             16         17               18  \\\n",
       "0  Rateio_Quina  Ganhadores_Quadra  Rateio_Quadra  Acumulado  Valor_Acumulado   \n",
       "1      39.15892               2016          33021        SIM      1.714.65023   \n",
       "2      14.42402               4488          20891        NÃO              000   \n",
       "3      10.51593               4261          15301        NÃO              000   \n",
       "4           NaN                NaN            NaN        NaN              NaN   \n",
       "\n",
       "                  19                        20  \n",
       "0  Estimativa_Prêmio  Acumulado_Mega_da_Virada  \n",
       "1                000                       000  \n",
       "2                000                       000  \n",
       "3                000                       000  \n",
       "4                NaN                       NaN  \n",
       "\n",
       "[5 rows x 21 columns]"
      ]
     },
     "execution_count": 3,
     "metadata": {},
     "output_type": "execute_result"
    }
   ],
   "source": [
    "# Arquivo carregado como lista, iremos conferir suas 5 primeiras linhas\n",
    "mega[0][:5]"
   ]
  },
  {
   "cell_type": "code",
   "execution_count": 4,
   "metadata": {},
   "outputs": [],
   "source": [
    "# Iremos remover as colunas que não serão utilizadas em nossa analise\n",
    "colunas = [8,11,17,19,20,10]\n",
    "mega[0].drop(columns=colunas, inplace=True)"
   ]
  },
  {
   "cell_type": "code",
   "execution_count": 5,
   "metadata": {},
   "outputs": [
    {
     "data": {
      "text/html": [
       "<div>\n",
       "<style scoped>\n",
       "    .dataframe tbody tr th:only-of-type {\n",
       "        vertical-align: middle;\n",
       "    }\n",
       "\n",
       "    .dataframe tbody tr th {\n",
       "        vertical-align: top;\n",
       "    }\n",
       "\n",
       "    .dataframe thead th {\n",
       "        text-align: right;\n",
       "    }\n",
       "</style>\n",
       "<table border=\"1\" class=\"dataframe\">\n",
       "  <thead>\n",
       "    <tr style=\"text-align: right;\">\n",
       "      <th></th>\n",
       "      <th>0</th>\n",
       "      <th>1</th>\n",
       "      <th>2</th>\n",
       "      <th>3</th>\n",
       "      <th>4</th>\n",
       "      <th>5</th>\n",
       "      <th>6</th>\n",
       "      <th>7</th>\n",
       "      <th>9</th>\n",
       "      <th>12</th>\n",
       "      <th>13</th>\n",
       "      <th>14</th>\n",
       "      <th>15</th>\n",
       "      <th>16</th>\n",
       "      <th>18</th>\n",
       "    </tr>\n",
       "  </thead>\n",
       "  <tbody>\n",
       "    <tr>\n",
       "      <th>0</th>\n",
       "      <td>Concurso</td>\n",
       "      <td>Data Sorteio</td>\n",
       "      <td>1ª Dezena</td>\n",
       "      <td>2ª Dezena</td>\n",
       "      <td>3ª Dezena</td>\n",
       "      <td>4ª Dezena</td>\n",
       "      <td>5ª Dezena</td>\n",
       "      <td>6ª Dezena</td>\n",
       "      <td>Ganhadores_Sena</td>\n",
       "      <td>Rateio_Sena</td>\n",
       "      <td>Ganhadores_Quina</td>\n",
       "      <td>Rateio_Quina</td>\n",
       "      <td>Ganhadores_Quadra</td>\n",
       "      <td>Rateio_Quadra</td>\n",
       "      <td>Valor_Acumulado</td>\n",
       "    </tr>\n",
       "    <tr>\n",
       "      <th>1</th>\n",
       "      <td>1</td>\n",
       "      <td>11/03/1996</td>\n",
       "      <td>41</td>\n",
       "      <td>05</td>\n",
       "      <td>04</td>\n",
       "      <td>52</td>\n",
       "      <td>30</td>\n",
       "      <td>33</td>\n",
       "      <td>0</td>\n",
       "      <td>000</td>\n",
       "      <td>17</td>\n",
       "      <td>39.15892</td>\n",
       "      <td>2016</td>\n",
       "      <td>33021</td>\n",
       "      <td>1.714.65023</td>\n",
       "    </tr>\n",
       "    <tr>\n",
       "      <th>2</th>\n",
       "      <td>2</td>\n",
       "      <td>18/03/1996</td>\n",
       "      <td>09</td>\n",
       "      <td>39</td>\n",
       "      <td>37</td>\n",
       "      <td>49</td>\n",
       "      <td>43</td>\n",
       "      <td>41</td>\n",
       "      <td>1</td>\n",
       "      <td>2.307.16223</td>\n",
       "      <td>65</td>\n",
       "      <td>14.42402</td>\n",
       "      <td>4488</td>\n",
       "      <td>20891</td>\n",
       "      <td>000</td>\n",
       "    </tr>\n",
       "    <tr>\n",
       "      <th>3</th>\n",
       "      <td>3</td>\n",
       "      <td>25/03/1996</td>\n",
       "      <td>36</td>\n",
       "      <td>30</td>\n",
       "      <td>10</td>\n",
       "      <td>11</td>\n",
       "      <td>29</td>\n",
       "      <td>47</td>\n",
       "      <td>2</td>\n",
       "      <td>391.19251</td>\n",
       "      <td>62</td>\n",
       "      <td>10.51593</td>\n",
       "      <td>4261</td>\n",
       "      <td>15301</td>\n",
       "      <td>000</td>\n",
       "    </tr>\n",
       "    <tr>\n",
       "      <th>4</th>\n",
       "      <td>NaN</td>\n",
       "      <td>SP</td>\n",
       "      <td>NaN</td>\n",
       "      <td>NaN</td>\n",
       "      <td>NaN</td>\n",
       "      <td>NaN</td>\n",
       "      <td>NaN</td>\n",
       "      <td>NaN</td>\n",
       "      <td>NaN</td>\n",
       "      <td>NaN</td>\n",
       "      <td>NaN</td>\n",
       "      <td>NaN</td>\n",
       "      <td>NaN</td>\n",
       "      <td>NaN</td>\n",
       "      <td>NaN</td>\n",
       "    </tr>\n",
       "  </tbody>\n",
       "</table>\n",
       "</div>"
      ],
      "text/plain": [
       "         0             1          2          3          4          5   \\\n",
       "0  Concurso  Data Sorteio  1ª Dezena  2ª Dezena  3ª Dezena  4ª Dezena   \n",
       "1         1    11/03/1996         41         05         04         52   \n",
       "2         2    18/03/1996         09         39         37         49   \n",
       "3         3    25/03/1996         36         30         10         11   \n",
       "4       NaN            SP        NaN        NaN        NaN        NaN   \n",
       "\n",
       "          6          7                9            12                13  \\\n",
       "0  5ª Dezena  6ª Dezena  Ganhadores_Sena  Rateio_Sena  Ganhadores_Quina   \n",
       "1         30         33                0          000                17   \n",
       "2         43         41                1  2.307.16223                65   \n",
       "3         29         47                2    391.19251                62   \n",
       "4        NaN        NaN              NaN          NaN               NaN   \n",
       "\n",
       "             14                 15             16               18  \n",
       "0  Rateio_Quina  Ganhadores_Quadra  Rateio_Quadra  Valor_Acumulado  \n",
       "1      39.15892               2016          33021      1.714.65023  \n",
       "2      14.42402               4488          20891              000  \n",
       "3      10.51593               4261          15301              000  \n",
       "4           NaN                NaN            NaN              NaN  "
      ]
     },
     "execution_count": 5,
     "metadata": {},
     "output_type": "execute_result"
    }
   ],
   "source": [
    "# Conferindo a mudança feita\n",
    "mega[0][:5]"
   ]
  },
  {
   "cell_type": "code",
   "execution_count": 6,
   "metadata": {},
   "outputs": [],
   "source": [
    "# Iremos criar um df recebendo as informações da posição 0 da lista\n",
    "\n",
    "df = pd.DataFrame(mega[0]).copy()"
   ]
  },
  {
   "cell_type": "code",
   "execution_count": 7,
   "metadata": {},
   "outputs": [
    {
     "data": {
      "text/html": [
       "<div>\n",
       "<style scoped>\n",
       "    .dataframe tbody tr th:only-of-type {\n",
       "        vertical-align: middle;\n",
       "    }\n",
       "\n",
       "    .dataframe tbody tr th {\n",
       "        vertical-align: top;\n",
       "    }\n",
       "\n",
       "    .dataframe thead th {\n",
       "        text-align: right;\n",
       "    }\n",
       "</style>\n",
       "<table border=\"1\" class=\"dataframe\">\n",
       "  <thead>\n",
       "    <tr style=\"text-align: right;\">\n",
       "      <th></th>\n",
       "      <th>0</th>\n",
       "      <th>1</th>\n",
       "      <th>2</th>\n",
       "      <th>3</th>\n",
       "      <th>4</th>\n",
       "      <th>5</th>\n",
       "      <th>6</th>\n",
       "      <th>7</th>\n",
       "      <th>9</th>\n",
       "      <th>12</th>\n",
       "      <th>13</th>\n",
       "      <th>14</th>\n",
       "      <th>15</th>\n",
       "      <th>16</th>\n",
       "      <th>18</th>\n",
       "    </tr>\n",
       "  </thead>\n",
       "  <tbody>\n",
       "    <tr>\n",
       "      <th>0</th>\n",
       "      <td>Concurso</td>\n",
       "      <td>Data Sorteio</td>\n",
       "      <td>1ª Dezena</td>\n",
       "      <td>2ª Dezena</td>\n",
       "      <td>3ª Dezena</td>\n",
       "      <td>4ª Dezena</td>\n",
       "      <td>5ª Dezena</td>\n",
       "      <td>6ª Dezena</td>\n",
       "      <td>Ganhadores_Sena</td>\n",
       "      <td>Rateio_Sena</td>\n",
       "      <td>Ganhadores_Quina</td>\n",
       "      <td>Rateio_Quina</td>\n",
       "      <td>Ganhadores_Quadra</td>\n",
       "      <td>Rateio_Quadra</td>\n",
       "      <td>Valor_Acumulado</td>\n",
       "    </tr>\n",
       "    <tr>\n",
       "      <th>1</th>\n",
       "      <td>1</td>\n",
       "      <td>11/03/1996</td>\n",
       "      <td>41</td>\n",
       "      <td>05</td>\n",
       "      <td>04</td>\n",
       "      <td>52</td>\n",
       "      <td>30</td>\n",
       "      <td>33</td>\n",
       "      <td>0</td>\n",
       "      <td>000</td>\n",
       "      <td>17</td>\n",
       "      <td>39.15892</td>\n",
       "      <td>2016</td>\n",
       "      <td>33021</td>\n",
       "      <td>1.714.65023</td>\n",
       "    </tr>\n",
       "    <tr>\n",
       "      <th>2</th>\n",
       "      <td>2</td>\n",
       "      <td>18/03/1996</td>\n",
       "      <td>09</td>\n",
       "      <td>39</td>\n",
       "      <td>37</td>\n",
       "      <td>49</td>\n",
       "      <td>43</td>\n",
       "      <td>41</td>\n",
       "      <td>1</td>\n",
       "      <td>2.307.16223</td>\n",
       "      <td>65</td>\n",
       "      <td>14.42402</td>\n",
       "      <td>4488</td>\n",
       "      <td>20891</td>\n",
       "      <td>000</td>\n",
       "    </tr>\n",
       "    <tr>\n",
       "      <th>3</th>\n",
       "      <td>3</td>\n",
       "      <td>25/03/1996</td>\n",
       "      <td>36</td>\n",
       "      <td>30</td>\n",
       "      <td>10</td>\n",
       "      <td>11</td>\n",
       "      <td>29</td>\n",
       "      <td>47</td>\n",
       "      <td>2</td>\n",
       "      <td>391.19251</td>\n",
       "      <td>62</td>\n",
       "      <td>10.51593</td>\n",
       "      <td>4261</td>\n",
       "      <td>15301</td>\n",
       "      <td>000</td>\n",
       "    </tr>\n",
       "    <tr>\n",
       "      <th>4</th>\n",
       "      <td>NaN</td>\n",
       "      <td>SP</td>\n",
       "      <td>NaN</td>\n",
       "      <td>NaN</td>\n",
       "      <td>NaN</td>\n",
       "      <td>NaN</td>\n",
       "      <td>NaN</td>\n",
       "      <td>NaN</td>\n",
       "      <td>NaN</td>\n",
       "      <td>NaN</td>\n",
       "      <td>NaN</td>\n",
       "      <td>NaN</td>\n",
       "      <td>NaN</td>\n",
       "      <td>NaN</td>\n",
       "      <td>NaN</td>\n",
       "    </tr>\n",
       "  </tbody>\n",
       "</table>\n",
       "</div>"
      ],
      "text/plain": [
       "         0             1          2          3          4          5   \\\n",
       "0  Concurso  Data Sorteio  1ª Dezena  2ª Dezena  3ª Dezena  4ª Dezena   \n",
       "1         1    11/03/1996         41         05         04         52   \n",
       "2         2    18/03/1996         09         39         37         49   \n",
       "3         3    25/03/1996         36         30         10         11   \n",
       "4       NaN            SP        NaN        NaN        NaN        NaN   \n",
       "\n",
       "          6          7                9            12                13  \\\n",
       "0  5ª Dezena  6ª Dezena  Ganhadores_Sena  Rateio_Sena  Ganhadores_Quina   \n",
       "1         30         33                0          000                17   \n",
       "2         43         41                1  2.307.16223                65   \n",
       "3         29         47                2    391.19251                62   \n",
       "4        NaN        NaN              NaN          NaN               NaN   \n",
       "\n",
       "             14                 15             16               18  \n",
       "0  Rateio_Quina  Ganhadores_Quadra  Rateio_Quadra  Valor_Acumulado  \n",
       "1      39.15892               2016          33021      1.714.65023  \n",
       "2      14.42402               4488          20891              000  \n",
       "3      10.51593               4261          15301              000  \n",
       "4           NaN                NaN            NaN              NaN  "
      ]
     },
     "execution_count": 7,
     "metadata": {},
     "output_type": "execute_result"
    }
   ],
   "source": [
    "# Lendo o inicio do DF\n",
    "\n",
    "df.head()"
   ]
  },
  {
   "cell_type": "code",
   "execution_count": 8,
   "metadata": {},
   "outputs": [],
   "source": [
    "# Como o df não foi criado com os nomes das colunas e elas estão listadas na linha 0\n",
    "# iremos atualizar o nome das colunas\n",
    "\n",
    "df.columns = df.loc[0]"
   ]
  },
  {
   "cell_type": "code",
   "execution_count": 9,
   "metadata": {},
   "outputs": [
    {
     "data": {
      "text/plain": [
       "Index(['concurso', 'data_sorteio', '1', '2', '3', '4', '5', '6',\n",
       "       'ganhadores_sena', 'rateio_sena', 'ganhadores_quina', 'rateio_quina',\n",
       "       'ganhadores_quadra', 'rateio_quadra', 'valor_acumulado'],\n",
       "      dtype='object', name=0)"
      ]
     },
     "execution_count": 9,
     "metadata": {},
     "output_type": "execute_result"
    }
   ],
   "source": [
    "# Renomeando as colunas para facilitar as consultas\n",
    "\n",
    "df.columns = df.columns.str.replace(' ','_')\n",
    "df.columns = df.columns.str.replace('ª','')\n",
    "df.columns = df.columns.str.lower()\n",
    "df.columns = df.columns.str.replace('_dezena','')\n",
    "df.columns"
   ]
  },
  {
   "cell_type": "code",
   "execution_count": 10,
   "metadata": {},
   "outputs": [
    {
     "data": {
      "text/html": [
       "<div>\n",
       "<style scoped>\n",
       "    .dataframe tbody tr th:only-of-type {\n",
       "        vertical-align: middle;\n",
       "    }\n",
       "\n",
       "    .dataframe tbody tr th {\n",
       "        vertical-align: top;\n",
       "    }\n",
       "\n",
       "    .dataframe thead th {\n",
       "        text-align: right;\n",
       "    }\n",
       "</style>\n",
       "<table border=\"1\" class=\"dataframe\">\n",
       "  <thead>\n",
       "    <tr style=\"text-align: right;\">\n",
       "      <th></th>\n",
       "      <th>concurso</th>\n",
       "      <th>data_sorteio</th>\n",
       "      <th>1</th>\n",
       "      <th>2</th>\n",
       "      <th>3</th>\n",
       "      <th>4</th>\n",
       "      <th>5</th>\n",
       "      <th>6</th>\n",
       "      <th>ganhadores_sena</th>\n",
       "      <th>rateio_sena</th>\n",
       "      <th>ganhadores_quina</th>\n",
       "      <th>rateio_quina</th>\n",
       "      <th>ganhadores_quadra</th>\n",
       "      <th>rateio_quadra</th>\n",
       "      <th>valor_acumulado</th>\n",
       "    </tr>\n",
       "  </thead>\n",
       "  <tbody>\n",
       "    <tr>\n",
       "      <th>0</th>\n",
       "      <td>Concurso</td>\n",
       "      <td>Data Sorteio</td>\n",
       "      <td>1ª Dezena</td>\n",
       "      <td>2ª Dezena</td>\n",
       "      <td>3ª Dezena</td>\n",
       "      <td>4ª Dezena</td>\n",
       "      <td>5ª Dezena</td>\n",
       "      <td>6ª Dezena</td>\n",
       "      <td>Ganhadores_Sena</td>\n",
       "      <td>Rateio_Sena</td>\n",
       "      <td>Ganhadores_Quina</td>\n",
       "      <td>Rateio_Quina</td>\n",
       "      <td>Ganhadores_Quadra</td>\n",
       "      <td>Rateio_Quadra</td>\n",
       "      <td>Valor_Acumulado</td>\n",
       "    </tr>\n",
       "    <tr>\n",
       "      <th>1</th>\n",
       "      <td>1</td>\n",
       "      <td>11/03/1996</td>\n",
       "      <td>41</td>\n",
       "      <td>05</td>\n",
       "      <td>04</td>\n",
       "      <td>52</td>\n",
       "      <td>30</td>\n",
       "      <td>33</td>\n",
       "      <td>0</td>\n",
       "      <td>000</td>\n",
       "      <td>17</td>\n",
       "      <td>39.15892</td>\n",
       "      <td>2016</td>\n",
       "      <td>33021</td>\n",
       "      <td>1.714.65023</td>\n",
       "    </tr>\n",
       "    <tr>\n",
       "      <th>2</th>\n",
       "      <td>2</td>\n",
       "      <td>18/03/1996</td>\n",
       "      <td>09</td>\n",
       "      <td>39</td>\n",
       "      <td>37</td>\n",
       "      <td>49</td>\n",
       "      <td>43</td>\n",
       "      <td>41</td>\n",
       "      <td>1</td>\n",
       "      <td>2.307.16223</td>\n",
       "      <td>65</td>\n",
       "      <td>14.42402</td>\n",
       "      <td>4488</td>\n",
       "      <td>20891</td>\n",
       "      <td>000</td>\n",
       "    </tr>\n",
       "    <tr>\n",
       "      <th>3</th>\n",
       "      <td>3</td>\n",
       "      <td>25/03/1996</td>\n",
       "      <td>36</td>\n",
       "      <td>30</td>\n",
       "      <td>10</td>\n",
       "      <td>11</td>\n",
       "      <td>29</td>\n",
       "      <td>47</td>\n",
       "      <td>2</td>\n",
       "      <td>391.19251</td>\n",
       "      <td>62</td>\n",
       "      <td>10.51593</td>\n",
       "      <td>4261</td>\n",
       "      <td>15301</td>\n",
       "      <td>000</td>\n",
       "    </tr>\n",
       "    <tr>\n",
       "      <th>4</th>\n",
       "      <td>NaN</td>\n",
       "      <td>SP</td>\n",
       "      <td>NaN</td>\n",
       "      <td>NaN</td>\n",
       "      <td>NaN</td>\n",
       "      <td>NaN</td>\n",
       "      <td>NaN</td>\n",
       "      <td>NaN</td>\n",
       "      <td>NaN</td>\n",
       "      <td>NaN</td>\n",
       "      <td>NaN</td>\n",
       "      <td>NaN</td>\n",
       "      <td>NaN</td>\n",
       "      <td>NaN</td>\n",
       "      <td>NaN</td>\n",
       "    </tr>\n",
       "  </tbody>\n",
       "</table>\n",
       "</div>"
      ],
      "text/plain": [
       "0  concurso  data_sorteio          1          2          3          4  \\\n",
       "0  Concurso  Data Sorteio  1ª Dezena  2ª Dezena  3ª Dezena  4ª Dezena   \n",
       "1         1    11/03/1996         41         05         04         52   \n",
       "2         2    18/03/1996         09         39         37         49   \n",
       "3         3    25/03/1996         36         30         10         11   \n",
       "4       NaN            SP        NaN        NaN        NaN        NaN   \n",
       "\n",
       "0          5          6  ganhadores_sena  rateio_sena  ganhadores_quina  \\\n",
       "0  5ª Dezena  6ª Dezena  Ganhadores_Sena  Rateio_Sena  Ganhadores_Quina   \n",
       "1         30         33                0          000                17   \n",
       "2         43         41                1  2.307.16223                65   \n",
       "3         29         47                2    391.19251                62   \n",
       "4        NaN        NaN              NaN          NaN               NaN   \n",
       "\n",
       "0  rateio_quina  ganhadores_quadra  rateio_quadra  valor_acumulado  \n",
       "0  Rateio_Quina  Ganhadores_Quadra  Rateio_Quadra  Valor_Acumulado  \n",
       "1      39.15892               2016          33021      1.714.65023  \n",
       "2      14.42402               4488          20891              000  \n",
       "3      10.51593               4261          15301              000  \n",
       "4           NaN                NaN            NaN              NaN  "
      ]
     },
     "execution_count": 10,
     "metadata": {},
     "output_type": "execute_result"
    }
   ],
   "source": [
    "# Conferindo a mudança\n",
    "\n",
    "df.head()"
   ]
  },
  {
   "cell_type": "code",
   "execution_count": 11,
   "metadata": {},
   "outputs": [],
   "source": [
    "# Removendo a primeira linha \n",
    "\n",
    "df.drop([0], inplace=True)"
   ]
  },
  {
   "cell_type": "code",
   "execution_count": 12,
   "metadata": {},
   "outputs": [
    {
     "data": {
      "text/html": [
       "<div>\n",
       "<style scoped>\n",
       "    .dataframe tbody tr th:only-of-type {\n",
       "        vertical-align: middle;\n",
       "    }\n",
       "\n",
       "    .dataframe tbody tr th {\n",
       "        vertical-align: top;\n",
       "    }\n",
       "\n",
       "    .dataframe thead th {\n",
       "        text-align: right;\n",
       "    }\n",
       "</style>\n",
       "<table border=\"1\" class=\"dataframe\">\n",
       "  <thead>\n",
       "    <tr style=\"text-align: right;\">\n",
       "      <th></th>\n",
       "      <th>concurso</th>\n",
       "      <th>data_sorteio</th>\n",
       "      <th>1</th>\n",
       "      <th>2</th>\n",
       "      <th>3</th>\n",
       "      <th>4</th>\n",
       "      <th>5</th>\n",
       "      <th>6</th>\n",
       "      <th>ganhadores_sena</th>\n",
       "      <th>rateio_sena</th>\n",
       "      <th>ganhadores_quina</th>\n",
       "      <th>rateio_quina</th>\n",
       "      <th>ganhadores_quadra</th>\n",
       "      <th>rateio_quadra</th>\n",
       "      <th>valor_acumulado</th>\n",
       "    </tr>\n",
       "  </thead>\n",
       "  <tbody>\n",
       "    <tr>\n",
       "      <th>1</th>\n",
       "      <td>1</td>\n",
       "      <td>11/03/1996</td>\n",
       "      <td>41</td>\n",
       "      <td>05</td>\n",
       "      <td>04</td>\n",
       "      <td>52</td>\n",
       "      <td>30</td>\n",
       "      <td>33</td>\n",
       "      <td>0</td>\n",
       "      <td>000</td>\n",
       "      <td>17</td>\n",
       "      <td>39.15892</td>\n",
       "      <td>2016</td>\n",
       "      <td>33021</td>\n",
       "      <td>1.714.65023</td>\n",
       "    </tr>\n",
       "    <tr>\n",
       "      <th>2</th>\n",
       "      <td>2</td>\n",
       "      <td>18/03/1996</td>\n",
       "      <td>09</td>\n",
       "      <td>39</td>\n",
       "      <td>37</td>\n",
       "      <td>49</td>\n",
       "      <td>43</td>\n",
       "      <td>41</td>\n",
       "      <td>1</td>\n",
       "      <td>2.307.16223</td>\n",
       "      <td>65</td>\n",
       "      <td>14.42402</td>\n",
       "      <td>4488</td>\n",
       "      <td>20891</td>\n",
       "      <td>000</td>\n",
       "    </tr>\n",
       "    <tr>\n",
       "      <th>3</th>\n",
       "      <td>3</td>\n",
       "      <td>25/03/1996</td>\n",
       "      <td>36</td>\n",
       "      <td>30</td>\n",
       "      <td>10</td>\n",
       "      <td>11</td>\n",
       "      <td>29</td>\n",
       "      <td>47</td>\n",
       "      <td>2</td>\n",
       "      <td>391.19251</td>\n",
       "      <td>62</td>\n",
       "      <td>10.51593</td>\n",
       "      <td>4261</td>\n",
       "      <td>15301</td>\n",
       "      <td>000</td>\n",
       "    </tr>\n",
       "    <tr>\n",
       "      <th>4</th>\n",
       "      <td>NaN</td>\n",
       "      <td>SP</td>\n",
       "      <td>NaN</td>\n",
       "      <td>NaN</td>\n",
       "      <td>NaN</td>\n",
       "      <td>NaN</td>\n",
       "      <td>NaN</td>\n",
       "      <td>NaN</td>\n",
       "      <td>NaN</td>\n",
       "      <td>NaN</td>\n",
       "      <td>NaN</td>\n",
       "      <td>NaN</td>\n",
       "      <td>NaN</td>\n",
       "      <td>NaN</td>\n",
       "      <td>NaN</td>\n",
       "    </tr>\n",
       "    <tr>\n",
       "      <th>5</th>\n",
       "      <td>4</td>\n",
       "      <td>01/04/1996</td>\n",
       "      <td>06</td>\n",
       "      <td>59</td>\n",
       "      <td>42</td>\n",
       "      <td>27</td>\n",
       "      <td>01</td>\n",
       "      <td>05</td>\n",
       "      <td>0</td>\n",
       "      <td>000</td>\n",
       "      <td>39</td>\n",
       "      <td>15.32224</td>\n",
       "      <td>3311</td>\n",
       "      <td>18048</td>\n",
       "      <td>717.08075</td>\n",
       "    </tr>\n",
       "  </tbody>\n",
       "</table>\n",
       "</div>"
      ],
      "text/plain": [
       "0 concurso data_sorteio    1    2    3    4    5    6 ganhadores_sena  \\\n",
       "1        1   11/03/1996   41   05   04   52   30   33               0   \n",
       "2        2   18/03/1996   09   39   37   49   43   41               1   \n",
       "3        3   25/03/1996   36   30   10   11   29   47               2   \n",
       "4      NaN           SP  NaN  NaN  NaN  NaN  NaN  NaN             NaN   \n",
       "5        4   01/04/1996   06   59   42   27   01   05               0   \n",
       "\n",
       "0  rateio_sena ganhadores_quina rateio_quina ganhadores_quadra rateio_quadra  \\\n",
       "1          000               17     39.15892              2016         33021   \n",
       "2  2.307.16223               65     14.42402              4488         20891   \n",
       "3    391.19251               62     10.51593              4261         15301   \n",
       "4          NaN              NaN          NaN               NaN           NaN   \n",
       "5          000               39     15.32224              3311         18048   \n",
       "\n",
       "0 valor_acumulado  \n",
       "1     1.714.65023  \n",
       "2             000  \n",
       "3             000  \n",
       "4             NaN  \n",
       "5       717.08075  "
      ]
     },
     "execution_count": 12,
     "metadata": {},
     "output_type": "execute_result"
    }
   ],
   "source": [
    "df.head()"
   ]
  },
  {
   "cell_type": "code",
   "execution_count": 13,
   "metadata": {},
   "outputs": [
    {
     "data": {
      "text/html": [
       "<div>\n",
       "<style scoped>\n",
       "    .dataframe tbody tr th:only-of-type {\n",
       "        vertical-align: middle;\n",
       "    }\n",
       "\n",
       "    .dataframe tbody tr th {\n",
       "        vertical-align: top;\n",
       "    }\n",
       "\n",
       "    .dataframe thead th {\n",
       "        text-align: right;\n",
       "    }\n",
       "</style>\n",
       "<table border=\"1\" class=\"dataframe\">\n",
       "  <thead>\n",
       "    <tr style=\"text-align: right;\">\n",
       "      <th></th>\n",
       "      <th>concurso</th>\n",
       "      <th>data_sorteio</th>\n",
       "      <th>1</th>\n",
       "      <th>2</th>\n",
       "      <th>3</th>\n",
       "      <th>4</th>\n",
       "      <th>5</th>\n",
       "      <th>6</th>\n",
       "      <th>ganhadores_sena</th>\n",
       "      <th>rateio_sena</th>\n",
       "      <th>ganhadores_quina</th>\n",
       "      <th>rateio_quina</th>\n",
       "      <th>ganhadores_quadra</th>\n",
       "      <th>rateio_quadra</th>\n",
       "      <th>valor_acumulado</th>\n",
       "    </tr>\n",
       "  </thead>\n",
       "  <tbody>\n",
       "    <tr>\n",
       "      <th>2376</th>\n",
       "      <td>Canal Eletrônico</td>\n",
       "      <td>XX</td>\n",
       "      <td>NaN</td>\n",
       "      <td>NaN</td>\n",
       "      <td>NaN</td>\n",
       "      <td>NaN</td>\n",
       "      <td>NaN</td>\n",
       "      <td>NaN</td>\n",
       "      <td>NaN</td>\n",
       "      <td>NaN</td>\n",
       "      <td>NaN</td>\n",
       "      <td>NaN</td>\n",
       "      <td>NaN</td>\n",
       "      <td>NaN</td>\n",
       "      <td>NaN</td>\n",
       "    </tr>\n",
       "    <tr>\n",
       "      <th>2377</th>\n",
       "      <td>Canal Eletrônico</td>\n",
       "      <td>XX</td>\n",
       "      <td>NaN</td>\n",
       "      <td>NaN</td>\n",
       "      <td>NaN</td>\n",
       "      <td>NaN</td>\n",
       "      <td>NaN</td>\n",
       "      <td>NaN</td>\n",
       "      <td>NaN</td>\n",
       "      <td>NaN</td>\n",
       "      <td>NaN</td>\n",
       "      <td>NaN</td>\n",
       "      <td>NaN</td>\n",
       "      <td>NaN</td>\n",
       "      <td>NaN</td>\n",
       "    </tr>\n",
       "    <tr>\n",
       "      <th>2378</th>\n",
       "      <td>Canal Eletrônico</td>\n",
       "      <td>XX</td>\n",
       "      <td>NaN</td>\n",
       "      <td>NaN</td>\n",
       "      <td>NaN</td>\n",
       "      <td>NaN</td>\n",
       "      <td>NaN</td>\n",
       "      <td>NaN</td>\n",
       "      <td>NaN</td>\n",
       "      <td>NaN</td>\n",
       "      <td>NaN</td>\n",
       "      <td>NaN</td>\n",
       "      <td>NaN</td>\n",
       "      <td>NaN</td>\n",
       "      <td>NaN</td>\n",
       "    </tr>\n",
       "    <tr>\n",
       "      <th>2379</th>\n",
       "      <td>2111</td>\n",
       "      <td>02/01/2019</td>\n",
       "      <td>54</td>\n",
       "      <td>41</td>\n",
       "      <td>01</td>\n",
       "      <td>46</td>\n",
       "      <td>58</td>\n",
       "      <td>44</td>\n",
       "      <td>0</td>\n",
       "      <td>000</td>\n",
       "      <td>4</td>\n",
       "      <td>169.33814</td>\n",
       "      <td>689</td>\n",
       "      <td>1.40442</td>\n",
       "      <td>1.247.75469</td>\n",
       "    </tr>\n",
       "    <tr>\n",
       "      <th>2380</th>\n",
       "      <td>2112</td>\n",
       "      <td>05/01/2019</td>\n",
       "      <td>17</td>\n",
       "      <td>46</td>\n",
       "      <td>43</td>\n",
       "      <td>53</td>\n",
       "      <td>52</td>\n",
       "      <td>39</td>\n",
       "      <td>0</td>\n",
       "      <td>000</td>\n",
       "      <td>34</td>\n",
       "      <td>48.93585</td>\n",
       "      <td>2547</td>\n",
       "      <td>93320</td>\n",
       "      <td>4.312.68425</td>\n",
       "    </tr>\n",
       "  </tbody>\n",
       "</table>\n",
       "</div>"
      ],
      "text/plain": [
       "0             concurso data_sorteio    1    2    3    4    5    6  \\\n",
       "2376  Canal Eletrônico           XX  NaN  NaN  NaN  NaN  NaN  NaN   \n",
       "2377  Canal Eletrônico           XX  NaN  NaN  NaN  NaN  NaN  NaN   \n",
       "2378  Canal Eletrônico           XX  NaN  NaN  NaN  NaN  NaN  NaN   \n",
       "2379              2111   02/01/2019   54   41   01   46   58   44   \n",
       "2380              2112   05/01/2019   17   46   43   53   52   39   \n",
       "\n",
       "0    ganhadores_sena rateio_sena ganhadores_quina rateio_quina  \\\n",
       "2376             NaN         NaN              NaN          NaN   \n",
       "2377             NaN         NaN              NaN          NaN   \n",
       "2378             NaN         NaN              NaN          NaN   \n",
       "2379               0         000                4    169.33814   \n",
       "2380               0         000               34     48.93585   \n",
       "\n",
       "0    ganhadores_quadra rateio_quadra valor_acumulado  \n",
       "2376               NaN           NaN             NaN  \n",
       "2377               NaN           NaN             NaN  \n",
       "2378               NaN           NaN             NaN  \n",
       "2379               689       1.40442     1.247.75469  \n",
       "2380              2547         93320     4.312.68425  "
      ]
     },
     "execution_count": 13,
     "metadata": {},
     "output_type": "execute_result"
    }
   ],
   "source": [
    "df.tail()"
   ]
  },
  {
   "cell_type": "markdown",
   "metadata": {},
   "source": [
    "### Dados nulos\n",
    "\n",
    "Observamos que a linha 4 esta com dados nulos, suas informações passaram para a linha 5 vamos verificar se temos mais linhas desta forma"
   ]
  },
  {
   "cell_type": "code",
   "execution_count": 14,
   "metadata": {},
   "outputs": [
    {
     "data": {
      "text/plain": [
       "(2380, 15)"
      ]
     },
     "execution_count": 14,
     "metadata": {},
     "output_type": "execute_result"
    }
   ],
   "source": [
    "df.shape"
   ]
  },
  {
   "cell_type": "code",
   "execution_count": 15,
   "metadata": {},
   "outputs": [
    {
     "name": "stdout",
     "output_type": "stream",
     "text": [
      "<class 'pandas.core.frame.DataFrame'>\n",
      "Int64Index: 2380 entries, 1 to 2380\n",
      "Data columns (total 15 columns):\n",
      "concurso             2296 non-null object\n",
      "data_sorteio         2380 non-null object\n",
      "1                    2112 non-null object\n",
      "2                    2112 non-null object\n",
      "3                    2112 non-null object\n",
      "4                    2112 non-null object\n",
      "5                    2112 non-null object\n",
      "6                    2112 non-null object\n",
      "ganhadores_sena      2112 non-null object\n",
      "rateio_sena          2112 non-null object\n",
      "ganhadores_quina     2112 non-null object\n",
      "rateio_quina         2112 non-null object\n",
      "ganhadores_quadra    2112 non-null object\n",
      "rateio_quadra        2112 non-null object\n",
      "valor_acumulado      2112 non-null object\n",
      "dtypes: object(15)\n",
      "memory usage: 297.5+ KB\n"
     ]
    }
   ],
   "source": [
    "df.info()"
   ]
  },
  {
   "cell_type": "markdown",
   "metadata": {},
   "source": [
    "Apenas a coluna __data_sorteio__ possui 2321 linhas"
   ]
  },
  {
   "cell_type": "code",
   "execution_count": 16,
   "metadata": {},
   "outputs": [
    {
     "data": {
      "text/plain": [
       "SP    119\n",
       "MG     24\n",
       "RJ     24\n",
       "PR     13\n",
       "RS     11\n",
       "BA     11\n",
       "PE      8\n",
       "SC      8\n",
       "PA      7\n",
       "CE      6\n",
       "Name: data_sorteio, dtype: int64"
      ]
     },
     "execution_count": 16,
     "metadata": {},
     "output_type": "execute_result"
    }
   ],
   "source": [
    "df['data_sorteio'].value_counts()[:10]"
   ]
  },
  {
   "cell_type": "markdown",
   "metadata": {},
   "source": [
    "Podemos ver que o erro da linha 4 (estar preenchida com estado) se repete em outras colunas, iremos remover então as linhas que possuem valor nulo em concurso"
   ]
  },
  {
   "cell_type": "code",
   "execution_count": 17,
   "metadata": {},
   "outputs": [],
   "source": [
    "# Removendo os valores nulos\n",
    "\n",
    "df.dropna(subset=['1'], how=\"any\", inplace=True)"
   ]
  },
  {
   "cell_type": "code",
   "execution_count": 18,
   "metadata": {},
   "outputs": [],
   "source": [
    "# Reindexando as linhas\n",
    "\n",
    "df.reset_index(drop=True, inplace=True)"
   ]
  },
  {
   "cell_type": "code",
   "execution_count": 19,
   "metadata": {},
   "outputs": [
    {
     "data": {
      "text/html": [
       "<div>\n",
       "<style scoped>\n",
       "    .dataframe tbody tr th:only-of-type {\n",
       "        vertical-align: middle;\n",
       "    }\n",
       "\n",
       "    .dataframe tbody tr th {\n",
       "        vertical-align: top;\n",
       "    }\n",
       "\n",
       "    .dataframe thead th {\n",
       "        text-align: right;\n",
       "    }\n",
       "</style>\n",
       "<table border=\"1\" class=\"dataframe\">\n",
       "  <thead>\n",
       "    <tr style=\"text-align: right;\">\n",
       "      <th></th>\n",
       "      <th>concurso</th>\n",
       "      <th>data_sorteio</th>\n",
       "      <th>1</th>\n",
       "      <th>2</th>\n",
       "      <th>3</th>\n",
       "      <th>4</th>\n",
       "      <th>5</th>\n",
       "      <th>6</th>\n",
       "      <th>ganhadores_sena</th>\n",
       "      <th>rateio_sena</th>\n",
       "      <th>ganhadores_quina</th>\n",
       "      <th>rateio_quina</th>\n",
       "      <th>ganhadores_quadra</th>\n",
       "      <th>rateio_quadra</th>\n",
       "      <th>valor_acumulado</th>\n",
       "    </tr>\n",
       "  </thead>\n",
       "  <tbody>\n",
       "    <tr>\n",
       "      <th>0</th>\n",
       "      <td>1</td>\n",
       "      <td>11/03/1996</td>\n",
       "      <td>41</td>\n",
       "      <td>05</td>\n",
       "      <td>04</td>\n",
       "      <td>52</td>\n",
       "      <td>30</td>\n",
       "      <td>33</td>\n",
       "      <td>0</td>\n",
       "      <td>000</td>\n",
       "      <td>17</td>\n",
       "      <td>39.15892</td>\n",
       "      <td>2016</td>\n",
       "      <td>33021</td>\n",
       "      <td>1.714.65023</td>\n",
       "    </tr>\n",
       "    <tr>\n",
       "      <th>1</th>\n",
       "      <td>2</td>\n",
       "      <td>18/03/1996</td>\n",
       "      <td>09</td>\n",
       "      <td>39</td>\n",
       "      <td>37</td>\n",
       "      <td>49</td>\n",
       "      <td>43</td>\n",
       "      <td>41</td>\n",
       "      <td>1</td>\n",
       "      <td>2.307.16223</td>\n",
       "      <td>65</td>\n",
       "      <td>14.42402</td>\n",
       "      <td>4488</td>\n",
       "      <td>20891</td>\n",
       "      <td>000</td>\n",
       "    </tr>\n",
       "    <tr>\n",
       "      <th>2</th>\n",
       "      <td>3</td>\n",
       "      <td>25/03/1996</td>\n",
       "      <td>36</td>\n",
       "      <td>30</td>\n",
       "      <td>10</td>\n",
       "      <td>11</td>\n",
       "      <td>29</td>\n",
       "      <td>47</td>\n",
       "      <td>2</td>\n",
       "      <td>391.19251</td>\n",
       "      <td>62</td>\n",
       "      <td>10.51593</td>\n",
       "      <td>4261</td>\n",
       "      <td>15301</td>\n",
       "      <td>000</td>\n",
       "    </tr>\n",
       "    <tr>\n",
       "      <th>3</th>\n",
       "      <td>4</td>\n",
       "      <td>01/04/1996</td>\n",
       "      <td>06</td>\n",
       "      <td>59</td>\n",
       "      <td>42</td>\n",
       "      <td>27</td>\n",
       "      <td>01</td>\n",
       "      <td>05</td>\n",
       "      <td>0</td>\n",
       "      <td>000</td>\n",
       "      <td>39</td>\n",
       "      <td>15.32224</td>\n",
       "      <td>3311</td>\n",
       "      <td>18048</td>\n",
       "      <td>717.08075</td>\n",
       "    </tr>\n",
       "    <tr>\n",
       "      <th>4</th>\n",
       "      <td>5</td>\n",
       "      <td>08/04/1996</td>\n",
       "      <td>01</td>\n",
       "      <td>19</td>\n",
       "      <td>46</td>\n",
       "      <td>06</td>\n",
       "      <td>16</td>\n",
       "      <td>02</td>\n",
       "      <td>0</td>\n",
       "      <td>000</td>\n",
       "      <td>98</td>\n",
       "      <td>5.31810</td>\n",
       "      <td>5399</td>\n",
       "      <td>9653</td>\n",
       "      <td>1.342.48885</td>\n",
       "    </tr>\n",
       "  </tbody>\n",
       "</table>\n",
       "</div>"
      ],
      "text/plain": [
       "0 concurso data_sorteio   1   2   3   4   5   6 ganhadores_sena  rateio_sena  \\\n",
       "0        1   11/03/1996  41  05  04  52  30  33               0          000   \n",
       "1        2   18/03/1996  09  39  37  49  43  41               1  2.307.16223   \n",
       "2        3   25/03/1996  36  30  10  11  29  47               2    391.19251   \n",
       "3        4   01/04/1996  06  59  42  27  01  05               0          000   \n",
       "4        5   08/04/1996  01  19  46  06  16  02               0          000   \n",
       "\n",
       "0 ganhadores_quina rateio_quina ganhadores_quadra rateio_quadra  \\\n",
       "0               17     39.15892              2016         33021   \n",
       "1               65     14.42402              4488         20891   \n",
       "2               62     10.51593              4261         15301   \n",
       "3               39     15.32224              3311         18048   \n",
       "4               98      5.31810              5399          9653   \n",
       "\n",
       "0 valor_acumulado  \n",
       "0     1.714.65023  \n",
       "1             000  \n",
       "2             000  \n",
       "3       717.08075  \n",
       "4     1.342.48885  "
      ]
     },
     "execution_count": 19,
     "metadata": {},
     "output_type": "execute_result"
    }
   ],
   "source": [
    "df.head()"
   ]
  },
  {
   "cell_type": "code",
   "execution_count": 20,
   "metadata": {},
   "outputs": [
    {
     "name": "stdout",
     "output_type": "stream",
     "text": [
      "<class 'pandas.core.frame.DataFrame'>\n",
      "RangeIndex: 2112 entries, 0 to 2111\n",
      "Data columns (total 15 columns):\n",
      "concurso             2112 non-null object\n",
      "data_sorteio         2112 non-null object\n",
      "1                    2112 non-null object\n",
      "2                    2112 non-null object\n",
      "3                    2112 non-null object\n",
      "4                    2112 non-null object\n",
      "5                    2112 non-null object\n",
      "6                    2112 non-null object\n",
      "ganhadores_sena      2112 non-null object\n",
      "rateio_sena          2112 non-null object\n",
      "ganhadores_quina     2112 non-null object\n",
      "rateio_quina         2112 non-null object\n",
      "ganhadores_quadra    2112 non-null object\n",
      "rateio_quadra        2112 non-null object\n",
      "valor_acumulado      2112 non-null object\n",
      "dtypes: object(15)\n",
      "memory usage: 247.6+ KB\n"
     ]
    }
   ],
   "source": [
    "df.info()"
   ]
  },
  {
   "cell_type": "markdown",
   "metadata": {},
   "source": [
    "Agora todas as colunas possuem a mesma quantidade de linhas"
   ]
  },
  {
   "cell_type": "markdown",
   "metadata": {},
   "source": [
    "### Tipagem\n",
    "\n",
    "A coluna data_sorteio será convertida para datetime, rateios para float e as demais para inteiro"
   ]
  },
  {
   "cell_type": "code",
   "execution_count": 21,
   "metadata": {},
   "outputs": [],
   "source": [
    "# Convertendo a coluna data_sorteio para datetime\n",
    "df['data_sorteio'] = pd.to_datetime(df['data_sorteio'])"
   ]
  },
  {
   "cell_type": "code",
   "execution_count": 22,
   "metadata": {},
   "outputs": [],
   "source": [
    "# Inserindo uma coluna com o ano de cada sorteio\n",
    "\n",
    "df['ano'] = df['data_sorteio'].dt.year"
   ]
  },
  {
   "cell_type": "markdown",
   "metadata": {},
   "source": [
    "#### Problemas com as casas decimais\n",
    "Ao analisar os valores nos passos futuros, verificamos que as casas decimais ficaram a esquerda do .\n",
    "Para resolver a questão iremos e remover os dois ultimos numeros, descartando o valor dos decimais, como estamos trabalhando com valores na casa dos __milhões__ alguns __centavos__ não atrapalham nossos resultados."
   ]
  },
  {
   "cell_type": "code",
   "execution_count": 23,
   "metadata": {},
   "outputs": [],
   "source": [
    "# Colunas que possuem os valores que serão tratados\n",
    "colunas_valores = ['rateio_sena','rateio_quina','rateio_quadra','valor_acumulado'] #colunas que serão convertidas para float"
   ]
  },
  {
   "cell_type": "code",
   "execution_count": 24,
   "metadata": {},
   "outputs": [],
   "source": [
    "# Criando uma copia de cada coluna para o caso de erros na conversão ser fácil a recuperação\n",
    "pos = 0\n",
    "copia = pd.DataFrame()\n",
    "for coluna in colunas_valores:\n",
    "    copia[coluna] = df[coluna]\n",
    "    pos += 1"
   ]
  },
  {
   "cell_type": "code",
   "execution_count": 25,
   "metadata": {},
   "outputs": [
    {
     "name": "stdout",
     "output_type": "stream",
     "text": [
      "0            000\n",
      "1    2.307.16223\n",
      "2      391.19251\n",
      "Name: rateio_sena, dtype: object\n",
      "0    39.15892\n",
      "1    14.42402\n",
      "2    10.51593\n",
      "Name: rateio_quina, dtype: object\n",
      "0    33021\n",
      "1    20891\n",
      "2    15301\n",
      "Name: rateio_quadra, dtype: object\n",
      "0    1.714.65023\n",
      "1            000\n",
      "2            000\n",
      "Name: valor_acumulado, dtype: object\n"
     ]
    }
   ],
   "source": [
    "# Conferindo se a copia foi feita\n",
    "\n",
    "for coluna in colunas_valores:\n",
    "    print(copia[coluna].head(3))"
   ]
  },
  {
   "cell_type": "code",
   "execution_count": 26,
   "metadata": {},
   "outputs": [],
   "source": [
    "# Trabalhando com os valores\n",
    "\n",
    "for coluna in colunas_valores:\n",
    "    df[coluna] = df[coluna].str.replace('.','') #removendo o . dos valores"
   ]
  },
  {
   "cell_type": "code",
   "execution_count": 27,
   "metadata": {},
   "outputs": [
    {
     "data": {
      "text/html": [
       "<div>\n",
       "<style scoped>\n",
       "    .dataframe tbody tr th:only-of-type {\n",
       "        vertical-align: middle;\n",
       "    }\n",
       "\n",
       "    .dataframe tbody tr th {\n",
       "        vertical-align: top;\n",
       "    }\n",
       "\n",
       "    .dataframe thead th {\n",
       "        text-align: right;\n",
       "    }\n",
       "</style>\n",
       "<table border=\"1\" class=\"dataframe\">\n",
       "  <thead>\n",
       "    <tr style=\"text-align: right;\">\n",
       "      <th></th>\n",
       "      <th>concurso</th>\n",
       "      <th>data_sorteio</th>\n",
       "      <th>1</th>\n",
       "      <th>2</th>\n",
       "      <th>3</th>\n",
       "      <th>4</th>\n",
       "      <th>5</th>\n",
       "      <th>6</th>\n",
       "      <th>ganhadores_sena</th>\n",
       "      <th>rateio_sena</th>\n",
       "      <th>ganhadores_quina</th>\n",
       "      <th>rateio_quina</th>\n",
       "      <th>ganhadores_quadra</th>\n",
       "      <th>rateio_quadra</th>\n",
       "      <th>valor_acumulado</th>\n",
       "      <th>ano</th>\n",
       "    </tr>\n",
       "  </thead>\n",
       "  <tbody>\n",
       "    <tr>\n",
       "      <th>0</th>\n",
       "      <td>1</td>\n",
       "      <td>1996-11-03</td>\n",
       "      <td>41</td>\n",
       "      <td>05</td>\n",
       "      <td>04</td>\n",
       "      <td>52</td>\n",
       "      <td>30</td>\n",
       "      <td>33</td>\n",
       "      <td>0</td>\n",
       "      <td>000</td>\n",
       "      <td>17</td>\n",
       "      <td>3915892</td>\n",
       "      <td>2016</td>\n",
       "      <td>33021</td>\n",
       "      <td>171465023</td>\n",
       "      <td>1996</td>\n",
       "    </tr>\n",
       "    <tr>\n",
       "      <th>1</th>\n",
       "      <td>2</td>\n",
       "      <td>1996-03-18</td>\n",
       "      <td>09</td>\n",
       "      <td>39</td>\n",
       "      <td>37</td>\n",
       "      <td>49</td>\n",
       "      <td>43</td>\n",
       "      <td>41</td>\n",
       "      <td>1</td>\n",
       "      <td>230716223</td>\n",
       "      <td>65</td>\n",
       "      <td>1442402</td>\n",
       "      <td>4488</td>\n",
       "      <td>20891</td>\n",
       "      <td>000</td>\n",
       "      <td>1996</td>\n",
       "    </tr>\n",
       "    <tr>\n",
       "      <th>2</th>\n",
       "      <td>3</td>\n",
       "      <td>1996-03-25</td>\n",
       "      <td>36</td>\n",
       "      <td>30</td>\n",
       "      <td>10</td>\n",
       "      <td>11</td>\n",
       "      <td>29</td>\n",
       "      <td>47</td>\n",
       "      <td>2</td>\n",
       "      <td>39119251</td>\n",
       "      <td>62</td>\n",
       "      <td>1051593</td>\n",
       "      <td>4261</td>\n",
       "      <td>15301</td>\n",
       "      <td>000</td>\n",
       "      <td>1996</td>\n",
       "    </tr>\n",
       "    <tr>\n",
       "      <th>3</th>\n",
       "      <td>4</td>\n",
       "      <td>1996-01-04</td>\n",
       "      <td>06</td>\n",
       "      <td>59</td>\n",
       "      <td>42</td>\n",
       "      <td>27</td>\n",
       "      <td>01</td>\n",
       "      <td>05</td>\n",
       "      <td>0</td>\n",
       "      <td>000</td>\n",
       "      <td>39</td>\n",
       "      <td>1532224</td>\n",
       "      <td>3311</td>\n",
       "      <td>18048</td>\n",
       "      <td>71708075</td>\n",
       "      <td>1996</td>\n",
       "    </tr>\n",
       "    <tr>\n",
       "      <th>4</th>\n",
       "      <td>5</td>\n",
       "      <td>1996-08-04</td>\n",
       "      <td>01</td>\n",
       "      <td>19</td>\n",
       "      <td>46</td>\n",
       "      <td>06</td>\n",
       "      <td>16</td>\n",
       "      <td>02</td>\n",
       "      <td>0</td>\n",
       "      <td>000</td>\n",
       "      <td>98</td>\n",
       "      <td>531810</td>\n",
       "      <td>5399</td>\n",
       "      <td>9653</td>\n",
       "      <td>134248885</td>\n",
       "      <td>1996</td>\n",
       "    </tr>\n",
       "  </tbody>\n",
       "</table>\n",
       "</div>"
      ],
      "text/plain": [
       "0 concurso data_sorteio   1   2   3   4   5   6 ganhadores_sena rateio_sena  \\\n",
       "0        1   1996-11-03  41  05  04  52  30  33               0         000   \n",
       "1        2   1996-03-18  09  39  37  49  43  41               1   230716223   \n",
       "2        3   1996-03-25  36  30  10  11  29  47               2    39119251   \n",
       "3        4   1996-01-04  06  59  42  27  01  05               0         000   \n",
       "4        5   1996-08-04  01  19  46  06  16  02               0         000   \n",
       "\n",
       "0 ganhadores_quina rateio_quina ganhadores_quadra rateio_quadra  \\\n",
       "0               17      3915892              2016         33021   \n",
       "1               65      1442402              4488         20891   \n",
       "2               62      1051593              4261         15301   \n",
       "3               39      1532224              3311         18048   \n",
       "4               98       531810              5399          9653   \n",
       "\n",
       "0 valor_acumulado   ano  \n",
       "0       171465023  1996  \n",
       "1             000  1996  \n",
       "2             000  1996  \n",
       "3        71708075  1996  \n",
       "4       134248885  1996  "
      ]
     },
     "execution_count": 27,
     "metadata": {},
     "output_type": "execute_result"
    }
   ],
   "source": [
    "df.head()"
   ]
  },
  {
   "cell_type": "code",
   "execution_count": 28,
   "metadata": {},
   "outputs": [],
   "source": [
    "# Removendo o dois ultimos numeros das colunas de ratio\n",
    "\n",
    "for coluna in colunas_valores:\n",
    "    temp = df[coluna].copy() #criando uma copia temporaria das informações da coluna\n",
    "    pos = 0 #variavel criada para posicionar a atualização\n",
    "    for valor in temp: #para cada valor\n",
    "        temp[pos] = valor[:-2] #atualizar o valor para ele mesmo removendo sem as ultimas duas posições\n",
    "        pos += 1 \n",
    "    df[coluna] = temp #copiar o conteudo da copia temporaria para a coluna"
   ]
  },
  {
   "cell_type": "code",
   "execution_count": 29,
   "metadata": {},
   "outputs": [
    {
     "data": {
      "text/html": [
       "<div>\n",
       "<style scoped>\n",
       "    .dataframe tbody tr th:only-of-type {\n",
       "        vertical-align: middle;\n",
       "    }\n",
       "\n",
       "    .dataframe tbody tr th {\n",
       "        vertical-align: top;\n",
       "    }\n",
       "\n",
       "    .dataframe thead th {\n",
       "        text-align: right;\n",
       "    }\n",
       "</style>\n",
       "<table border=\"1\" class=\"dataframe\">\n",
       "  <thead>\n",
       "    <tr style=\"text-align: right;\">\n",
       "      <th></th>\n",
       "      <th>concurso</th>\n",
       "      <th>data_sorteio</th>\n",
       "      <th>1</th>\n",
       "      <th>2</th>\n",
       "      <th>3</th>\n",
       "      <th>4</th>\n",
       "      <th>5</th>\n",
       "      <th>6</th>\n",
       "      <th>ganhadores_sena</th>\n",
       "      <th>rateio_sena</th>\n",
       "      <th>ganhadores_quina</th>\n",
       "      <th>rateio_quina</th>\n",
       "      <th>ganhadores_quadra</th>\n",
       "      <th>rateio_quadra</th>\n",
       "      <th>valor_acumulado</th>\n",
       "      <th>ano</th>\n",
       "    </tr>\n",
       "  </thead>\n",
       "  <tbody>\n",
       "    <tr>\n",
       "      <th>0</th>\n",
       "      <td>1</td>\n",
       "      <td>1996-11-03</td>\n",
       "      <td>41</td>\n",
       "      <td>05</td>\n",
       "      <td>04</td>\n",
       "      <td>52</td>\n",
       "      <td>30</td>\n",
       "      <td>33</td>\n",
       "      <td>0</td>\n",
       "      <td>0</td>\n",
       "      <td>17</td>\n",
       "      <td>39158</td>\n",
       "      <td>2016</td>\n",
       "      <td>330</td>\n",
       "      <td>1714650</td>\n",
       "      <td>1996</td>\n",
       "    </tr>\n",
       "    <tr>\n",
       "      <th>1</th>\n",
       "      <td>2</td>\n",
       "      <td>1996-03-18</td>\n",
       "      <td>09</td>\n",
       "      <td>39</td>\n",
       "      <td>37</td>\n",
       "      <td>49</td>\n",
       "      <td>43</td>\n",
       "      <td>41</td>\n",
       "      <td>1</td>\n",
       "      <td>2307162</td>\n",
       "      <td>65</td>\n",
       "      <td>14424</td>\n",
       "      <td>4488</td>\n",
       "      <td>208</td>\n",
       "      <td>0</td>\n",
       "      <td>1996</td>\n",
       "    </tr>\n",
       "    <tr>\n",
       "      <th>2</th>\n",
       "      <td>3</td>\n",
       "      <td>1996-03-25</td>\n",
       "      <td>36</td>\n",
       "      <td>30</td>\n",
       "      <td>10</td>\n",
       "      <td>11</td>\n",
       "      <td>29</td>\n",
       "      <td>47</td>\n",
       "      <td>2</td>\n",
       "      <td>391192</td>\n",
       "      <td>62</td>\n",
       "      <td>10515</td>\n",
       "      <td>4261</td>\n",
       "      <td>153</td>\n",
       "      <td>0</td>\n",
       "      <td>1996</td>\n",
       "    </tr>\n",
       "    <tr>\n",
       "      <th>3</th>\n",
       "      <td>4</td>\n",
       "      <td>1996-01-04</td>\n",
       "      <td>06</td>\n",
       "      <td>59</td>\n",
       "      <td>42</td>\n",
       "      <td>27</td>\n",
       "      <td>01</td>\n",
       "      <td>05</td>\n",
       "      <td>0</td>\n",
       "      <td>0</td>\n",
       "      <td>39</td>\n",
       "      <td>15322</td>\n",
       "      <td>3311</td>\n",
       "      <td>180</td>\n",
       "      <td>717080</td>\n",
       "      <td>1996</td>\n",
       "    </tr>\n",
       "    <tr>\n",
       "      <th>4</th>\n",
       "      <td>5</td>\n",
       "      <td>1996-08-04</td>\n",
       "      <td>01</td>\n",
       "      <td>19</td>\n",
       "      <td>46</td>\n",
       "      <td>06</td>\n",
       "      <td>16</td>\n",
       "      <td>02</td>\n",
       "      <td>0</td>\n",
       "      <td>0</td>\n",
       "      <td>98</td>\n",
       "      <td>5318</td>\n",
       "      <td>5399</td>\n",
       "      <td>96</td>\n",
       "      <td>1342488</td>\n",
       "      <td>1996</td>\n",
       "    </tr>\n",
       "  </tbody>\n",
       "</table>\n",
       "</div>"
      ],
      "text/plain": [
       "0 concurso data_sorteio   1   2   3   4   5   6 ganhadores_sena rateio_sena  \\\n",
       "0        1   1996-11-03  41  05  04  52  30  33               0           0   \n",
       "1        2   1996-03-18  09  39  37  49  43  41               1     2307162   \n",
       "2        3   1996-03-25  36  30  10  11  29  47               2      391192   \n",
       "3        4   1996-01-04  06  59  42  27  01  05               0           0   \n",
       "4        5   1996-08-04  01  19  46  06  16  02               0           0   \n",
       "\n",
       "0 ganhadores_quina rateio_quina ganhadores_quadra rateio_quadra  \\\n",
       "0               17        39158              2016           330   \n",
       "1               65        14424              4488           208   \n",
       "2               62        10515              4261           153   \n",
       "3               39        15322              3311           180   \n",
       "4               98         5318              5399            96   \n",
       "\n",
       "0 valor_acumulado   ano  \n",
       "0         1714650  1996  \n",
       "1               0  1996  \n",
       "2               0  1996  \n",
       "3          717080  1996  \n",
       "4         1342488  1996  "
      ]
     },
     "execution_count": 29,
     "metadata": {},
     "output_type": "execute_result"
    }
   ],
   "source": [
    "# Conferindo os valores\n",
    "df.head()"
   ]
  },
  {
   "cell_type": "code",
   "execution_count": 30,
   "metadata": {},
   "outputs": [
    {
     "name": "stdout",
     "output_type": "stream",
     "text": [
      "<class 'pandas.core.frame.DataFrame'>\n",
      "RangeIndex: 2112 entries, 0 to 2111\n",
      "Data columns (total 16 columns):\n",
      "concurso             2112 non-null object\n",
      "data_sorteio         2112 non-null datetime64[ns]\n",
      "1                    2112 non-null object\n",
      "2                    2112 non-null object\n",
      "3                    2112 non-null object\n",
      "4                    2112 non-null object\n",
      "5                    2112 non-null object\n",
      "6                    2112 non-null object\n",
      "ganhadores_sena      2112 non-null object\n",
      "rateio_sena          2112 non-null object\n",
      "ganhadores_quina     2112 non-null object\n",
      "rateio_quina         2112 non-null object\n",
      "ganhadores_quadra    2112 non-null object\n",
      "rateio_quadra        2112 non-null object\n",
      "valor_acumulado      2112 non-null object\n",
      "ano                  2112 non-null int64\n",
      "dtypes: datetime64[ns](1), int64(1), object(14)\n",
      "memory usage: 264.1+ KB\n"
     ]
    }
   ],
   "source": [
    "df.info()"
   ]
  },
  {
   "cell_type": "code",
   "execution_count": 31,
   "metadata": {},
   "outputs": [],
   "source": [
    "# Convertendo as colunas para inteiro\n",
    "\n",
    "colunas_int = ['concurso','rateio_sena','rateio_quina','rateio_quadra','1','2','3','4','5','6',\n",
    "               'ganhadores_sena','ganhadores_quina','ganhadores_quadra','valor_acumulado']\n",
    "\n",
    "for coluna in colunas_int:\n",
    "    df[coluna] = df[coluna].astype(int)"
   ]
  },
  {
   "cell_type": "code",
   "execution_count": 32,
   "metadata": {},
   "outputs": [
    {
     "name": "stdout",
     "output_type": "stream",
     "text": [
      "<class 'pandas.core.frame.DataFrame'>\n",
      "RangeIndex: 2112 entries, 0 to 2111\n",
      "Data columns (total 16 columns):\n",
      "concurso             2112 non-null int32\n",
      "data_sorteio         2112 non-null datetime64[ns]\n",
      "1                    2112 non-null int32\n",
      "2                    2112 non-null int32\n",
      "3                    2112 non-null int32\n",
      "4                    2112 non-null int32\n",
      "5                    2112 non-null int32\n",
      "6                    2112 non-null int32\n",
      "ganhadores_sena      2112 non-null int32\n",
      "rateio_sena          2112 non-null int32\n",
      "ganhadores_quina     2112 non-null int32\n",
      "rateio_quina         2112 non-null int32\n",
      "ganhadores_quadra    2112 non-null int32\n",
      "rateio_quadra        2112 non-null int32\n",
      "valor_acumulado      2112 non-null int32\n",
      "ano                  2112 non-null int64\n",
      "dtypes: datetime64[ns](1), int32(14), int64(1)\n",
      "memory usage: 148.6 KB\n"
     ]
    }
   ],
   "source": [
    "df.info()"
   ]
  },
  {
   "cell_type": "code",
   "execution_count": 33,
   "metadata": {},
   "outputs": [],
   "source": [
    "# 2.500.000.000\n",
    "num_teste = 2500000000.00"
   ]
  },
  {
   "cell_type": "markdown",
   "metadata": {},
   "source": [
    "### Funções"
   ]
  },
  {
   "cell_type": "code",
   "execution_count": 34,
   "metadata": {},
   "outputs": [],
   "source": [
    "def formato_brl(valor):\n",
    "    \"\"\"\n",
    "    Função para converter numeração para formato moeda BRL\n",
    "    argumentos: valor = valor que será tratado\n",
    "    retorna: valor formato     \n",
    "    \"\"\"\n",
    "    temp = str(int(valor))[::-1]\n",
    "    cont = 1\n",
    "    novo_valor = ''\n",
    "    for digito in temp:\n",
    "        if cont == 4:\n",
    "            novo_valor = '.' + novo_valor\n",
    "            cont = 1\n",
    "        novo_valor = digito + novo_valor\n",
    "        cont += 1\n",
    "    novo_valor = novo_valor + ',00'\n",
    "    novo_valor = 'R$ ' + novo_valor\n",
    "    return novo_valor"
   ]
  },
  {
   "cell_type": "code",
   "execution_count": 35,
   "metadata": {},
   "outputs": [
    {
     "data": {
      "text/plain": [
       "'R$ 2.500.000.000,00'"
      ]
     },
     "execution_count": 35,
     "metadata": {},
     "output_type": "execute_result"
    }
   ],
   "source": [
    "# Testando e conferindo a função\n",
    "formato_brl(num_teste)"
   ]
  },
  {
   "cell_type": "markdown",
   "metadata": {},
   "source": [
    "__Obs.:__ Depois de elaborar a função, localizei uma [artigo](http://blog.alura.com.br/formatando-moeda-no-python/) falando da biblioteca locale. [Exemplo](https://pt.stackoverflow.com/questions/66183/como-retornar-um-valor-no-formato-moeda-brasileiro-na-view-do-django) de aplicação da função para moeda brasileira.\n",
    "\n",
    "__Como já elaborei a função, manterei o meu código utilizando ela__"
   ]
  },
  {
   "cell_type": "markdown",
   "metadata": {},
   "source": [
    "### Analisando nosso DF"
   ]
  },
  {
   "cell_type": "code",
   "execution_count": 36,
   "metadata": {},
   "outputs": [
    {
     "data": {
      "text/plain": [
       "0\n",
       "concurso                               4\n",
       "data_sorteio         1996-01-04 00:00:00\n",
       "1                                      6\n",
       "2                                     59\n",
       "3                                     42\n",
       "4                                     27\n",
       "5                                      1\n",
       "6                                      5\n",
       "ganhadores_sena                        0\n",
       "rateio_sena                            0\n",
       "ganhadores_quina                      39\n",
       "rateio_quina                       15322\n",
       "ganhadores_quadra                   3311\n",
       "rateio_quadra                        180\n",
       "valor_acumulado                   717080\n",
       "ano                                 1996\n",
       "Name: 3, dtype: object"
      ]
     },
     "execution_count": 36,
     "metadata": {},
     "output_type": "execute_result"
    }
   ],
   "source": [
    "# Primeiro sorteio que consta em nosso df\n",
    "\n",
    "df.loc[df['data_sorteio'].idxmin()]"
   ]
  },
  {
   "cell_type": "code",
   "execution_count": 37,
   "metadata": {},
   "outputs": [
    {
     "data": {
      "text/plain": [
       "0\n",
       "concurso                            2112\n",
       "data_sorteio         2019-05-01 00:00:00\n",
       "1                                     17\n",
       "2                                     46\n",
       "3                                     43\n",
       "4                                     53\n",
       "5                                     52\n",
       "6                                     39\n",
       "ganhadores_sena                        0\n",
       "rateio_sena                            0\n",
       "ganhadores_quina                      34\n",
       "rateio_quina                       48935\n",
       "ganhadores_quadra                   2547\n",
       "rateio_quadra                        933\n",
       "valor_acumulado                  4312684\n",
       "ano                                 2019\n",
       "Name: 2111, dtype: object"
      ]
     },
     "execution_count": 37,
     "metadata": {},
     "output_type": "execute_result"
    }
   ],
   "source": [
    "# Último sorteio que consta em nosso df\n",
    "\n",
    "df.loc[df['data_sorteio'].idxmax()]"
   ]
  },
  {
   "cell_type": "code",
   "execution_count": 38,
   "metadata": {},
   "outputs": [
    {
     "data": {
      "text/plain": [
       "0\n",
       "concurso                             529\n",
       "data_sorteio         2004-01-14 00:00:00\n",
       "1                                     56\n",
       "2                                     45\n",
       "3                                     13\n",
       "4                                     33\n",
       "5                                     38\n",
       "6                                      1\n",
       "ganhadores_sena                       15\n",
       "rateio_sena                       348732\n",
       "ganhadores_quina                      87\n",
       "rateio_quina                        8565\n",
       "ganhadores_quadra                   4758\n",
       "rateio_quadra                        156\n",
       "valor_acumulado                        0\n",
       "ano                                 2004\n",
       "Name: 528, dtype: object"
      ]
     },
     "execution_count": 38,
     "metadata": {},
     "output_type": "execute_result"
    }
   ],
   "source": [
    "# Menor valor pago na SENA\n",
    "\n",
    "df.loc[df[df['rateio_sena'] != 0]['rateio_sena'].idxmin()]"
   ]
  },
  {
   "cell_type": "code",
   "execution_count": 39,
   "metadata": {},
   "outputs": [
    {
     "data": {
      "text/plain": [
       "0\n",
       "concurso                            1764\n",
       "data_sorteio         2015-11-25 00:00:00\n",
       "1                                      6\n",
       "2                                      7\n",
       "3                                     41\n",
       "4                                     39\n",
       "5                                     29\n",
       "6                                     55\n",
       "ganhadores_sena                        1\n",
       "rateio_sena                    205329753\n",
       "ganhadores_quina                     401\n",
       "rateio_quina                       58622\n",
       "ganhadores_quadra                  33850\n",
       "rateio_quadra                        992\n",
       "valor_acumulado                        0\n",
       "ano                                 2015\n",
       "Name: 1763, dtype: object"
      ]
     },
     "execution_count": 39,
     "metadata": {},
     "output_type": "execute_result"
    }
   ],
   "source": [
    "# Maior valor pago na SENA\n",
    "\n",
    "index = df['rateio_sena'].idxmax()\n",
    "df.loc[index]"
   ]
  },
  {
   "cell_type": "code",
   "execution_count": 40,
   "metadata": {},
   "outputs": [
    {
     "name": "stdout",
     "output_type": "stream",
     "text": [
      "O valor TOTAL pago em premiações pela SENA é de R$ 9.202.455.059,00\n"
     ]
    }
   ],
   "source": [
    "# Total pago em premiões da SENA\n",
    "\n",
    "valor = formato_brl(df['rateio_sena'].sum())\n",
    "print('O valor TOTAL pago em premiações pela SENA é de {}'\n",
    "     .format(valor))"
   ]
  },
  {
   "cell_type": "code",
   "execution_count": 41,
   "metadata": {},
   "outputs": [
    {
     "data": {
      "text/plain": [
       "0\n",
       "concurso                            2110\n",
       "data_sorteio         2018-12-31 00:00:00\n",
       "1                                     25\n",
       "2                                     33\n",
       "3                                     10\n",
       "4                                     12\n",
       "5                                     18\n",
       "6                                      5\n",
       "ganhadores_sena                       52\n",
       "rateio_sena                      5818007\n",
       "ganhadores_quina                    7688\n",
       "rateio_quina                        6644\n",
       "ganhadores_quadra                 303857\n",
       "rateio_quadra                        240\n",
       "valor_acumulado                        0\n",
       "ano                                 2018\n",
       "Name: 2109, dtype: object"
      ]
     },
     "execution_count": 41,
     "metadata": {},
     "output_type": "execute_result"
    }
   ],
   "source": [
    "# Jogo com maior numero de ganhadores da SENA\n",
    "\n",
    "index = df['ganhadores_sena'].idxmax\n",
    "df.loc[index]"
   ]
  },
  {
   "cell_type": "code",
   "execution_count": 42,
   "metadata": {},
   "outputs": [
    {
     "name": "stdout",
     "output_type": "stream",
     "text": [
      "No sorteio com maior números de ganhadores da Sena, cada ganhador levou R$ 111.884,00\n"
     ]
    }
   ],
   "source": [
    "dividido = formato_brl(df['rateio_sena'].loc[index] / df['ganhadores_sena'].loc[index])\n",
    "print('No sorteio com maior números de ganhadores da Sena, cada ganhador levou {}'\n",
    "     .format(dividido))"
   ]
  },
  {
   "cell_type": "markdown",
   "metadata": {},
   "source": [
    "### Valor ARRECADADO\n",
    "\n",
    "Sabendo que o prêmio bruto corresponde a __43,35%__ da arrecadação, vamos verificar qual foi o __valor total__ arrecadado na maior premiação da SENA."
   ]
  },
  {
   "cell_type": "code",
   "execution_count": 43,
   "metadata": {},
   "outputs": [],
   "source": [
    "#convertendo o valor para int64 usando o numpy devido ao tamanho do valor final\n",
    "\n",
    "valor = np.int64(df['rateio_sena'].max())\n",
    "arrecadado = formato_brl(((valor * 100) / 43.3))"
   ]
  },
  {
   "cell_type": "code",
   "execution_count": 44,
   "metadata": {},
   "outputs": [
    {
     "name": "stdout",
     "output_type": "stream",
     "text": [
      "O maior valor de premiação foi de R$ 205.329.753,00\n",
      "O VALOR TOTAL arrecadado neste sorteio foi de R$ 474.202.662,00\n"
     ]
    }
   ],
   "source": [
    "print('O maior valor de premiação foi de {}'\n",
    "      .format(formato_brl(valor)))\n",
    "print('O VALOR TOTAL arrecadado neste sorteio foi de {}'\n",
    "     .format(arrecadado))"
   ]
  },
  {
   "cell_type": "code",
   "execution_count": 45,
   "metadata": {},
   "outputs": [],
   "source": [
    "# E o valor TOTAL ARRECADO \n",
    "\n",
    "valor_total = np.int64(df['rateio_sena'].sum())\n",
    "arrecadado_total = formato_brl((valor_total * 100) / 43.3)"
   ]
  },
  {
   "cell_type": "code",
   "execution_count": 46,
   "metadata": {},
   "outputs": [
    {
     "name": "stdout",
     "output_type": "stream",
     "text": [
      "O valor total de premiações da SENA foi de R$ 9.202.455.059,00*\n",
      "Isso corresponde a uma arrecadação total de R$ 21.252.783.046,00*\n"
     ]
    }
   ],
   "source": [
    "print('O valor total de premiações da SENA foi de {}*'\n",
    "     .format(formato_brl(valor_total)))\n",
    "print('Isso corresponde a uma arrecadação total de {}*'\n",
    "     .format(arrecadado_total))"
   ]
  },
  {
   "cell_type": "markdown",
   "metadata": {},
   "source": [
    "_*calculos feitos sobre os valores pagos em premiações da SENA_"
   ]
  },
  {
   "cell_type": "markdown",
   "metadata": {},
   "source": [
    "### Analisando os dados utilizando gráficos"
   ]
  },
  {
   "cell_type": "code",
   "execution_count": 47,
   "metadata": {},
   "outputs": [],
   "source": [
    "# Agrupando por ano o total de ganhadores e valores pagos na SENA\n",
    "\n",
    "sena_ganhadores = df.groupby('ano')['ganhadores_sena'].sum()\n",
    "sena_valores = df.groupby('ano')['rateio_sena'].sum()"
   ]
  },
  {
   "cell_type": "code",
   "execution_count": 48,
   "metadata": {},
   "outputs": [],
   "source": [
    "# Agrupando por ano o total de ganhadores e valores pagos na QUINA\n",
    "\n",
    "quina_ganhadores = df.groupby('ano')['ganhadores_quina'].sum()\n",
    "quina_valores = df.groupby('ano')['rateio_quina'].sum()"
   ]
  },
  {
   "cell_type": "code",
   "execution_count": 49,
   "metadata": {},
   "outputs": [],
   "source": [
    "# Agrupando por ano o total de ganhadores e valores pagos na QUADRA\n",
    "\n",
    "quadra_ganhadores = df.groupby('ano')['ganhadores_quadra'].sum()\n",
    "quadra_valores = df.groupby('ano')['rateio_quadra'].sum()"
   ]
  },
  {
   "cell_type": "code",
   "execution_count": 50,
   "metadata": {},
   "outputs": [
    {
     "data": {
      "text/plain": [
       "<matplotlib.axes._subplots.AxesSubplot at 0xb2b3b70>"
      ]
     },
     "execution_count": 50,
     "metadata": {},
     "output_type": "execute_result"
    },
    {
     "data": {
      "image/png": "[encoded data removed]",
      "text/plain": [
       "<Figure size 432x288 with 1 Axes>"
      ]
     },
     "metadata": {
      "needs_background": "light"
     },
     "output_type": "display_data"
    }
   ],
   "source": [
    "# Plotando um gráfico comparativo do ganhadores por tipo de prêmio\n",
    "sena_ganhadores.plot()\n",
    "quadra_ganhadores.plot()\n",
    "quina_ganhadores.plot()"
   ]
  },
  {
   "cell_type": "markdown",
   "metadata": {},
   "source": [
    "O gráfico não ficou muito informativo devido a diferença entre os valores de cada tipo de ganhadores.\n",
    "Para plotar um gráfico melhor, iremos utilizar a proporção de cada tipo de ganhadores."
   ]
  },
  {
   "cell_type": "code",
   "execution_count": 51,
   "metadata": {},
   "outputs": [],
   "source": [
    "# Proporções\n",
    "# Totais\n",
    "total_sena = df['ganhadores_sena'].sum()\n",
    "valor_sena = df['rateio_sena'].sum()\n",
    "total_quina = df['ganhadores_quina'].sum()\n",
    "valor_quina = df['rateio_quina'].sum()\n",
    "total_quadra = df['ganhadores_quadra'].sum()\n",
    "valor_quadra = df['rateio_quadra'].sum()\n",
    "\n",
    "# Proporção\n",
    "sena_ganhadores = sena_ganhadores / total_sena\n",
    "sena_valores = sena_valores / valor_sena\n",
    "quina_ganhadores = quina_ganhadores / total_quina\n",
    "quina_valores = quina_valores / valor_quina\n",
    "quadra_ganhadores = quadra_ganhadores / total_quadra\n",
    "quadra_valores = quadra_valores / valor_quadra"
   ]
  },
  {
   "cell_type": "code",
   "execution_count": 52,
   "metadata": {},
   "outputs": [
    {
     "data": {
      "image/png": "[encoded data removed]",
      "text/plain": [
       "<Figure size 720x360 with 1 Axes>"
      ]
     },
     "metadata": {
      "needs_background": "light"
     },
     "output_type": "display_data"
    }
   ],
   "source": [
    "# Plotando um gráfico com os valores proporcionais - GANHADORES\n",
    "\n",
    "sena_ganhadores.plot(label='Sena', figsize=(10,5))\n",
    "quina_ganhadores.plot(label='Quina')\n",
    "quadra_ganhadores.plot(label='Quadra')\n",
    "plt.title('Ganhadores por ano - MEGA SENA')\n",
    "plt.xlabel('')\n",
    "plt.legend();"
   ]
  },
  {
   "cell_type": "markdown",
   "metadata": {},
   "source": [
    "Podemos observar certa semelhança na variação dos ganhadores por ano, apresentando poucos pontos de maior diferença.\n",
    "\n",
    "Vemos um crescimento linear até __2004__, então observamos uma até __2006__ queda e novo crescimento até __2014__ com nova queda."
   ]
  },
  {
   "cell_type": "code",
   "execution_count": 53,
   "metadata": {},
   "outputs": [
    {
     "data": {
      "image/png": "[encoded data removed]",
      "text/plain": [
       "<Figure size 720x360 with 1 Axes>"
      ]
     },
     "metadata": {
      "needs_background": "light"
     },
     "output_type": "display_data"
    }
   ],
   "source": [
    "# Plotando um gráfico com os valores proporcionais - GANHADORES\n",
    "\n",
    "sena_valores.plot(label='Sena', figsize=(10,5))\n",
    "quina_valores.plot(label='Quina')\n",
    "quadra_valores.plot(label='Quadra')\n",
    "plt.title('Valores por ano - MEGA SENA')\n",
    "plt.xlabel('')\n",
    "plt.legend();"
   ]
  },
  {
   "cell_type": "markdown",
   "metadata": {},
   "source": [
    "Podemos observar que proporcionalmente os valores distribuidos seguem um crescimento lienar até _2015/2016_ e então iniciam uma queda."
   ]
  },
  {
   "cell_type": "code",
   "execution_count": 54,
   "metadata": {},
   "outputs": [
    {
     "data": {
      "image/png": "[encoded data removed]",
      "text/plain": [
       "<Figure size 720x360 with 1 Axes>"
      ]
     },
     "metadata": {
      "needs_background": "light"
     },
     "output_type": "display_data"
    }
   ],
   "source": [
    "# Valor acumulado\n",
    "\n",
    "valor_acumulado = df.groupby('ano')['valor_acumulado'].sum()\n",
    "valor_acumulado.plot(figsize=(10,5))\n",
    "plt.title('Valor acumulado - total ano')\n",
    "plt.xlabel('')\n",
    "plt.ylabel('Valores');"
   ]
  },
  {
   "cell_type": "markdown",
   "metadata": {},
   "source": [
    "Não encontramos maiores informações sobre como funciona o __valor acumulado__ na mega sena, portando não podemos fazer maiores considerações, apenas que segue uma linha crescente apesar de toda a variação apresentada."
   ]
  },
  {
   "cell_type": "code",
   "execution_count": 55,
   "metadata": {},
   "outputs": [],
   "source": [
    "# Grafico com o VALOR ACUMULADO e premiações por categoria"
   ]
  },
  {
   "cell_type": "code",
   "execution_count": 56,
   "metadata": {},
   "outputs": [],
   "source": [
    "# Fazendo a propoção do VALOR ACUMULADO\n",
    "\n",
    "total_acumulado = df['valor_acumulado'].sum()\n",
    "valor_acumulado = valor_acumulado / total_acumulado"
   ]
  },
  {
   "cell_type": "code",
   "execution_count": 57,
   "metadata": {},
   "outputs": [
    {
     "data": {
      "image/png": "[encoded data removed]",
      "text/plain": [
       "<Figure size 720x360 with 1 Axes>"
      ]
     },
     "metadata": {
      "needs_background": "light"
     },
     "output_type": "display_data"
    }
   ],
   "source": [
    "# Plotando o gráfico\n",
    "\n",
    "valor_acumulado.plot(label='Acumulado', figsize=(10,5))\n",
    "sena_valores.plot(label='Sena')\n",
    "quina_valores.plot(label='Quina')\n",
    "quadra_valores.plot(label='Quadra')\n",
    "plt.title('Valores por ano - MEGA SENA')\n",
    "plt.xlabel('')\n",
    "plt.legend();"
   ]
  },
  {
   "cell_type": "markdown",
   "metadata": {},
   "source": [
    "Observamos que o valor acumulado também segue padrão semelhante ao das premiações, pois apesar de não sabermos em detalhes, sabemos que existe relação entre o valor que acumula e as premiações"
   ]
  },
  {
   "cell_type": "markdown",
   "metadata": {},
   "source": [
    "## Conclusão"
   ]
  },
  {
   "cell_type": "markdown",
   "metadata": {},
   "source": [
    "Como observado nos dados expostos acima, seguiram uma trajetório de crescimento até _2015/2016_ e então iniciaram uma queda registrada até o momento.\n",
    "\n",
    "A proporção de ganhadores na sena, quina e quadra seguem trajetória parecida entre si e assim como os valores apresentam uma queda a partir de 2015.\n",
    "\n",
    "Com base nas informações da CAIXA, verificamos que o valor arrecadado é bem superior que o das premiações."
   ]
  },
  {
   "cell_type": "markdown",
   "metadata": {},
   "source": [
    "### Limitações"
   ]
  },
  {
   "cell_type": "markdown",
   "metadata": {},
   "source": [
    "Nosso dataframe foi importado a partir de um arquivo _.htm_ e apresentou algumas inconsistencias durante a analise devido a algumas quebras de valores que foram interpretadas como quebra de linha.\n",
    "\n",
    "- Para contornar o problema removemos as linhas criadas de forma a não afetar nossas analises\n",
    "\n",
    "As colunas foram importadas como _string_ o que nos levou a realizar as devidas conversões:\n",
    "- data_sorteio - convertida para datetime\n",
    "- demais colunas - convertidas para int, mesmo as colunas que tratam de valores foram convertidas para int para facilitar a manipulação de valores altos, e por trabalharmos com valores na casa dos milhões e bilhões, o descarte dos centavos não afetam os resultados finais."
   ]
  },
  {
   "cell_type": "markdown",
   "metadata": {},
   "source": [
    "### Aqui iremos chamar a função PALPITE para elaborar palpites baseados no df"
   ]
  },
  {
   "cell_type": "code",
   "execution_count": 58,
   "metadata": {},
   "outputs": [],
   "source": [
    "# Dados para elaboração do palpite\n",
    "# Alterar apenas estas duas variaveis\n",
    "\n",
    "palpitar = 2\n",
    "bolas = 0"
   ]
  },
  {
   "cell_type": "code",
   "execution_count": 59,
   "metadata": {},
   "outputs": [
    {
     "name": "stdout",
     "output_type": "stream",
     "text": [
      "Palpite 1\n",
      "30 - 32 - 56 - 36 - 12 - 17 - \n",
      "\n",
      "Palpite 2\n",
      "30 - 17 - 54 - 5 - 38 - 33 - \n",
      "\n"
     ]
    }
   ],
   "source": [
    "# Rodando a função com \n",
    "palpite(palpitar,bolas,6,df)"
   ]
  },
  {
   "cell_type": "markdown",
   "metadata": {},
   "source": [
    "### Ultimo resultado da Mega"
   ]
  },
  {
   "cell_type": "code",
   "execution_count": 60,
   "metadata": {},
   "outputs": [
    {
     "data": {
      "text/html": [
       "<div>\n",
       "<style scoped>\n",
       "    .dataframe tbody tr th:only-of-type {\n",
       "        vertical-align: middle;\n",
       "    }\n",
       "\n",
       "    .dataframe tbody tr th {\n",
       "        vertical-align: top;\n",
       "    }\n",
       "\n",
       "    .dataframe thead th {\n",
       "        text-align: right;\n",
       "    }\n",
       "</style>\n",
       "<table border=\"1\" class=\"dataframe\">\n",
       "  <thead>\n",
       "    <tr style=\"text-align: right;\">\n",
       "      <th></th>\n",
       "      <th>concurso</th>\n",
       "      <th>data_sorteio</th>\n",
       "      <th>1</th>\n",
       "      <th>2</th>\n",
       "      <th>3</th>\n",
       "      <th>4</th>\n",
       "      <th>5</th>\n",
       "      <th>6</th>\n",
       "      <th>ganhadores_sena</th>\n",
       "      <th>rateio_sena</th>\n",
       "      <th>ganhadores_quina</th>\n",
       "      <th>rateio_quina</th>\n",
       "      <th>ganhadores_quadra</th>\n",
       "      <th>rateio_quadra</th>\n",
       "      <th>valor_acumulado</th>\n",
       "      <th>ano</th>\n",
       "    </tr>\n",
       "  </thead>\n",
       "  <tbody>\n",
       "    <tr>\n",
       "      <th>2111</th>\n",
       "      <td>2112</td>\n",
       "      <td>2019-05-01</td>\n",
       "      <td>17</td>\n",
       "      <td>46</td>\n",
       "      <td>43</td>\n",
       "      <td>53</td>\n",
       "      <td>52</td>\n",
       "      <td>39</td>\n",
       "      <td>0</td>\n",
       "      <td>0</td>\n",
       "      <td>34</td>\n",
       "      <td>48935</td>\n",
       "      <td>2547</td>\n",
       "      <td>933</td>\n",
       "      <td>4312684</td>\n",
       "      <td>2019</td>\n",
       "    </tr>\n",
       "  </tbody>\n",
       "</table>\n",
       "</div>"
      ],
      "text/plain": [
       "0     concurso data_sorteio   1   2   3   4   5   6  ganhadores_sena  \\\n",
       "2111      2112   2019-05-01  17  46  43  53  52  39                0   \n",
       "\n",
       "0     rateio_sena  ganhadores_quina  rateio_quina  ganhadores_quadra  \\\n",
       "2111            0                34         48935               2547   \n",
       "\n",
       "0     rateio_quadra  valor_acumulado   ano  \n",
       "2111            933          4312684  2019  "
      ]
     },
     "execution_count": 60,
     "metadata": {},
     "output_type": "execute_result"
    }
   ],
   "source": [
    "df.tail(1)"
   ]
  },
  {
   "cell_type": "markdown",
   "metadata": {},
   "source": [
    "__Fabiano__ _Lima_ - 14/12/2018"
   ]
  }
 ],
 "metadata": {
  "kernelspec": {
   "display_name": "Python 3",
   "language": "python",
   "name": "python3"
  },
  "language_info": {
   "codemirror_mode": {
    "name": "ipython",
    "version": 3
   },
   "file_extension": ".py",
   "mimetype": "text/x-python",
   "name": "python",
   "nbconvert_exporter": "python",
   "pygments_lexer": "ipython3",
   "version": "3.7.1"
  }
 },
 "nbformat": 4,
 "nbformat_minor": 2
}
