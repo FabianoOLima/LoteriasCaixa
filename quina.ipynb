{
 "cells": [
  {
   "cell_type": "markdown",
   "metadata": {},
   "source": [
    "## Quina\n",
    "\n",
    "Neste projeto iremos analisar os resultados de jogos da Quina que paga milhões para o acertador dos 5 números sorteados. Ainda é possível ganhar prêmios ao acertar 4, 3 ou 2 números dentre os 80 disponíveis no volante de apostas. Para realizar o sonho de ser o próximo milionário, você deve marcar de 5 a 15 números do volante\n",
    "\n",
    "### Premiação\n",
    "\n",
    "__O prêmio bruto corresponde a 43,35% da arrecadação.__ \n",
    "\n",
    "Deste valor:\n",
    "- 35% são distribuídos entre os acertadores dos 5 números,\n",
    "- 19% entre os acertadores de 4 números,\n",
    "- 20% entre os acertadores de 3 números,\n",
    "- 11% entre os acertadores de 2 números e\n",
    "- 15% acumulam para os acertadores dos 5 números da Quina de São João.\n",
    "\n",
    "### Downloads\n",
    "- Informações sobre a [Quina](http://loterias.caixa.gov.br/wps/portal/loterias/landing/quina)\n",
    "- Arquivo de [Dados](http://www1.caixa.gov.br/loterias/_arquivos/loterias/D_quina.zip)"
   ]
  },
  {
   "cell_type": "markdown",
   "metadata": {},
   "source": [
    "![Quina](quina.png)"
   ]
  },
  {
   "cell_type": "code",
   "execution_count": 1,
   "metadata": {},
   "outputs": [],
   "source": [
    "# Importando as bibliotecas que iremos utilizar\n",
    "\n",
    "import pandas as pd\n",
    "import numpy as np\n",
    "import matplotlib.pyplot as plt\n",
    "from palpita import palpite\n",
    "\n",
    "%matplotlib inline"
   ]
  },
  {
   "cell_type": "code",
   "execution_count": 2,
   "metadata": {},
   "outputs": [],
   "source": [
    "# Carregando o arquivo, neste caso o arquivo veio em formato HTML\n",
    "\n",
    "quina = pd.read_html('D_QUINA.htm')"
   ]
  },
  {
   "cell_type": "code",
   "execution_count": 3,
   "metadata": {},
   "outputs": [
    {
     "data": {
      "text/html": [
       "<div>\n",
       "<style scoped>\n",
       "    .dataframe tbody tr th:only-of-type {\n",
       "        vertical-align: middle;\n",
       "    }\n",
       "\n",
       "    .dataframe tbody tr th {\n",
       "        vertical-align: top;\n",
       "    }\n",
       "\n",
       "    .dataframe thead th {\n",
       "        text-align: right;\n",
       "    }\n",
       "</style>\n",
       "<table border=\"1\" class=\"dataframe\">\n",
       "  <thead>\n",
       "    <tr style=\"text-align: right;\">\n",
       "      <th></th>\n",
       "      <th>0</th>\n",
       "      <th>1</th>\n",
       "      <th>2</th>\n",
       "      <th>3</th>\n",
       "      <th>4</th>\n",
       "      <th>5</th>\n",
       "      <th>6</th>\n",
       "      <th>7</th>\n",
       "      <th>8</th>\n",
       "      <th>9</th>\n",
       "      <th>...</th>\n",
       "      <th>12</th>\n",
       "      <th>13</th>\n",
       "      <th>14</th>\n",
       "      <th>15</th>\n",
       "      <th>16</th>\n",
       "      <th>17</th>\n",
       "      <th>18</th>\n",
       "      <th>19</th>\n",
       "      <th>20</th>\n",
       "      <th>21</th>\n",
       "    </tr>\n",
       "  </thead>\n",
       "  <tbody>\n",
       "    <tr>\n",
       "      <th>0</th>\n",
       "      <td>Concurso</td>\n",
       "      <td>Data Sorteio</td>\n",
       "      <td>1ª Dezena</td>\n",
       "      <td>2ª Dezena</td>\n",
       "      <td>3ª Dezena</td>\n",
       "      <td>4ª Dezena</td>\n",
       "      <td>5ª Dezena</td>\n",
       "      <td>Arrecadacao_Total</td>\n",
       "      <td>Ganhadores_Quina</td>\n",
       "      <td>Cidade</td>\n",
       "      <td>...</td>\n",
       "      <td>Ganhadores_Quadra</td>\n",
       "      <td>Rateio_Quadra</td>\n",
       "      <td>Ganhadores_Terno</td>\n",
       "      <td>Rateio_Terno</td>\n",
       "      <td>Ganhadores_Duque</td>\n",
       "      <td>Rateio_Duque</td>\n",
       "      <td>Acumulado</td>\n",
       "      <td>Valor_Acumulado</td>\n",
       "      <td>Estimativa_Premio</td>\n",
       "      <td>Valor_Acumulado_Sorteio_Especial_São_João</td>\n",
       "    </tr>\n",
       "    <tr>\n",
       "      <th>1</th>\n",
       "      <td>1</td>\n",
       "      <td>13/03/1994</td>\n",
       "      <td>25</td>\n",
       "      <td>45</td>\n",
       "      <td>60</td>\n",
       "      <td>76</td>\n",
       "      <td>79</td>\n",
       "      <td>000</td>\n",
       "      <td>3</td>\n",
       "      <td>&amp;nbsp</td>\n",
       "      <td>...</td>\n",
       "      <td>127</td>\n",
       "      <td>1.788.92700</td>\n",
       "      <td>7030</td>\n",
       "      <td>42.98200</td>\n",
       "      <td>0</td>\n",
       "      <td>000</td>\n",
       "      <td>NÃO</td>\n",
       "      <td>000</td>\n",
       "      <td>000</td>\n",
       "      <td>000</td>\n",
       "    </tr>\n",
       "    <tr>\n",
       "      <th>2</th>\n",
       "      <td>2</td>\n",
       "      <td>17/03/1994</td>\n",
       "      <td>13</td>\n",
       "      <td>30</td>\n",
       "      <td>58</td>\n",
       "      <td>63</td>\n",
       "      <td>64</td>\n",
       "      <td>000</td>\n",
       "      <td>1</td>\n",
       "      <td>&amp;nbsp</td>\n",
       "      <td>...</td>\n",
       "      <td>105</td>\n",
       "      <td>1.128.56500</td>\n",
       "      <td>4861</td>\n",
       "      <td>32.42200</td>\n",
       "      <td>0</td>\n",
       "      <td>000</td>\n",
       "      <td>NÃO</td>\n",
       "      <td>000</td>\n",
       "      <td>000</td>\n",
       "      <td>000</td>\n",
       "    </tr>\n",
       "    <tr>\n",
       "      <th>3</th>\n",
       "      <td>3</td>\n",
       "      <td>20/03/1994</td>\n",
       "      <td>05</td>\n",
       "      <td>15</td>\n",
       "      <td>32</td>\n",
       "      <td>33</td>\n",
       "      <td>48</td>\n",
       "      <td>000</td>\n",
       "      <td>1</td>\n",
       "      <td>&amp;nbsp</td>\n",
       "      <td>...</td>\n",
       "      <td>232</td>\n",
       "      <td>664.84600</td>\n",
       "      <td>10196</td>\n",
       "      <td>20.12000</td>\n",
       "      <td>0</td>\n",
       "      <td>000</td>\n",
       "      <td>NÃO</td>\n",
       "      <td>000</td>\n",
       "      <td>000</td>\n",
       "      <td>000</td>\n",
       "    </tr>\n",
       "    <tr>\n",
       "      <th>4</th>\n",
       "      <td>4</td>\n",
       "      <td>24/03/1994</td>\n",
       "      <td>27</td>\n",
       "      <td>57</td>\n",
       "      <td>60</td>\n",
       "      <td>61</td>\n",
       "      <td>77</td>\n",
       "      <td>000</td>\n",
       "      <td>1</td>\n",
       "      <td>&amp;nbsp</td>\n",
       "      <td>...</td>\n",
       "      <td>78</td>\n",
       "      <td>1.592.11900</td>\n",
       "      <td>4033</td>\n",
       "      <td>40.95400</td>\n",
       "      <td>0</td>\n",
       "      <td>000</td>\n",
       "      <td>NÃO</td>\n",
       "      <td>000</td>\n",
       "      <td>000</td>\n",
       "      <td>000</td>\n",
       "    </tr>\n",
       "  </tbody>\n",
       "</table>\n",
       "<p>5 rows × 22 columns</p>\n",
       "</div>"
      ],
      "text/plain": [
       "         0             1          2          3          4          5   \\\n",
       "0  Concurso  Data Sorteio  1ª Dezena  2ª Dezena  3ª Dezena  4ª Dezena   \n",
       "1         1    13/03/1994         25         45         60         76   \n",
       "2         2    17/03/1994         13         30         58         63   \n",
       "3         3    20/03/1994         05         15         32         33   \n",
       "4         4    24/03/1994         27         57         60         61   \n",
       "\n",
       "          6                  7                 8       9   \\\n",
       "0  5ª Dezena  Arrecadacao_Total  Ganhadores_Quina  Cidade   \n",
       "1         79                000                 3   &nbsp   \n",
       "2         64                000                 1   &nbsp   \n",
       "3         48                000                 1   &nbsp   \n",
       "4         77                000                 1   &nbsp   \n",
       "\n",
       "                     ...                                     12  \\\n",
       "0                    ...                      Ganhadores_Quadra   \n",
       "1                    ...                                    127   \n",
       "2                    ...                                    105   \n",
       "3                    ...                                    232   \n",
       "4                    ...                                     78   \n",
       "\n",
       "              13                14            15                16  \\\n",
       "0  Rateio_Quadra  Ganhadores_Terno  Rateio_Terno  Ganhadores_Duque   \n",
       "1    1.788.92700              7030      42.98200                 0   \n",
       "2    1.128.56500              4861      32.42200                 0   \n",
       "3      664.84600             10196      20.12000                 0   \n",
       "4    1.592.11900              4033      40.95400                 0   \n",
       "\n",
       "             17         18               19                 20  \\\n",
       "0  Rateio_Duque  Acumulado  Valor_Acumulado  Estimativa_Premio   \n",
       "1           000        NÃO              000                000   \n",
       "2           000        NÃO              000                000   \n",
       "3           000        NÃO              000                000   \n",
       "4           000        NÃO              000                000   \n",
       "\n",
       "                                          21  \n",
       "0  Valor_Acumulado_Sorteio_Especial_São_João  \n",
       "1                                        000  \n",
       "2                                        000  \n",
       "3                                        000  \n",
       "4                                        000  \n",
       "\n",
       "[5 rows x 22 columns]"
      ]
     },
     "execution_count": 3,
     "metadata": {},
     "output_type": "execute_result"
    }
   ],
   "source": [
    "# Arquivo carregado como lista, iremos conferir suas 5 primeiras linhas\n",
    "quina[0][:5]"
   ]
  },
  {
   "cell_type": "code",
   "execution_count": 4,
   "metadata": {},
   "outputs": [],
   "source": [
    "# Iremos remover as colunas que não serão utilizadas em nossa analise\n",
    "colunas = [7,9,10,14,15,16,17,18,20,21]\n",
    "quina[0].drop(columns=colunas, inplace=True)"
   ]
  },
  {
   "cell_type": "code",
   "execution_count": 5,
   "metadata": {},
   "outputs": [
    {
     "data": {
      "text/html": [
       "<div>\n",
       "<style scoped>\n",
       "    .dataframe tbody tr th:only-of-type {\n",
       "        vertical-align: middle;\n",
       "    }\n",
       "\n",
       "    .dataframe tbody tr th {\n",
       "        vertical-align: top;\n",
       "    }\n",
       "\n",
       "    .dataframe thead th {\n",
       "        text-align: right;\n",
       "    }\n",
       "</style>\n",
       "<table border=\"1\" class=\"dataframe\">\n",
       "  <thead>\n",
       "    <tr style=\"text-align: right;\">\n",
       "      <th></th>\n",
       "      <th>0</th>\n",
       "      <th>1</th>\n",
       "      <th>2</th>\n",
       "      <th>3</th>\n",
       "      <th>4</th>\n",
       "      <th>5</th>\n",
       "      <th>6</th>\n",
       "      <th>8</th>\n",
       "      <th>11</th>\n",
       "      <th>12</th>\n",
       "      <th>13</th>\n",
       "      <th>19</th>\n",
       "    </tr>\n",
       "  </thead>\n",
       "  <tbody>\n",
       "    <tr>\n",
       "      <th>0</th>\n",
       "      <td>Concurso</td>\n",
       "      <td>Data Sorteio</td>\n",
       "      <td>1ª Dezena</td>\n",
       "      <td>2ª Dezena</td>\n",
       "      <td>3ª Dezena</td>\n",
       "      <td>4ª Dezena</td>\n",
       "      <td>5ª Dezena</td>\n",
       "      <td>Ganhadores_Quina</td>\n",
       "      <td>Rateio_Quina</td>\n",
       "      <td>Ganhadores_Quadra</td>\n",
       "      <td>Rateio_Quadra</td>\n",
       "      <td>Valor_Acumulado</td>\n",
       "    </tr>\n",
       "    <tr>\n",
       "      <th>1</th>\n",
       "      <td>1</td>\n",
       "      <td>13/03/1994</td>\n",
       "      <td>25</td>\n",
       "      <td>45</td>\n",
       "      <td>60</td>\n",
       "      <td>76</td>\n",
       "      <td>79</td>\n",
       "      <td>3</td>\n",
       "      <td>75.731.22500</td>\n",
       "      <td>127</td>\n",
       "      <td>1.788.92700</td>\n",
       "      <td>000</td>\n",
       "    </tr>\n",
       "    <tr>\n",
       "      <th>2</th>\n",
       "      <td>2</td>\n",
       "      <td>17/03/1994</td>\n",
       "      <td>13</td>\n",
       "      <td>30</td>\n",
       "      <td>58</td>\n",
       "      <td>63</td>\n",
       "      <td>64</td>\n",
       "      <td>1</td>\n",
       "      <td>118.499.39700</td>\n",
       "      <td>105</td>\n",
       "      <td>1.128.56500</td>\n",
       "      <td>000</td>\n",
       "    </tr>\n",
       "    <tr>\n",
       "      <th>3</th>\n",
       "      <td>3</td>\n",
       "      <td>20/03/1994</td>\n",
       "      <td>05</td>\n",
       "      <td>15</td>\n",
       "      <td>32</td>\n",
       "      <td>33</td>\n",
       "      <td>48</td>\n",
       "      <td>1</td>\n",
       "      <td>154.244.27000</td>\n",
       "      <td>232</td>\n",
       "      <td>664.84600</td>\n",
       "      <td>000</td>\n",
       "    </tr>\n",
       "    <tr>\n",
       "      <th>4</th>\n",
       "      <td>4</td>\n",
       "      <td>24/03/1994</td>\n",
       "      <td>27</td>\n",
       "      <td>57</td>\n",
       "      <td>60</td>\n",
       "      <td>61</td>\n",
       "      <td>77</td>\n",
       "      <td>1</td>\n",
       "      <td>124.185.24600</td>\n",
       "      <td>78</td>\n",
       "      <td>1.592.11900</td>\n",
       "      <td>000</td>\n",
       "    </tr>\n",
       "  </tbody>\n",
       "</table>\n",
       "</div>"
      ],
      "text/plain": [
       "         0             1          2          3          4          5   \\\n",
       "0  Concurso  Data Sorteio  1ª Dezena  2ª Dezena  3ª Dezena  4ª Dezena   \n",
       "1         1    13/03/1994         25         45         60         76   \n",
       "2         2    17/03/1994         13         30         58         63   \n",
       "3         3    20/03/1994         05         15         32         33   \n",
       "4         4    24/03/1994         27         57         60         61   \n",
       "\n",
       "          6                 8              11                 12  \\\n",
       "0  5ª Dezena  Ganhadores_Quina   Rateio_Quina  Ganhadores_Quadra   \n",
       "1         79                 3   75.731.22500                127   \n",
       "2         64                 1  118.499.39700                105   \n",
       "3         48                 1  154.244.27000                232   \n",
       "4         77                 1  124.185.24600                 78   \n",
       "\n",
       "              13               19  \n",
       "0  Rateio_Quadra  Valor_Acumulado  \n",
       "1    1.788.92700              000  \n",
       "2    1.128.56500              000  \n",
       "3      664.84600              000  \n",
       "4    1.592.11900              000  "
      ]
     },
     "execution_count": 5,
     "metadata": {},
     "output_type": "execute_result"
    }
   ],
   "source": [
    "# Conferindo a mudança feita\n",
    "quina[0][:5]"
   ]
  },
  {
   "cell_type": "code",
   "execution_count": 6,
   "metadata": {},
   "outputs": [],
   "source": [
    "# Iremos criar um df recebendo as informações da posição 0 da lista\n",
    "\n",
    "df = pd.DataFrame(quina[0]).copy()"
   ]
  },
  {
   "cell_type": "code",
   "execution_count": 7,
   "metadata": {},
   "outputs": [
    {
     "data": {
      "text/html": [
       "<div>\n",
       "<style scoped>\n",
       "    .dataframe tbody tr th:only-of-type {\n",
       "        vertical-align: middle;\n",
       "    }\n",
       "\n",
       "    .dataframe tbody tr th {\n",
       "        vertical-align: top;\n",
       "    }\n",
       "\n",
       "    .dataframe thead th {\n",
       "        text-align: right;\n",
       "    }\n",
       "</style>\n",
       "<table border=\"1\" class=\"dataframe\">\n",
       "  <thead>\n",
       "    <tr style=\"text-align: right;\">\n",
       "      <th></th>\n",
       "      <th>0</th>\n",
       "      <th>1</th>\n",
       "      <th>2</th>\n",
       "      <th>3</th>\n",
       "      <th>4</th>\n",
       "      <th>5</th>\n",
       "      <th>6</th>\n",
       "      <th>8</th>\n",
       "      <th>11</th>\n",
       "      <th>12</th>\n",
       "      <th>13</th>\n",
       "      <th>19</th>\n",
       "    </tr>\n",
       "  </thead>\n",
       "  <tbody>\n",
       "    <tr>\n",
       "      <th>0</th>\n",
       "      <td>Concurso</td>\n",
       "      <td>Data Sorteio</td>\n",
       "      <td>1ª Dezena</td>\n",
       "      <td>2ª Dezena</td>\n",
       "      <td>3ª Dezena</td>\n",
       "      <td>4ª Dezena</td>\n",
       "      <td>5ª Dezena</td>\n",
       "      <td>Ganhadores_Quina</td>\n",
       "      <td>Rateio_Quina</td>\n",
       "      <td>Ganhadores_Quadra</td>\n",
       "      <td>Rateio_Quadra</td>\n",
       "      <td>Valor_Acumulado</td>\n",
       "    </tr>\n",
       "    <tr>\n",
       "      <th>1</th>\n",
       "      <td>1</td>\n",
       "      <td>13/03/1994</td>\n",
       "      <td>25</td>\n",
       "      <td>45</td>\n",
       "      <td>60</td>\n",
       "      <td>76</td>\n",
       "      <td>79</td>\n",
       "      <td>3</td>\n",
       "      <td>75.731.22500</td>\n",
       "      <td>127</td>\n",
       "      <td>1.788.92700</td>\n",
       "      <td>000</td>\n",
       "    </tr>\n",
       "    <tr>\n",
       "      <th>2</th>\n",
       "      <td>2</td>\n",
       "      <td>17/03/1994</td>\n",
       "      <td>13</td>\n",
       "      <td>30</td>\n",
       "      <td>58</td>\n",
       "      <td>63</td>\n",
       "      <td>64</td>\n",
       "      <td>1</td>\n",
       "      <td>118.499.39700</td>\n",
       "      <td>105</td>\n",
       "      <td>1.128.56500</td>\n",
       "      <td>000</td>\n",
       "    </tr>\n",
       "    <tr>\n",
       "      <th>3</th>\n",
       "      <td>3</td>\n",
       "      <td>20/03/1994</td>\n",
       "      <td>05</td>\n",
       "      <td>15</td>\n",
       "      <td>32</td>\n",
       "      <td>33</td>\n",
       "      <td>48</td>\n",
       "      <td>1</td>\n",
       "      <td>154.244.27000</td>\n",
       "      <td>232</td>\n",
       "      <td>664.84600</td>\n",
       "      <td>000</td>\n",
       "    </tr>\n",
       "    <tr>\n",
       "      <th>4</th>\n",
       "      <td>4</td>\n",
       "      <td>24/03/1994</td>\n",
       "      <td>27</td>\n",
       "      <td>57</td>\n",
       "      <td>60</td>\n",
       "      <td>61</td>\n",
       "      <td>77</td>\n",
       "      <td>1</td>\n",
       "      <td>124.185.24600</td>\n",
       "      <td>78</td>\n",
       "      <td>1.592.11900</td>\n",
       "      <td>000</td>\n",
       "    </tr>\n",
       "  </tbody>\n",
       "</table>\n",
       "</div>"
      ],
      "text/plain": [
       "         0             1          2          3          4          5   \\\n",
       "0  Concurso  Data Sorteio  1ª Dezena  2ª Dezena  3ª Dezena  4ª Dezena   \n",
       "1         1    13/03/1994         25         45         60         76   \n",
       "2         2    17/03/1994         13         30         58         63   \n",
       "3         3    20/03/1994         05         15         32         33   \n",
       "4         4    24/03/1994         27         57         60         61   \n",
       "\n",
       "          6                 8              11                 12  \\\n",
       "0  5ª Dezena  Ganhadores_Quina   Rateio_Quina  Ganhadores_Quadra   \n",
       "1         79                 3   75.731.22500                127   \n",
       "2         64                 1  118.499.39700                105   \n",
       "3         48                 1  154.244.27000                232   \n",
       "4         77                 1  124.185.24600                 78   \n",
       "\n",
       "              13               19  \n",
       "0  Rateio_Quadra  Valor_Acumulado  \n",
       "1    1.788.92700              000  \n",
       "2    1.128.56500              000  \n",
       "3      664.84600              000  \n",
       "4    1.592.11900              000  "
      ]
     },
     "execution_count": 7,
     "metadata": {},
     "output_type": "execute_result"
    }
   ],
   "source": [
    "# Lendo o inicio do DF\n",
    "\n",
    "df.head()"
   ]
  },
  {
   "cell_type": "code",
   "execution_count": 8,
   "metadata": {},
   "outputs": [],
   "source": [
    "# Como o df não foi criado com os nomes das colunas e elas estão listadas na linha 0\n",
    "# iremos atualizar o nome das colunas\n",
    "\n",
    "df.columns = df.loc[0]"
   ]
  },
  {
   "cell_type": "code",
   "execution_count": 9,
   "metadata": {},
   "outputs": [
    {
     "data": {
      "text/plain": [
       "Index(['concurso', 'data_sorteio', '1', '2', '3', '4', '5', 'ganhadores_quina',\n",
       "       'rateio_quina', 'ganhadores_quadra', 'rateio_quadra',\n",
       "       'valor_acumulado'],\n",
       "      dtype='object', name=0)"
      ]
     },
     "execution_count": 9,
     "metadata": {},
     "output_type": "execute_result"
    }
   ],
   "source": [
    "# Renomeando as colunas para facilitar as consultas\n",
    "\n",
    "df.columns = df.columns.str.replace(' ','_')\n",
    "df.columns = df.columns.str.replace('ª','')\n",
    "df.columns = df.columns.str.lower()\n",
    "df.columns = df.columns.str.replace('_dezena','')\n",
    "df.columns"
   ]
  },
  {
   "cell_type": "code",
   "execution_count": 10,
   "metadata": {},
   "outputs": [
    {
     "data": {
      "text/html": [
       "<div>\n",
       "<style scoped>\n",
       "    .dataframe tbody tr th:only-of-type {\n",
       "        vertical-align: middle;\n",
       "    }\n",
       "\n",
       "    .dataframe tbody tr th {\n",
       "        vertical-align: top;\n",
       "    }\n",
       "\n",
       "    .dataframe thead th {\n",
       "        text-align: right;\n",
       "    }\n",
       "</style>\n",
       "<table border=\"1\" class=\"dataframe\">\n",
       "  <thead>\n",
       "    <tr style=\"text-align: right;\">\n",
       "      <th></th>\n",
       "      <th>concurso</th>\n",
       "      <th>data_sorteio</th>\n",
       "      <th>1</th>\n",
       "      <th>2</th>\n",
       "      <th>3</th>\n",
       "      <th>4</th>\n",
       "      <th>5</th>\n",
       "      <th>ganhadores_quina</th>\n",
       "      <th>rateio_quina</th>\n",
       "      <th>ganhadores_quadra</th>\n",
       "      <th>rateio_quadra</th>\n",
       "      <th>valor_acumulado</th>\n",
       "    </tr>\n",
       "  </thead>\n",
       "  <tbody>\n",
       "    <tr>\n",
       "      <th>0</th>\n",
       "      <td>Concurso</td>\n",
       "      <td>Data Sorteio</td>\n",
       "      <td>1ª Dezena</td>\n",
       "      <td>2ª Dezena</td>\n",
       "      <td>3ª Dezena</td>\n",
       "      <td>4ª Dezena</td>\n",
       "      <td>5ª Dezena</td>\n",
       "      <td>Ganhadores_Quina</td>\n",
       "      <td>Rateio_Quina</td>\n",
       "      <td>Ganhadores_Quadra</td>\n",
       "      <td>Rateio_Quadra</td>\n",
       "      <td>Valor_Acumulado</td>\n",
       "    </tr>\n",
       "    <tr>\n",
       "      <th>1</th>\n",
       "      <td>1</td>\n",
       "      <td>13/03/1994</td>\n",
       "      <td>25</td>\n",
       "      <td>45</td>\n",
       "      <td>60</td>\n",
       "      <td>76</td>\n",
       "      <td>79</td>\n",
       "      <td>3</td>\n",
       "      <td>75.731.22500</td>\n",
       "      <td>127</td>\n",
       "      <td>1.788.92700</td>\n",
       "      <td>000</td>\n",
       "    </tr>\n",
       "    <tr>\n",
       "      <th>2</th>\n",
       "      <td>2</td>\n",
       "      <td>17/03/1994</td>\n",
       "      <td>13</td>\n",
       "      <td>30</td>\n",
       "      <td>58</td>\n",
       "      <td>63</td>\n",
       "      <td>64</td>\n",
       "      <td>1</td>\n",
       "      <td>118.499.39700</td>\n",
       "      <td>105</td>\n",
       "      <td>1.128.56500</td>\n",
       "      <td>000</td>\n",
       "    </tr>\n",
       "    <tr>\n",
       "      <th>3</th>\n",
       "      <td>3</td>\n",
       "      <td>20/03/1994</td>\n",
       "      <td>05</td>\n",
       "      <td>15</td>\n",
       "      <td>32</td>\n",
       "      <td>33</td>\n",
       "      <td>48</td>\n",
       "      <td>1</td>\n",
       "      <td>154.244.27000</td>\n",
       "      <td>232</td>\n",
       "      <td>664.84600</td>\n",
       "      <td>000</td>\n",
       "    </tr>\n",
       "    <tr>\n",
       "      <th>4</th>\n",
       "      <td>4</td>\n",
       "      <td>24/03/1994</td>\n",
       "      <td>27</td>\n",
       "      <td>57</td>\n",
       "      <td>60</td>\n",
       "      <td>61</td>\n",
       "      <td>77</td>\n",
       "      <td>1</td>\n",
       "      <td>124.185.24600</td>\n",
       "      <td>78</td>\n",
       "      <td>1.592.11900</td>\n",
       "      <td>000</td>\n",
       "    </tr>\n",
       "  </tbody>\n",
       "</table>\n",
       "</div>"
      ],
      "text/plain": [
       "0  concurso  data_sorteio          1          2          3          4  \\\n",
       "0  Concurso  Data Sorteio  1ª Dezena  2ª Dezena  3ª Dezena  4ª Dezena   \n",
       "1         1    13/03/1994         25         45         60         76   \n",
       "2         2    17/03/1994         13         30         58         63   \n",
       "3         3    20/03/1994         05         15         32         33   \n",
       "4         4    24/03/1994         27         57         60         61   \n",
       "\n",
       "0          5  ganhadores_quina   rateio_quina  ganhadores_quadra  \\\n",
       "0  5ª Dezena  Ganhadores_Quina   Rateio_Quina  Ganhadores_Quadra   \n",
       "1         79                 3   75.731.22500                127   \n",
       "2         64                 1  118.499.39700                105   \n",
       "3         48                 1  154.244.27000                232   \n",
       "4         77                 1  124.185.24600                 78   \n",
       "\n",
       "0  rateio_quadra  valor_acumulado  \n",
       "0  Rateio_Quadra  Valor_Acumulado  \n",
       "1    1.788.92700              000  \n",
       "2    1.128.56500              000  \n",
       "3      664.84600              000  \n",
       "4    1.592.11900              000  "
      ]
     },
     "execution_count": 10,
     "metadata": {},
     "output_type": "execute_result"
    }
   ],
   "source": [
    "# Conferindo a mudança\n",
    "\n",
    "df.head()"
   ]
  },
  {
   "cell_type": "code",
   "execution_count": 11,
   "metadata": {},
   "outputs": [],
   "source": [
    "# Removendo a primeira linha \n",
    "\n",
    "df.drop([0], inplace=True)"
   ]
  },
  {
   "cell_type": "code",
   "execution_count": 12,
   "metadata": {},
   "outputs": [
    {
     "data": {
      "text/html": [
       "<div>\n",
       "<style scoped>\n",
       "    .dataframe tbody tr th:only-of-type {\n",
       "        vertical-align: middle;\n",
       "    }\n",
       "\n",
       "    .dataframe tbody tr th {\n",
       "        vertical-align: top;\n",
       "    }\n",
       "\n",
       "    .dataframe thead th {\n",
       "        text-align: right;\n",
       "    }\n",
       "</style>\n",
       "<table border=\"1\" class=\"dataframe\">\n",
       "  <thead>\n",
       "    <tr style=\"text-align: right;\">\n",
       "      <th></th>\n",
       "      <th>concurso</th>\n",
       "      <th>data_sorteio</th>\n",
       "      <th>1</th>\n",
       "      <th>2</th>\n",
       "      <th>3</th>\n",
       "      <th>4</th>\n",
       "      <th>5</th>\n",
       "      <th>ganhadores_quina</th>\n",
       "      <th>rateio_quina</th>\n",
       "      <th>ganhadores_quadra</th>\n",
       "      <th>rateio_quadra</th>\n",
       "      <th>valor_acumulado</th>\n",
       "    </tr>\n",
       "  </thead>\n",
       "  <tbody>\n",
       "    <tr>\n",
       "      <th>1</th>\n",
       "      <td>1</td>\n",
       "      <td>13/03/1994</td>\n",
       "      <td>25</td>\n",
       "      <td>45</td>\n",
       "      <td>60</td>\n",
       "      <td>76</td>\n",
       "      <td>79</td>\n",
       "      <td>3</td>\n",
       "      <td>75.731.22500</td>\n",
       "      <td>127</td>\n",
       "      <td>1.788.92700</td>\n",
       "      <td>000</td>\n",
       "    </tr>\n",
       "    <tr>\n",
       "      <th>2</th>\n",
       "      <td>2</td>\n",
       "      <td>17/03/1994</td>\n",
       "      <td>13</td>\n",
       "      <td>30</td>\n",
       "      <td>58</td>\n",
       "      <td>63</td>\n",
       "      <td>64</td>\n",
       "      <td>1</td>\n",
       "      <td>118.499.39700</td>\n",
       "      <td>105</td>\n",
       "      <td>1.128.56500</td>\n",
       "      <td>000</td>\n",
       "    </tr>\n",
       "    <tr>\n",
       "      <th>3</th>\n",
       "      <td>3</td>\n",
       "      <td>20/03/1994</td>\n",
       "      <td>05</td>\n",
       "      <td>15</td>\n",
       "      <td>32</td>\n",
       "      <td>33</td>\n",
       "      <td>48</td>\n",
       "      <td>1</td>\n",
       "      <td>154.244.27000</td>\n",
       "      <td>232</td>\n",
       "      <td>664.84600</td>\n",
       "      <td>000</td>\n",
       "    </tr>\n",
       "    <tr>\n",
       "      <th>4</th>\n",
       "      <td>4</td>\n",
       "      <td>24/03/1994</td>\n",
       "      <td>27</td>\n",
       "      <td>57</td>\n",
       "      <td>60</td>\n",
       "      <td>61</td>\n",
       "      <td>77</td>\n",
       "      <td>1</td>\n",
       "      <td>124.185.24600</td>\n",
       "      <td>78</td>\n",
       "      <td>1.592.11900</td>\n",
       "      <td>000</td>\n",
       "    </tr>\n",
       "    <tr>\n",
       "      <th>5</th>\n",
       "      <td>5</td>\n",
       "      <td>27/03/1994</td>\n",
       "      <td>19</td>\n",
       "      <td>44</td>\n",
       "      <td>53</td>\n",
       "      <td>54</td>\n",
       "      <td>71</td>\n",
       "      <td>1</td>\n",
       "      <td>147.595.71500</td>\n",
       "      <td>137</td>\n",
       "      <td>1.077.34100</td>\n",
       "      <td>000</td>\n",
       "    </tr>\n",
       "  </tbody>\n",
       "</table>\n",
       "</div>"
      ],
      "text/plain": [
       "0 concurso data_sorteio   1   2   3   4   5 ganhadores_quina   rateio_quina  \\\n",
       "1        1   13/03/1994  25  45  60  76  79                3   75.731.22500   \n",
       "2        2   17/03/1994  13  30  58  63  64                1  118.499.39700   \n",
       "3        3   20/03/1994  05  15  32  33  48                1  154.244.27000   \n",
       "4        4   24/03/1994  27  57  60  61  77                1  124.185.24600   \n",
       "5        5   27/03/1994  19  44  53  54  71                1  147.595.71500   \n",
       "\n",
       "0 ganhadores_quadra rateio_quadra valor_acumulado  \n",
       "1               127   1.788.92700             000  \n",
       "2               105   1.128.56500             000  \n",
       "3               232     664.84600             000  \n",
       "4                78   1.592.11900             000  \n",
       "5               137   1.077.34100             000  "
      ]
     },
     "execution_count": 12,
     "metadata": {},
     "output_type": "execute_result"
    }
   ],
   "source": [
    "df.head()"
   ]
  },
  {
   "cell_type": "code",
   "execution_count": 13,
   "metadata": {},
   "outputs": [
    {
     "data": {
      "text/html": [
       "<div>\n",
       "<style scoped>\n",
       "    .dataframe tbody tr th:only-of-type {\n",
       "        vertical-align: middle;\n",
       "    }\n",
       "\n",
       "    .dataframe tbody tr th {\n",
       "        vertical-align: top;\n",
       "    }\n",
       "\n",
       "    .dataframe thead th {\n",
       "        text-align: right;\n",
       "    }\n",
       "</style>\n",
       "<table border=\"1\" class=\"dataframe\">\n",
       "  <thead>\n",
       "    <tr style=\"text-align: right;\">\n",
       "      <th></th>\n",
       "      <th>concurso</th>\n",
       "      <th>data_sorteio</th>\n",
       "      <th>1</th>\n",
       "      <th>2</th>\n",
       "      <th>3</th>\n",
       "      <th>4</th>\n",
       "      <th>5</th>\n",
       "      <th>ganhadores_quina</th>\n",
       "      <th>rateio_quina</th>\n",
       "      <th>ganhadores_quadra</th>\n",
       "      <th>rateio_quadra</th>\n",
       "      <th>valor_acumulado</th>\n",
       "    </tr>\n",
       "  </thead>\n",
       "  <tbody>\n",
       "    <tr>\n",
       "      <th>6642</th>\n",
       "      <td>4866</td>\n",
       "      <td>03/01/2019</td>\n",
       "      <td>71</td>\n",
       "      <td>63</td>\n",
       "      <td>75</td>\n",
       "      <td>30</td>\n",
       "      <td>04</td>\n",
       "      <td>0</td>\n",
       "      <td>000</td>\n",
       "      <td>36</td>\n",
       "      <td>12.49543</td>\n",
       "      <td>2.748.84358</td>\n",
       "    </tr>\n",
       "    <tr>\n",
       "      <th>6643</th>\n",
       "      <td>4867</td>\n",
       "      <td>04/01/2019</td>\n",
       "      <td>73</td>\n",
       "      <td>61</td>\n",
       "      <td>06</td>\n",
       "      <td>30</td>\n",
       "      <td>24</td>\n",
       "      <td>1</td>\n",
       "      <td>3.716.16944</td>\n",
       "      <td>58</td>\n",
       "      <td>9.05379</td>\n",
       "      <td>000</td>\n",
       "    </tr>\n",
       "    <tr>\n",
       "      <th>6644</th>\n",
       "      <td>4868</td>\n",
       "      <td>05/01/2019</td>\n",
       "      <td>50</td>\n",
       "      <td>04</td>\n",
       "      <td>09</td>\n",
       "      <td>72</td>\n",
       "      <td>62</td>\n",
       "      <td>0</td>\n",
       "      <td>000</td>\n",
       "      <td>35</td>\n",
       "      <td>10.02228</td>\n",
       "      <td>646.17356</td>\n",
       "    </tr>\n",
       "    <tr>\n",
       "      <th>6645</th>\n",
       "      <td>4869</td>\n",
       "      <td>07/01/2019</td>\n",
       "      <td>06</td>\n",
       "      <td>67</td>\n",
       "      <td>73</td>\n",
       "      <td>21</td>\n",
       "      <td>52</td>\n",
       "      <td>0</td>\n",
       "      <td>000</td>\n",
       "      <td>70</td>\n",
       "      <td>5.78716</td>\n",
       "      <td>1.392.41172</td>\n",
       "    </tr>\n",
       "    <tr>\n",
       "      <th>6646</th>\n",
       "      <td>4870</td>\n",
       "      <td>08/01/2019</td>\n",
       "      <td>07</td>\n",
       "      <td>16</td>\n",
       "      <td>55</td>\n",
       "      <td>49</td>\n",
       "      <td>31</td>\n",
       "      <td>0</td>\n",
       "      <td>000</td>\n",
       "      <td>69</td>\n",
       "      <td>6.44630</td>\n",
       "      <td>2.211.77079</td>\n",
       "    </tr>\n",
       "  </tbody>\n",
       "</table>\n",
       "</div>"
      ],
      "text/plain": [
       "0    concurso data_sorteio   1   2   3   4   5 ganhadores_quina rateio_quina  \\\n",
       "6642     4866   03/01/2019  71  63  75  30  04                0          000   \n",
       "6643     4867   04/01/2019  73  61  06  30  24                1  3.716.16944   \n",
       "6644     4868   05/01/2019  50  04  09  72  62                0          000   \n",
       "6645     4869   07/01/2019  06  67  73  21  52                0          000   \n",
       "6646     4870   08/01/2019  07  16  55  49  31                0          000   \n",
       "\n",
       "0    ganhadores_quadra rateio_quadra valor_acumulado  \n",
       "6642                36      12.49543     2.748.84358  \n",
       "6643                58       9.05379             000  \n",
       "6644                35      10.02228       646.17356  \n",
       "6645                70       5.78716     1.392.41172  \n",
       "6646                69       6.44630     2.211.77079  "
      ]
     },
     "execution_count": 13,
     "metadata": {},
     "output_type": "execute_result"
    }
   ],
   "source": [
    "df.tail()"
   ]
  },
  {
   "cell_type": "markdown",
   "metadata": {},
   "source": [
    "### Dados nulos"
   ]
  },
  {
   "cell_type": "code",
   "execution_count": 14,
   "metadata": {},
   "outputs": [
    {
     "data": {
      "text/plain": [
       "(6646, 12)"
      ]
     },
     "execution_count": 14,
     "metadata": {},
     "output_type": "execute_result"
    }
   ],
   "source": [
    "df.shape"
   ]
  },
  {
   "cell_type": "code",
   "execution_count": 15,
   "metadata": {},
   "outputs": [
    {
     "name": "stdout",
     "output_type": "stream",
     "text": [
      "<class 'pandas.core.frame.DataFrame'>\n",
      "Int64Index: 6646 entries, 1 to 6646\n",
      "Data columns (total 12 columns):\n",
      "concurso             5172 non-null object\n",
      "data_sorteio         6646 non-null object\n",
      "1                    4870 non-null object\n",
      "2                    4870 non-null object\n",
      "3                    4870 non-null object\n",
      "4                    4870 non-null object\n",
      "5                    4870 non-null object\n",
      "ganhadores_quina     4870 non-null object\n",
      "rateio_quina         4870 non-null object\n",
      "ganhadores_quadra    4870 non-null object\n",
      "rateio_quadra        4870 non-null object\n",
      "valor_acumulado      4870 non-null object\n",
      "dtypes: object(12)\n",
      "memory usage: 675.0+ KB\n"
     ]
    }
   ],
   "source": [
    "df.info()"
   ]
  },
  {
   "cell_type": "markdown",
   "metadata": {},
   "source": [
    "A coluna __data_sorteio__ possui mais linhas que as outras e também a coluna __concurso__"
   ]
  },
  {
   "cell_type": "code",
   "execution_count": 16,
   "metadata": {},
   "outputs": [
    {
     "data": {
      "text/plain": [
       "SP    734\n",
       "RJ    242\n",
       "MG    169\n",
       "RS    137\n",
       "PR    101\n",
       "SC     79\n",
       "DF     42\n",
       "GO     35\n",
       "PE     29\n",
       "BA     28\n",
       "Name: data_sorteio, dtype: int64"
      ]
     },
     "execution_count": 16,
     "metadata": {},
     "output_type": "execute_result"
    }
   ],
   "source": [
    "df['data_sorteio'].value_counts()[:10]"
   ]
  },
  {
   "cell_type": "markdown",
   "metadata": {},
   "source": [
    "Podemos ver que na coluna __data_sorteio__ temos informações _quebradas_ que vieram da coluna UF, iremos remover estas linhas do DF"
   ]
  },
  {
   "cell_type": "code",
   "execution_count": 17,
   "metadata": {},
   "outputs": [],
   "source": [
    "# Removendo os valores nulos\n",
    "\n",
    "df.dropna(subset=['1'], how=\"any\", inplace=True)"
   ]
  },
  {
   "cell_type": "code",
   "execution_count": 18,
   "metadata": {},
   "outputs": [],
   "source": [
    "# Reindexando as linhas\n",
    "\n",
    "df.reset_index(drop=True, inplace=True)"
   ]
  },
  {
   "cell_type": "code",
   "execution_count": 19,
   "metadata": {},
   "outputs": [
    {
     "data": {
      "text/html": [
       "<div>\n",
       "<style scoped>\n",
       "    .dataframe tbody tr th:only-of-type {\n",
       "        vertical-align: middle;\n",
       "    }\n",
       "\n",
       "    .dataframe tbody tr th {\n",
       "        vertical-align: top;\n",
       "    }\n",
       "\n",
       "    .dataframe thead th {\n",
       "        text-align: right;\n",
       "    }\n",
       "</style>\n",
       "<table border=\"1\" class=\"dataframe\">\n",
       "  <thead>\n",
       "    <tr style=\"text-align: right;\">\n",
       "      <th></th>\n",
       "      <th>concurso</th>\n",
       "      <th>data_sorteio</th>\n",
       "      <th>1</th>\n",
       "      <th>2</th>\n",
       "      <th>3</th>\n",
       "      <th>4</th>\n",
       "      <th>5</th>\n",
       "      <th>ganhadores_quina</th>\n",
       "      <th>rateio_quina</th>\n",
       "      <th>ganhadores_quadra</th>\n",
       "      <th>rateio_quadra</th>\n",
       "      <th>valor_acumulado</th>\n",
       "    </tr>\n",
       "  </thead>\n",
       "  <tbody>\n",
       "    <tr>\n",
       "      <th>0</th>\n",
       "      <td>1</td>\n",
       "      <td>13/03/1994</td>\n",
       "      <td>25</td>\n",
       "      <td>45</td>\n",
       "      <td>60</td>\n",
       "      <td>76</td>\n",
       "      <td>79</td>\n",
       "      <td>3</td>\n",
       "      <td>75.731.22500</td>\n",
       "      <td>127</td>\n",
       "      <td>1.788.92700</td>\n",
       "      <td>000</td>\n",
       "    </tr>\n",
       "    <tr>\n",
       "      <th>1</th>\n",
       "      <td>2</td>\n",
       "      <td>17/03/1994</td>\n",
       "      <td>13</td>\n",
       "      <td>30</td>\n",
       "      <td>58</td>\n",
       "      <td>63</td>\n",
       "      <td>64</td>\n",
       "      <td>1</td>\n",
       "      <td>118.499.39700</td>\n",
       "      <td>105</td>\n",
       "      <td>1.128.56500</td>\n",
       "      <td>000</td>\n",
       "    </tr>\n",
       "    <tr>\n",
       "      <th>2</th>\n",
       "      <td>3</td>\n",
       "      <td>20/03/1994</td>\n",
       "      <td>05</td>\n",
       "      <td>15</td>\n",
       "      <td>32</td>\n",
       "      <td>33</td>\n",
       "      <td>48</td>\n",
       "      <td>1</td>\n",
       "      <td>154.244.27000</td>\n",
       "      <td>232</td>\n",
       "      <td>664.84600</td>\n",
       "      <td>000</td>\n",
       "    </tr>\n",
       "    <tr>\n",
       "      <th>3</th>\n",
       "      <td>4</td>\n",
       "      <td>24/03/1994</td>\n",
       "      <td>27</td>\n",
       "      <td>57</td>\n",
       "      <td>60</td>\n",
       "      <td>61</td>\n",
       "      <td>77</td>\n",
       "      <td>1</td>\n",
       "      <td>124.185.24600</td>\n",
       "      <td>78</td>\n",
       "      <td>1.592.11900</td>\n",
       "      <td>000</td>\n",
       "    </tr>\n",
       "    <tr>\n",
       "      <th>4</th>\n",
       "      <td>5</td>\n",
       "      <td>27/03/1994</td>\n",
       "      <td>19</td>\n",
       "      <td>44</td>\n",
       "      <td>53</td>\n",
       "      <td>54</td>\n",
       "      <td>71</td>\n",
       "      <td>1</td>\n",
       "      <td>147.595.71500</td>\n",
       "      <td>137</td>\n",
       "      <td>1.077.34100</td>\n",
       "      <td>000</td>\n",
       "    </tr>\n",
       "  </tbody>\n",
       "</table>\n",
       "</div>"
      ],
      "text/plain": [
       "0 concurso data_sorteio   1   2   3   4   5 ganhadores_quina   rateio_quina  \\\n",
       "0        1   13/03/1994  25  45  60  76  79                3   75.731.22500   \n",
       "1        2   17/03/1994  13  30  58  63  64                1  118.499.39700   \n",
       "2        3   20/03/1994  05  15  32  33  48                1  154.244.27000   \n",
       "3        4   24/03/1994  27  57  60  61  77                1  124.185.24600   \n",
       "4        5   27/03/1994  19  44  53  54  71                1  147.595.71500   \n",
       "\n",
       "0 ganhadores_quadra rateio_quadra valor_acumulado  \n",
       "0               127   1.788.92700             000  \n",
       "1               105   1.128.56500             000  \n",
       "2               232     664.84600             000  \n",
       "3                78   1.592.11900             000  \n",
       "4               137   1.077.34100             000  "
      ]
     },
     "execution_count": 19,
     "metadata": {},
     "output_type": "execute_result"
    }
   ],
   "source": [
    "df.head()"
   ]
  },
  {
   "cell_type": "code",
   "execution_count": 20,
   "metadata": {},
   "outputs": [
    {
     "name": "stdout",
     "output_type": "stream",
     "text": [
      "<class 'pandas.core.frame.DataFrame'>\n",
      "RangeIndex: 4870 entries, 0 to 4869\n",
      "Data columns (total 12 columns):\n",
      "concurso             4870 non-null object\n",
      "data_sorteio         4870 non-null object\n",
      "1                    4870 non-null object\n",
      "2                    4870 non-null object\n",
      "3                    4870 non-null object\n",
      "4                    4870 non-null object\n",
      "5                    4870 non-null object\n",
      "ganhadores_quina     4870 non-null object\n",
      "rateio_quina         4870 non-null object\n",
      "ganhadores_quadra    4870 non-null object\n",
      "rateio_quadra        4870 non-null object\n",
      "valor_acumulado      4870 non-null object\n",
      "dtypes: object(12)\n",
      "memory usage: 456.6+ KB\n"
     ]
    }
   ],
   "source": [
    "df.info()"
   ]
  },
  {
   "cell_type": "markdown",
   "metadata": {},
   "source": [
    "Agora todas as colunas possuem a mesma quantidade de linhas"
   ]
  },
  {
   "cell_type": "markdown",
   "metadata": {},
   "source": [
    "### Tipagem\n",
    "\n",
    "A coluna data_sorteio será convertida para datetime, rateios para float e as demais para inteiro"
   ]
  },
  {
   "cell_type": "code",
   "execution_count": 21,
   "metadata": {},
   "outputs": [],
   "source": [
    "# Convertendo a coluna data_sorteio para datetime\n",
    "df['data_sorteio'] = pd.to_datetime(df['data_sorteio'])"
   ]
  },
  {
   "cell_type": "code",
   "execution_count": 22,
   "metadata": {},
   "outputs": [],
   "source": [
    "# Inserindo uma coluna com o ano de cada sorteio\n",
    "\n",
    "df['ano'] = df['data_sorteio'].dt.year"
   ]
  },
  {
   "cell_type": "markdown",
   "metadata": {},
   "source": [
    "#### Problemas com as casas decimais\n",
    "Ao analisar os valores nos passos futuros, verificamos que as casas decimais ficaram a esquerda do .\n",
    "Para resolver a questão iremos e remover os dois ultimos numeros, descartando o valor dos decimais, como estamos trabalhando com valores na casa dos __milhões__ alguns __centavos__ não atrapalham nossos resultados."
   ]
  },
  {
   "cell_type": "code",
   "execution_count": 23,
   "metadata": {},
   "outputs": [],
   "source": [
    "# Colunas que possuem os valores que serão tratados\n",
    "colunas_valores = ['rateio_quina','rateio_quadra','valor_acumulado'] #colunas que serão convertidas para float"
   ]
  },
  {
   "cell_type": "code",
   "execution_count": 24,
   "metadata": {},
   "outputs": [],
   "source": [
    "# Criando uma copia de cada coluna para o caso de erros na conversão ser fácil a recuperação\n",
    "pos = 0\n",
    "copia = pd.DataFrame()\n",
    "for coluna in colunas_valores:\n",
    "    copia[coluna] = df[coluna]\n",
    "    pos += 1"
   ]
  },
  {
   "cell_type": "code",
   "execution_count": 25,
   "metadata": {},
   "outputs": [
    {
     "name": "stdout",
     "output_type": "stream",
     "text": [
      "0     75.731.22500\n",
      "1    118.499.39700\n",
      "2    154.244.27000\n",
      "Name: rateio_quina, dtype: object\n",
      "0    1.788.92700\n",
      "1    1.128.56500\n",
      "2      664.84600\n",
      "Name: rateio_quadra, dtype: object\n",
      "0    000\n",
      "1    000\n",
      "2    000\n",
      "Name: valor_acumulado, dtype: object\n"
     ]
    }
   ],
   "source": [
    "# Conferindo se a copia foi feita\n",
    "\n",
    "for coluna in colunas_valores:\n",
    "    print(copia[coluna].head(3))"
   ]
  },
  {
   "cell_type": "code",
   "execution_count": 26,
   "metadata": {},
   "outputs": [],
   "source": [
    "# Trabalhando com os valores\n",
    "\n",
    "for coluna in colunas_valores:\n",
    "    df[coluna] = df[coluna].str.replace('.','') #removendo o . dos valores"
   ]
  },
  {
   "cell_type": "code",
   "execution_count": 27,
   "metadata": {},
   "outputs": [
    {
     "data": {
      "text/html": [
       "<div>\n",
       "<style scoped>\n",
       "    .dataframe tbody tr th:only-of-type {\n",
       "        vertical-align: middle;\n",
       "    }\n",
       "\n",
       "    .dataframe tbody tr th {\n",
       "        vertical-align: top;\n",
       "    }\n",
       "\n",
       "    .dataframe thead th {\n",
       "        text-align: right;\n",
       "    }\n",
       "</style>\n",
       "<table border=\"1\" class=\"dataframe\">\n",
       "  <thead>\n",
       "    <tr style=\"text-align: right;\">\n",
       "      <th></th>\n",
       "      <th>concurso</th>\n",
       "      <th>data_sorteio</th>\n",
       "      <th>1</th>\n",
       "      <th>2</th>\n",
       "      <th>3</th>\n",
       "      <th>4</th>\n",
       "      <th>5</th>\n",
       "      <th>ganhadores_quina</th>\n",
       "      <th>rateio_quina</th>\n",
       "      <th>ganhadores_quadra</th>\n",
       "      <th>rateio_quadra</th>\n",
       "      <th>valor_acumulado</th>\n",
       "      <th>ano</th>\n",
       "    </tr>\n",
       "  </thead>\n",
       "  <tbody>\n",
       "    <tr>\n",
       "      <th>0</th>\n",
       "      <td>1</td>\n",
       "      <td>1994-03-13</td>\n",
       "      <td>25</td>\n",
       "      <td>45</td>\n",
       "      <td>60</td>\n",
       "      <td>76</td>\n",
       "      <td>79</td>\n",
       "      <td>3</td>\n",
       "      <td>7573122500</td>\n",
       "      <td>127</td>\n",
       "      <td>178892700</td>\n",
       "      <td>000</td>\n",
       "      <td>1994</td>\n",
       "    </tr>\n",
       "    <tr>\n",
       "      <th>1</th>\n",
       "      <td>2</td>\n",
       "      <td>1994-03-17</td>\n",
       "      <td>13</td>\n",
       "      <td>30</td>\n",
       "      <td>58</td>\n",
       "      <td>63</td>\n",
       "      <td>64</td>\n",
       "      <td>1</td>\n",
       "      <td>11849939700</td>\n",
       "      <td>105</td>\n",
       "      <td>112856500</td>\n",
       "      <td>000</td>\n",
       "      <td>1994</td>\n",
       "    </tr>\n",
       "    <tr>\n",
       "      <th>2</th>\n",
       "      <td>3</td>\n",
       "      <td>1994-03-20</td>\n",
       "      <td>05</td>\n",
       "      <td>15</td>\n",
       "      <td>32</td>\n",
       "      <td>33</td>\n",
       "      <td>48</td>\n",
       "      <td>1</td>\n",
       "      <td>15424427000</td>\n",
       "      <td>232</td>\n",
       "      <td>66484600</td>\n",
       "      <td>000</td>\n",
       "      <td>1994</td>\n",
       "    </tr>\n",
       "    <tr>\n",
       "      <th>3</th>\n",
       "      <td>4</td>\n",
       "      <td>1994-03-24</td>\n",
       "      <td>27</td>\n",
       "      <td>57</td>\n",
       "      <td>60</td>\n",
       "      <td>61</td>\n",
       "      <td>77</td>\n",
       "      <td>1</td>\n",
       "      <td>12418524600</td>\n",
       "      <td>78</td>\n",
       "      <td>159211900</td>\n",
       "      <td>000</td>\n",
       "      <td>1994</td>\n",
       "    </tr>\n",
       "    <tr>\n",
       "      <th>4</th>\n",
       "      <td>5</td>\n",
       "      <td>1994-03-27</td>\n",
       "      <td>19</td>\n",
       "      <td>44</td>\n",
       "      <td>53</td>\n",
       "      <td>54</td>\n",
       "      <td>71</td>\n",
       "      <td>1</td>\n",
       "      <td>14759571500</td>\n",
       "      <td>137</td>\n",
       "      <td>107734100</td>\n",
       "      <td>000</td>\n",
       "      <td>1994</td>\n",
       "    </tr>\n",
       "  </tbody>\n",
       "</table>\n",
       "</div>"
      ],
      "text/plain": [
       "0 concurso data_sorteio   1   2   3   4   5 ganhadores_quina rateio_quina  \\\n",
       "0        1   1994-03-13  25  45  60  76  79                3   7573122500   \n",
       "1        2   1994-03-17  13  30  58  63  64                1  11849939700   \n",
       "2        3   1994-03-20  05  15  32  33  48                1  15424427000   \n",
       "3        4   1994-03-24  27  57  60  61  77                1  12418524600   \n",
       "4        5   1994-03-27  19  44  53  54  71                1  14759571500   \n",
       "\n",
       "0 ganhadores_quadra rateio_quadra valor_acumulado   ano  \n",
       "0               127     178892700             000  1994  \n",
       "1               105     112856500             000  1994  \n",
       "2               232      66484600             000  1994  \n",
       "3                78     159211900             000  1994  \n",
       "4               137     107734100             000  1994  "
      ]
     },
     "execution_count": 27,
     "metadata": {},
     "output_type": "execute_result"
    }
   ],
   "source": [
    "df.head()"
   ]
  },
  {
   "cell_type": "code",
   "execution_count": 28,
   "metadata": {},
   "outputs": [],
   "source": [
    "# Removendo o dois ultimos numeros das colunas de ratio\n",
    "\n",
    "for coluna in colunas_valores:\n",
    "    temp = df[coluna].copy() #criando uma copia temporaria das informações da coluna\n",
    "    pos = 0 #variavel criada para posicionar a atualização\n",
    "    for valor in temp: #para cada valor\n",
    "        temp[pos] = valor[:-2] #atualizar o valor para ele mesmo removendo sem as ultimas duas posições\n",
    "        pos += 1 \n",
    "    df[coluna] = temp #copiar o conteudo da copia temporaria para a coluna"
   ]
  },
  {
   "cell_type": "code",
   "execution_count": 29,
   "metadata": {},
   "outputs": [
    {
     "data": {
      "text/html": [
       "<div>\n",
       "<style scoped>\n",
       "    .dataframe tbody tr th:only-of-type {\n",
       "        vertical-align: middle;\n",
       "    }\n",
       "\n",
       "    .dataframe tbody tr th {\n",
       "        vertical-align: top;\n",
       "    }\n",
       "\n",
       "    .dataframe thead th {\n",
       "        text-align: right;\n",
       "    }\n",
       "</style>\n",
       "<table border=\"1\" class=\"dataframe\">\n",
       "  <thead>\n",
       "    <tr style=\"text-align: right;\">\n",
       "      <th></th>\n",
       "      <th>concurso</th>\n",
       "      <th>data_sorteio</th>\n",
       "      <th>1</th>\n",
       "      <th>2</th>\n",
       "      <th>3</th>\n",
       "      <th>4</th>\n",
       "      <th>5</th>\n",
       "      <th>ganhadores_quina</th>\n",
       "      <th>rateio_quina</th>\n",
       "      <th>ganhadores_quadra</th>\n",
       "      <th>rateio_quadra</th>\n",
       "      <th>valor_acumulado</th>\n",
       "      <th>ano</th>\n",
       "    </tr>\n",
       "  </thead>\n",
       "  <tbody>\n",
       "    <tr>\n",
       "      <th>0</th>\n",
       "      <td>1</td>\n",
       "      <td>1994-03-13</td>\n",
       "      <td>25</td>\n",
       "      <td>45</td>\n",
       "      <td>60</td>\n",
       "      <td>76</td>\n",
       "      <td>79</td>\n",
       "      <td>3</td>\n",
       "      <td>75731225</td>\n",
       "      <td>127</td>\n",
       "      <td>1788927</td>\n",
       "      <td>0</td>\n",
       "      <td>1994</td>\n",
       "    </tr>\n",
       "    <tr>\n",
       "      <th>1</th>\n",
       "      <td>2</td>\n",
       "      <td>1994-03-17</td>\n",
       "      <td>13</td>\n",
       "      <td>30</td>\n",
       "      <td>58</td>\n",
       "      <td>63</td>\n",
       "      <td>64</td>\n",
       "      <td>1</td>\n",
       "      <td>118499397</td>\n",
       "      <td>105</td>\n",
       "      <td>1128565</td>\n",
       "      <td>0</td>\n",
       "      <td>1994</td>\n",
       "    </tr>\n",
       "    <tr>\n",
       "      <th>2</th>\n",
       "      <td>3</td>\n",
       "      <td>1994-03-20</td>\n",
       "      <td>05</td>\n",
       "      <td>15</td>\n",
       "      <td>32</td>\n",
       "      <td>33</td>\n",
       "      <td>48</td>\n",
       "      <td>1</td>\n",
       "      <td>154244270</td>\n",
       "      <td>232</td>\n",
       "      <td>664846</td>\n",
       "      <td>0</td>\n",
       "      <td>1994</td>\n",
       "    </tr>\n",
       "    <tr>\n",
       "      <th>3</th>\n",
       "      <td>4</td>\n",
       "      <td>1994-03-24</td>\n",
       "      <td>27</td>\n",
       "      <td>57</td>\n",
       "      <td>60</td>\n",
       "      <td>61</td>\n",
       "      <td>77</td>\n",
       "      <td>1</td>\n",
       "      <td>124185246</td>\n",
       "      <td>78</td>\n",
       "      <td>1592119</td>\n",
       "      <td>0</td>\n",
       "      <td>1994</td>\n",
       "    </tr>\n",
       "    <tr>\n",
       "      <th>4</th>\n",
       "      <td>5</td>\n",
       "      <td>1994-03-27</td>\n",
       "      <td>19</td>\n",
       "      <td>44</td>\n",
       "      <td>53</td>\n",
       "      <td>54</td>\n",
       "      <td>71</td>\n",
       "      <td>1</td>\n",
       "      <td>147595715</td>\n",
       "      <td>137</td>\n",
       "      <td>1077341</td>\n",
       "      <td>0</td>\n",
       "      <td>1994</td>\n",
       "    </tr>\n",
       "  </tbody>\n",
       "</table>\n",
       "</div>"
      ],
      "text/plain": [
       "0 concurso data_sorteio   1   2   3   4   5 ganhadores_quina rateio_quina  \\\n",
       "0        1   1994-03-13  25  45  60  76  79                3     75731225   \n",
       "1        2   1994-03-17  13  30  58  63  64                1    118499397   \n",
       "2        3   1994-03-20  05  15  32  33  48                1    154244270   \n",
       "3        4   1994-03-24  27  57  60  61  77                1    124185246   \n",
       "4        5   1994-03-27  19  44  53  54  71                1    147595715   \n",
       "\n",
       "0 ganhadores_quadra rateio_quadra valor_acumulado   ano  \n",
       "0               127       1788927               0  1994  \n",
       "1               105       1128565               0  1994  \n",
       "2               232        664846               0  1994  \n",
       "3                78       1592119               0  1994  \n",
       "4               137       1077341               0  1994  "
      ]
     },
     "execution_count": 29,
     "metadata": {},
     "output_type": "execute_result"
    }
   ],
   "source": [
    "# Conferindo os valores\n",
    "df.head()"
   ]
  },
  {
   "cell_type": "code",
   "execution_count": 30,
   "metadata": {},
   "outputs": [
    {
     "name": "stdout",
     "output_type": "stream",
     "text": [
      "<class 'pandas.core.frame.DataFrame'>\n",
      "RangeIndex: 4870 entries, 0 to 4869\n",
      "Data columns (total 13 columns):\n",
      "concurso             4870 non-null object\n",
      "data_sorteio         4870 non-null datetime64[ns]\n",
      "1                    4870 non-null object\n",
      "2                    4870 non-null object\n",
      "3                    4870 non-null object\n",
      "4                    4870 non-null object\n",
      "5                    4870 non-null object\n",
      "ganhadores_quina     4870 non-null object\n",
      "rateio_quina         4870 non-null object\n",
      "ganhadores_quadra    4870 non-null object\n",
      "rateio_quadra        4870 non-null object\n",
      "valor_acumulado      4870 non-null object\n",
      "ano                  4870 non-null int64\n",
      "dtypes: datetime64[ns](1), int64(1), object(11)\n",
      "memory usage: 494.7+ KB\n"
     ]
    }
   ],
   "source": [
    "df.info()"
   ]
  },
  {
   "cell_type": "code",
   "execution_count": 31,
   "metadata": {},
   "outputs": [],
   "source": [
    "# Convertendo as colunas para inteiro\n",
    "\n",
    "colunas_int = ['concurso','rateio_quina','rateio_quadra','1','2','3','4','5',\n",
    "               'ganhadores_quina','ganhadores_quadra','valor_acumulado']\n",
    "\n",
    "for coluna in colunas_int:\n",
    "    df[coluna] = df[coluna].astype(int)"
   ]
  },
  {
   "cell_type": "code",
   "execution_count": 32,
   "metadata": {},
   "outputs": [
    {
     "name": "stdout",
     "output_type": "stream",
     "text": [
      "<class 'pandas.core.frame.DataFrame'>\n",
      "RangeIndex: 4870 entries, 0 to 4869\n",
      "Data columns (total 13 columns):\n",
      "concurso             4870 non-null int32\n",
      "data_sorteio         4870 non-null datetime64[ns]\n",
      "1                    4870 non-null int32\n",
      "2                    4870 non-null int32\n",
      "3                    4870 non-null int32\n",
      "4                    4870 non-null int32\n",
      "5                    4870 non-null int32\n",
      "ganhadores_quina     4870 non-null int32\n",
      "rateio_quina         4870 non-null int32\n",
      "ganhadores_quadra    4870 non-null int32\n",
      "rateio_quadra        4870 non-null int32\n",
      "valor_acumulado      4870 non-null int32\n",
      "ano                  4870 non-null int64\n",
      "dtypes: datetime64[ns](1), int32(11), int64(1)\n",
      "memory usage: 285.4 KB\n"
     ]
    }
   ],
   "source": [
    "df.info()"
   ]
  },
  {
   "cell_type": "code",
   "execution_count": 33,
   "metadata": {},
   "outputs": [],
   "source": [
    "# 2.500.000.000\n",
    "num_teste = 2500000000.00"
   ]
  },
  {
   "cell_type": "markdown",
   "metadata": {},
   "source": [
    "### Funções"
   ]
  },
  {
   "cell_type": "code",
   "execution_count": 34,
   "metadata": {},
   "outputs": [],
   "source": [
    "def formato_brl(valor):\n",
    "    \"\"\"\n",
    "    Função para converter numeração para formato moeda BRL\n",
    "    argumentos: valor = valor que será tratado\n",
    "    retorna: valor formato     \n",
    "    \"\"\"\n",
    "    temp = str(int(valor))[::-1]\n",
    "    cont = 1\n",
    "    novo_valor = ''\n",
    "    for digito in temp:\n",
    "        if cont == 4:\n",
    "            novo_valor = '.' + novo_valor\n",
    "            cont = 1\n",
    "        novo_valor = digito + novo_valor\n",
    "        cont += 1\n",
    "    novo_valor = novo_valor + ',00'\n",
    "    novo_valor = 'R$ ' + novo_valor\n",
    "    return novo_valor"
   ]
  },
  {
   "cell_type": "code",
   "execution_count": 35,
   "metadata": {},
   "outputs": [
    {
     "data": {
      "text/plain": [
       "'R$ 2.500.000.000,00'"
      ]
     },
     "execution_count": 35,
     "metadata": {},
     "output_type": "execute_result"
    }
   ],
   "source": [
    "# Testando e conferindo a função\n",
    "formato_brl(num_teste)"
   ]
  },
  {
   "cell_type": "markdown",
   "metadata": {},
   "source": [
    "__Obs.:__ Depois de elaborar a função, localizei uma [artigo](http://blog.alura.com.br/formatando-moeda-no-python/) falando da biblioteca locale. [Exemplo](https://pt.stackoverflow.com/questions/66183/como-retornar-um-valor-no-formato-moeda-brasileiro-na-view-do-django) de aplicação da função para moeda brasileira.\n",
    "\n",
    "__Como já elaborei a função, manterei o meu código utilizando ela__"
   ]
  },
  {
   "cell_type": "markdown",
   "metadata": {},
   "source": [
    "### Analisando nosso DF"
   ]
  },
  {
   "cell_type": "code",
   "execution_count": 36,
   "metadata": {},
   "outputs": [
    {
     "data": {
      "text/plain": [
       "0\n",
       "concurso                              13\n",
       "data_sorteio         1994-01-05 00:00:00\n",
       "1                                     13\n",
       "2                                     33\n",
       "3                                     38\n",
       "4                                     39\n",
       "5                                     72\n",
       "ganhadores_quina                       0\n",
       "rateio_quina                           0\n",
       "ganhadores_quadra                    115\n",
       "rateio_quadra                    2006018\n",
       "valor_acumulado                230692109\n",
       "ano                                 1994\n",
       "Name: 12, dtype: object"
      ]
     },
     "execution_count": 36,
     "metadata": {},
     "output_type": "execute_result"
    }
   ],
   "source": [
    "# Primeiro sorteio que consta em nosso df\n",
    "\n",
    "df.loc[df['data_sorteio'].idxmin()]"
   ]
  },
  {
   "cell_type": "code",
   "execution_count": 37,
   "metadata": {},
   "outputs": [
    {
     "data": {
      "text/plain": [
       "0\n",
       "concurso                            4870\n",
       "data_sorteio         2019-08-01 00:00:00\n",
       "1                                      7\n",
       "2                                     16\n",
       "3                                     55\n",
       "4                                     49\n",
       "5                                     31\n",
       "ganhadores_quina                       0\n",
       "rateio_quina                           0\n",
       "ganhadores_quadra                     69\n",
       "rateio_quadra                       6446\n",
       "valor_acumulado                  2211770\n",
       "ano                                 2019\n",
       "Name: 4869, dtype: object"
      ]
     },
     "execution_count": 37,
     "metadata": {},
     "output_type": "execute_result"
    }
   ],
   "source": [
    "# Último sorteio que consta em nosso df\n",
    "\n",
    "df.loc[df['data_sorteio'].idxmax()]"
   ]
  },
  {
   "cell_type": "code",
   "execution_count": 38,
   "metadata": {},
   "outputs": [
    {
     "data": {
      "text/plain": [
       "0\n",
       "concurso                            1157\n",
       "data_sorteio         2003-10-06 00:00:00\n",
       "1                                     10\n",
       "2                                     28\n",
       "3                                     78\n",
       "4                                      7\n",
       "5                                     62\n",
       "ganhadores_quina                      23\n",
       "rateio_quina                       14230\n",
       "ganhadores_quadra                    345\n",
       "rateio_quadra                        948\n",
       "valor_acumulado                        0\n",
       "ano                                 2003\n",
       "Name: 1156, dtype: object"
      ]
     },
     "execution_count": 38,
     "metadata": {},
     "output_type": "execute_result"
    }
   ],
   "source": [
    "# Menor valor pago\n",
    "\n",
    "df.loc[df[df['rateio_quina'] != 0]['rateio_quina'].idxmin()]"
   ]
  },
  {
   "cell_type": "code",
   "execution_count": 39,
   "metadata": {},
   "outputs": [
    {
     "data": {
      "text/plain": [
       "0\n",
       "concurso                              25\n",
       "data_sorteio         1994-06-16 00:00:00\n",
       "1                                      2\n",
       "2                                     29\n",
       "3                                     46\n",
       "4                                     69\n",
       "5                                     76\n",
       "ganhadores_quina                       2\n",
       "rateio_quina                   579215957\n",
       "ganhadores_quadra                    174\n",
       "rateio_quadra                    2667340\n",
       "valor_acumulado                        0\n",
       "ano                                 1994\n",
       "Name: 24, dtype: object"
      ]
     },
     "execution_count": 39,
     "metadata": {},
     "output_type": "execute_result"
    }
   ],
   "source": [
    "# Maior valor pago\n",
    "\n",
    "index = df['rateio_quina'].idxmax()\n",
    "df.loc[index]"
   ]
  },
  {
   "cell_type": "code",
   "execution_count": 40,
   "metadata": {},
   "outputs": [
    {
     "data": {
      "text/plain": [
       "0\n",
       "concurso                              14\n",
       "data_sorteio         1994-05-05 00:00:00\n",
       "1                                     44\n",
       "2                                     52\n",
       "3                                     60\n",
       "4                                     64\n",
       "5                                     68\n",
       "ganhadores_quina                       1\n",
       "rateio_quina                   525124015\n",
       "ganhadores_quadra                    106\n",
       "rateio_quadra                    2777659\n",
       "valor_acumulado                        0\n",
       "ano                                 1994\n",
       "Name: 13, dtype: object"
      ]
     },
     "execution_count": 40,
     "metadata": {},
     "output_type": "execute_result"
    }
   ],
   "source": [
    "# Maior valor pago para 1 unico ganhador\n",
    "\n",
    "index = df.query('ganhadores_quina == 1')['rateio_quina'].idxmax()\n",
    "df.loc[index]"
   ]
  },
  {
   "cell_type": "code",
   "execution_count": 41,
   "metadata": {},
   "outputs": [
    {
     "name": "stdout",
     "output_type": "stream",
     "text": [
      "O valor TOTAL pago em premiações é de R$ 6.834.935.935,00\n"
     ]
    }
   ],
   "source": [
    "# Total pago em premiões\n",
    "\n",
    "valor = formato_brl(df['rateio_quina'].sum())\n",
    "print('O valor TOTAL pago em premiações é de {}'\n",
    "     .format(valor))"
   ]
  },
  {
   "cell_type": "code",
   "execution_count": 42,
   "metadata": {},
   "outputs": [
    {
     "data": {
      "text/plain": [
       "0\n",
       "concurso                             211\n",
       "data_sorteio         1996-06-16 00:00:00\n",
       "1                                      3\n",
       "2                                     11\n",
       "3                                     19\n",
       "4                                     31\n",
       "5                                     39\n",
       "ganhadores_quina                      24\n",
       "rateio_quina                       15854\n",
       "ganhadores_quadra                   1087\n",
       "rateio_quadra                        350\n",
       "valor_acumulado                        0\n",
       "ano                                 1996\n",
       "Name: 210, dtype: object"
      ]
     },
     "execution_count": 42,
     "metadata": {},
     "output_type": "execute_result"
    }
   ],
   "source": [
    "# Jogo com maior numero de ganhadores\n",
    "\n",
    "index = df['ganhadores_quina'].idxmax\n",
    "df.loc[index]"
   ]
  },
  {
   "cell_type": "code",
   "execution_count": 43,
   "metadata": {},
   "outputs": [
    {
     "name": "stdout",
     "output_type": "stream",
     "text": [
      "No sorteio com maior números de ganhadores, cada ganhador levou R$ 660,00\n"
     ]
    }
   ],
   "source": [
    "dividido = formato_brl(df['rateio_quina'].loc[index] / df['ganhadores_quina'].loc[index])\n",
    "print('No sorteio com maior números de ganhadores, cada ganhador levou {}'\n",
    "     .format(dividido))"
   ]
  },
  {
   "cell_type": "markdown",
   "metadata": {},
   "source": [
    "### Valor ARRECADADO\n",
    "\n",
    "Sabendo que o prêmio bruto corresponde a __43,35%__ da arrecadação, vamos verificar qual foi o __valor total__ arrecadado na maior premiação."
   ]
  },
  {
   "cell_type": "code",
   "execution_count": 44,
   "metadata": {},
   "outputs": [],
   "source": [
    "#convertendo o valor para int64 usando o numpy devido ao tamanho do valor final\n",
    "\n",
    "valor = np.int64(df['rateio_quina'].max())\n",
    "arrecadado = formato_brl(((valor * 100) / 43.3))"
   ]
  },
  {
   "cell_type": "code",
   "execution_count": 45,
   "metadata": {},
   "outputs": [
    {
     "name": "stdout",
     "output_type": "stream",
     "text": [
      "O maior valor de premiação foi de R$ 579.215.957,00\n",
      "O VALOR TOTAL arrecadado neste sorteio foi de R$ 1.337.681.193,00\n"
     ]
    }
   ],
   "source": [
    "print('O maior valor de premiação foi de {}'\n",
    "      .format(formato_brl(valor)))\n",
    "print('O VALOR TOTAL arrecadado neste sorteio foi de {}'\n",
    "     .format(arrecadado))"
   ]
  },
  {
   "cell_type": "code",
   "execution_count": 46,
   "metadata": {},
   "outputs": [],
   "source": [
    "# E o valor TOTAL ARRECADO \n",
    "\n",
    "valor_total = np.int64(df['rateio_quina'].sum())\n",
    "arrecadado_total = formato_brl((valor_total * 100) / 43.3)"
   ]
  },
  {
   "cell_type": "code",
   "execution_count": 47,
   "metadata": {},
   "outputs": [
    {
     "name": "stdout",
     "output_type": "stream",
     "text": [
      "O valor total de premiações foi de R$ 6.834.935.935,00*\n",
      "Isso corresponde a uma arrecadação total de R$ 15.785.071.443,00*\n"
     ]
    }
   ],
   "source": [
    "print('O valor total de premiações foi de {}*'\n",
    "     .format(formato_brl(valor_total)))\n",
    "print('Isso corresponde a uma arrecadação total de {}*'\n",
    "     .format(arrecadado_total))"
   ]
  },
  {
   "cell_type": "markdown",
   "metadata": {},
   "source": [
    "_*calculos feitos sobre os valores pagos em premiações_"
   ]
  },
  {
   "cell_type": "markdown",
   "metadata": {},
   "source": [
    "### Analisando os dados utilizando gráficos"
   ]
  },
  {
   "cell_type": "code",
   "execution_count": 48,
   "metadata": {},
   "outputs": [],
   "source": [
    "# Agrupando por ano o total de ganhadores e valores pagos na QUINA\n",
    "\n",
    "quina_ganhadores = df.groupby('ano')['ganhadores_quina'].sum()\n",
    "quina_valores = df.groupby('ano')['rateio_quina'].sum()"
   ]
  },
  {
   "cell_type": "code",
   "execution_count": 49,
   "metadata": {},
   "outputs": [],
   "source": [
    "# Agrupando por ano o total de ganhadores e valores pagos na QUADRA\n",
    "\n",
    "quadra_ganhadores = df.groupby('ano')['ganhadores_quadra'].sum()\n",
    "quadra_valores = df.groupby('ano')['rateio_quadra'].sum()"
   ]
  },
  {
   "cell_type": "code",
   "execution_count": 50,
   "metadata": {},
   "outputs": [
    {
     "data": {
      "text/plain": [
       "<matplotlib.axes._subplots.AxesSubplot at 0xe23d6d8>"
      ]
     },
     "execution_count": 50,
     "metadata": {},
     "output_type": "execute_result"
    },
    {
     "data": {
      "image/png": "[encoded data removed]",
      "text/plain": [
       "<Figure size 432x288 with 1 Axes>"
      ]
     },
     "metadata": {
      "needs_background": "light"
     },
     "output_type": "display_data"
    }
   ],
   "source": [
    "# Plotando um gráfico comparativo do ganhadores por tipo de prêmio\n",
    "\n",
    "quina_ganhadores.plot()\n",
    "quadra_ganhadores.plot()"
   ]
  },
  {
   "cell_type": "markdown",
   "metadata": {},
   "source": [
    "O gráfico não ficou muito informativo devido a diferença entre os valores de cada tipo de ganhadores.\n",
    "Para plotar um gráfico melhor, iremos utilizar a proporção de cada tipo de ganhadores."
   ]
  },
  {
   "cell_type": "code",
   "execution_count": 51,
   "metadata": {},
   "outputs": [],
   "source": [
    "# Proporções\n",
    "# Totais\n",
    "\n",
    "total_quina = df['ganhadores_quina'].sum()\n",
    "valor_quina = df['rateio_quina'].sum()\n",
    "total_quadra = df['ganhadores_quadra'].sum()\n",
    "valor_quadra = df['rateio_quadra'].sum()\n",
    "\n",
    "# Proporção\n",
    "\n",
    "quina_ganhadores = quina_ganhadores / total_quina\n",
    "quina_valores = quina_valores / valor_quina\n",
    "quadra_ganhadores = quadra_ganhadores / total_quadra\n",
    "quadra_valores = quadra_valores / valor_quadra"
   ]
  },
  {
   "cell_type": "code",
   "execution_count": 52,
   "metadata": {},
   "outputs": [
    {
     "data": {
      "image/png": "[encoded data removed]",
      "text/plain": [
       "<Figure size 720x360 with 1 Axes>"
      ]
     },
     "metadata": {
      "needs_background": "light"
     },
     "output_type": "display_data"
    }
   ],
   "source": [
    "# Plotando um gráfico com os valores proporcionais - GANHADORES\n",
    "\n",
    "quina_ganhadores.plot(label='Quina', figsize=(10,5))\n",
    "quadra_ganhadores.plot(label='Quadra')\n",
    "plt.title('Ganhadores por ano')\n",
    "plt.xlabel('')\n",
    "plt.legend();"
   ]
  },
  {
   "cell_type": "markdown",
   "metadata": {},
   "source": [
    "Podemos observar que os gráficos possuem desenho parecido ficando os números da __Quina__ acima dos da __Quadra__ até meados de 2004 e invertendo a partir de 2009 onde o número de ganhadores da __Quadra__ fica acima dos da __Quina__."
   ]
  },
  {
   "cell_type": "code",
   "execution_count": 53,
   "metadata": {},
   "outputs": [
    {
     "data": {
      "image/png": "[encoded data removed]",
      "text/plain": [
       "<Figure size 720x360 with 1 Axes>"
      ]
     },
     "metadata": {
      "needs_background": "light"
     },
     "output_type": "display_data"
    }
   ],
   "source": [
    "# Plotando um gráfico com os valores proporcionais - GANHADORES\n",
    "\n",
    "quina_valores.plot(label='Quina', figsize=(10,5))\n",
    "quadra_valores.plot(label='Quadra')\n",
    "plt.title('Valores por ano')\n",
    "plt.xlabel('')\n",
    "plt.legend();"
   ]
  },
  {
   "cell_type": "markdown",
   "metadata": {},
   "source": [
    "Podemos observar uma queda de 1994 para 1995, provavelmente devido ao inicio dos registros e então passam a serguir uma linha uniforme."
   ]
  },
  {
   "cell_type": "code",
   "execution_count": 54,
   "metadata": {},
   "outputs": [
    {
     "data": {
      "image/png": "[encoded data removed]",
      "text/plain": [
       "<Figure size 720x360 with 1 Axes>"
      ]
     },
     "metadata": {
      "needs_background": "light"
     },
     "output_type": "display_data"
    }
   ],
   "source": [
    "# Valor acumulado\n",
    "\n",
    "valor_acumulado = df.groupby('ano')['valor_acumulado'].sum()\n",
    "valor_acumulado.plot(figsize=(10,5))\n",
    "plt.title('Valor acumulado - total ano')\n",
    "plt.xlabel('')\n",
    "plt.ylabel('Valores');"
   ]
  },
  {
   "cell_type": "markdown",
   "metadata": {},
   "source": [
    "Não encontramos maiores informações sobre como funciona o __valor acumulado__ na mega sena, portando não podemos fazer maiores considerações, apenas que segue uma linha crescente apesar de toda a variação apresentada."
   ]
  },
  {
   "cell_type": "code",
   "execution_count": 55,
   "metadata": {},
   "outputs": [],
   "source": [
    "# Grafico com o VALOR ACUMULADO e premiações por categoria"
   ]
  },
  {
   "cell_type": "code",
   "execution_count": 56,
   "metadata": {},
   "outputs": [],
   "source": [
    "# Fazendo a propoção do VALOR ACUMULADO\n",
    "\n",
    "total_acumulado = df['valor_acumulado'].sum()\n",
    "valor_acumulado = valor_acumulado / total_acumulado"
   ]
  },
  {
   "cell_type": "code",
   "execution_count": 57,
   "metadata": {},
   "outputs": [
    {
     "data": {
      "image/png": "[encoded data removed]",
      "text/plain": [
       "<Figure size 720x360 with 1 Axes>"
      ]
     },
     "metadata": {
      "needs_background": "light"
     },
     "output_type": "display_data"
    }
   ],
   "source": [
    "# Plotando o gráfico\n",
    "\n",
    "valor_acumulado.plot(label='Acumulado', figsize=(10,5))\n",
    "quina_valores.plot(label='Quina')\n",
    "quadra_valores.plot(label='Quadra')\n",
    "plt.title('Valores por ano - MEGA SENA')\n",
    "plt.xlabel('')\n",
    "plt.legend();"
   ]
  },
  {
   "cell_type": "markdown",
   "metadata": {},
   "source": [
    "Observamos que o valor acumulado também segue padrão semelhante ao das premiações, pois apesar de não sabermos em detalhes, sabemos que existe relação entre o valor que acumula e as premiações"
   ]
  },
  {
   "cell_type": "markdown",
   "metadata": {},
   "source": [
    "## Conclusão"
   ]
  },
  {
   "cell_type": "markdown",
   "metadata": {},
   "source": [
    "Como observado nos dados expostos acima, seguiram uma trajetório de crescimento até _2015/2016_ e então iniciaram uma queda registrada até o momento.\n",
    "\n",
    "A proporção de ganhadores na sena, quina e quadra seguem trajetória parecida entre si e assim como os valores apresentam uma queda a partir de 2015.\n",
    "\n",
    "Com base nas informações da CAIXA, verificamos que o valor arrecadado é bem superior que o das premiações."
   ]
  },
  {
   "cell_type": "markdown",
   "metadata": {},
   "source": [
    "### Limitações"
   ]
  },
  {
   "cell_type": "markdown",
   "metadata": {},
   "source": [
    "Nosso dataframe foi importado a partir de um arquivo _.htm_ e apresentou algumas inconsistencias durante a analise devido a algumas quebras de valores que foram interpretadas como quebra de linha.\n",
    "\n",
    "- Para contornar o problema removemos as linhas criadas de forma a não afetar nossas analises\n",
    "\n",
    "As colunas foram importadas como _string_ o que nos levou a realizar as devidas conversões:\n",
    "- data_sorteio - convertida para datetime\n",
    "- demais colunas - convertidas para int, mesmo as colunas que tratam de valores foram convertidas para int para facilitar a manipulação de valores altos, e por trabalharmos com valores na casa dos milhões e bilhões, o descarte dos centavos não afetam os resultados finais."
   ]
  },
  {
   "cell_type": "markdown",
   "metadata": {},
   "source": [
    "### Aqui iremos chamar a função PALPITE para elaborar palpites baseados no df"
   ]
  },
  {
   "cell_type": "code",
   "execution_count": 58,
   "metadata": {},
   "outputs": [],
   "source": [
    "# Dados para elaboração do palpite\n",
    "# Alterar apenas estas duas variaveis\n",
    "\n",
    "palpitar = 2\n",
    "bolas = 0"
   ]
  },
  {
   "cell_type": "code",
   "execution_count": 59,
   "metadata": {},
   "outputs": [
    {
     "name": "stdout",
     "output_type": "stream",
     "text": [
      "Palpite 1\n",
      "9 - 27 - 79 - 56 - 53 - \n",
      "\n",
      "Palpite 2\n",
      "9 - 18 - 73 - 54 - 80 - \n",
      "\n"
     ]
    }
   ],
   "source": [
    "# Rodando a função com \n",
    "palpite(palpitar,bolas,5,df)"
   ]
  },
  {
   "cell_type": "markdown",
   "metadata": {},
   "source": [
    "### Ultimo resultado de jogo"
   ]
  },
  {
   "cell_type": "code",
   "execution_count": 60,
   "metadata": {},
   "outputs": [
    {
     "data": {
      "text/html": [
       "<div>\n",
       "<style scoped>\n",
       "    .dataframe tbody tr th:only-of-type {\n",
       "        vertical-align: middle;\n",
       "    }\n",
       "\n",
       "    .dataframe tbody tr th {\n",
       "        vertical-align: top;\n",
       "    }\n",
       "\n",
       "    .dataframe thead th {\n",
       "        text-align: right;\n",
       "    }\n",
       "</style>\n",
       "<table border=\"1\" class=\"dataframe\">\n",
       "  <thead>\n",
       "    <tr style=\"text-align: right;\">\n",
       "      <th></th>\n",
       "      <th>concurso</th>\n",
       "      <th>data_sorteio</th>\n",
       "      <th>1</th>\n",
       "      <th>2</th>\n",
       "      <th>3</th>\n",
       "      <th>4</th>\n",
       "      <th>5</th>\n",
       "      <th>ganhadores_quina</th>\n",
       "      <th>rateio_quina</th>\n",
       "      <th>ganhadores_quadra</th>\n",
       "      <th>rateio_quadra</th>\n",
       "      <th>valor_acumulado</th>\n",
       "      <th>ano</th>\n",
       "    </tr>\n",
       "  </thead>\n",
       "  <tbody>\n",
       "    <tr>\n",
       "      <th>4869</th>\n",
       "      <td>4870</td>\n",
       "      <td>2019-08-01</td>\n",
       "      <td>7</td>\n",
       "      <td>16</td>\n",
       "      <td>55</td>\n",
       "      <td>49</td>\n",
       "      <td>31</td>\n",
       "      <td>0</td>\n",
       "      <td>0</td>\n",
       "      <td>69</td>\n",
       "      <td>6446</td>\n",
       "      <td>2211770</td>\n",
       "      <td>2019</td>\n",
       "    </tr>\n",
       "  </tbody>\n",
       "</table>\n",
       "</div>"
      ],
      "text/plain": [
       "0     concurso data_sorteio  1   2   3   4   5  ganhadores_quina  \\\n",
       "4869      4870   2019-08-01  7  16  55  49  31                 0   \n",
       "\n",
       "0     rateio_quina  ganhadores_quadra  rateio_quadra  valor_acumulado   ano  \n",
       "4869             0                 69           6446          2211770  2019  "
      ]
     },
     "execution_count": 60,
     "metadata": {},
     "output_type": "execute_result"
    }
   ],
   "source": [
    "df.tail(1)"
   ]
  },
  {
   "cell_type": "markdown",
   "metadata": {},
   "source": [
    "__Fabiano__ _Lima_ - 02/01/2019"
   ]
  }
 ],
 "metadata": {
  "kernelspec": {
   "display_name": "Python 3",
   "language": "python",
   "name": "python3"
  },
  "language_info": {
   "codemirror_mode": {
    "name": "ipython",
    "version": 3
   },
   "file_extension": ".py",
   "mimetype": "text/x-python",
   "name": "python",
   "nbconvert_exporter": "python",
   "pygments_lexer": "ipython3",
   "version": "3.7.1"
  }
 },
 "nbformat": 4,
 "nbformat_minor": 2
}
