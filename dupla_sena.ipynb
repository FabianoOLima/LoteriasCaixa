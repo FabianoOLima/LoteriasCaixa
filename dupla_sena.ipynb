{
 "cells": [
  {
   "cell_type": "markdown",
   "metadata": {},
   "source": [
    "## Dupla-Sena\n",
    "\n",
    "Neste projeto iremos analisar os resultados de jogos da Dupla-Sena.\n",
    "\n",
    "Com apenas um bilhete da Dupla Sena, você tem o dobro de chances de ganhar: são dois sorteios por concurso e ganha acertando 3, 4, 5 ou 6 números no primeiro e/ou segundo sorteios.\n",
    "Basta escolher de 6 a 15 números dentre os 50 disponíveis e torcer.\n",
    "\n",
    "### Premiação\n",
    "\n",
    "O prêmio bruto corresponde a 43,35% da arrecadação. Desse valor, são distribuídos, __para o primeiro sorteio__:\n",
    "\n",
    "- 30% entre os acertadores de 6 números,\n",
    "- 10% entre os acertadores de 5 números,\n",
    "- 8% entre os acertadores de 4 números,\n",
    "- 4% entre os acertadores de 3 números;\n",
    "\n",
    "__E para o segundo sorteio:__\n",
    "\n",
    "- 11% são atribuídos entre os acertadores de 6 números,\n",
    "- 9% entre os acertadores de 5 números,\n",
    "- 8% entre os acertadores de 4 números e\n",
    "- 4% entre os acertadores de 3 números;\n",
    "- 16% ficam acumulados para a 1ª faixa do 1º sorteio (seis acertos) do próximo concurso especial de Páscoa.\n",
    "\n",
    "### Downloads\n",
    "- Informações sobre a [Dupla Sena](http://loterias.caixa.gov.br/wps/portal/loterias/landing/duplasena)\n",
    "- Arquivos de [Dados](http://www1.caixa.gov.br/loterias/_arquivos/loterias/d_dplsen.zip)"
   ]
  },
  {
   "cell_type": "markdown",
   "metadata": {},
   "source": [
    "![Logo](dupla_sena.png)"
   ]
  },
  {
   "cell_type": "code",
   "execution_count": 1,
   "metadata": {},
   "outputs": [],
   "source": [
    "# Importando as bibliotecas que iremos utilizar\n",
    "\n",
    "import pandas as pd\n",
    "import numpy as np\n",
    "import matplotlib.pyplot as plt\n",
    "from palpita import palpite\n",
    "\n",
    "%matplotlib inline"
   ]
  },
  {
   "cell_type": "code",
   "execution_count": 2,
   "metadata": {},
   "outputs": [],
   "source": [
    "# Carregando o arquivo, neste caso o arquivo veio em formato HTML\n",
    "\n",
    "dupla_sena = pd.read_html('D_DPLSEN.htm')"
   ]
  },
  {
   "cell_type": "code",
   "execution_count": 3,
   "metadata": {},
   "outputs": [
    {
     "data": {
      "text/html": [
       "<div>\n",
       "<style scoped>\n",
       "    .dataframe tbody tr th:only-of-type {\n",
       "        vertical-align: middle;\n",
       "    }\n",
       "\n",
       "    .dataframe tbody tr th {\n",
       "        vertical-align: top;\n",
       "    }\n",
       "\n",
       "    .dataframe thead th {\n",
       "        text-align: right;\n",
       "    }\n",
       "</style>\n",
       "<table border=\"1\" class=\"dataframe\">\n",
       "  <thead>\n",
       "    <tr style=\"text-align: right;\">\n",
       "      <th></th>\n",
       "      <th>0</th>\n",
       "      <th>1</th>\n",
       "      <th>2</th>\n",
       "      <th>3</th>\n",
       "      <th>4</th>\n",
       "      <th>5</th>\n",
       "      <th>6</th>\n",
       "      <th>7</th>\n",
       "      <th>8</th>\n",
       "      <th>9</th>\n",
       "      <th>...</th>\n",
       "      <th>27</th>\n",
       "      <th>28</th>\n",
       "      <th>29</th>\n",
       "      <th>30</th>\n",
       "      <th>31</th>\n",
       "      <th>32</th>\n",
       "      <th>33</th>\n",
       "      <th>34</th>\n",
       "      <th>35</th>\n",
       "      <th>36</th>\n",
       "    </tr>\n",
       "  </thead>\n",
       "  <tbody>\n",
       "    <tr>\n",
       "      <th>0</th>\n",
       "      <td>Concurso</td>\n",
       "      <td>Data Sorteio</td>\n",
       "      <td>1º número_Sorteio1</td>\n",
       "      <td>2º número_Sorteio1</td>\n",
       "      <td>3º número_Sorteio1</td>\n",
       "      <td>4º número_Sorteio1</td>\n",
       "      <td>5º número_Sorteio1</td>\n",
       "      <td>6º número_Sorteio1</td>\n",
       "      <td>Arrecadação_Total</td>\n",
       "      <td>Ganhadores_Sena_Sorteio1</td>\n",
       "      <td>...</td>\n",
       "      <td>Ganhadores_Sena_Sorteio2</td>\n",
       "      <td>Rateio_Sena_Sorteio2</td>\n",
       "      <td>Ganhadores_Quina_Sorteio2</td>\n",
       "      <td>Rateio_Quina_Sorteio2</td>\n",
       "      <td>Ganhadores_Quadra_Sorteio2</td>\n",
       "      <td>Rateio_Quadra_Sorteio2</td>\n",
       "      <td>Ganhadores_Terno_Sorteio2</td>\n",
       "      <td>Rateio_Terno_Sorteio2</td>\n",
       "      <td>Estimativa_Prêmio</td>\n",
       "      <td>Acumulado Especial de Páscoa</td>\n",
       "    </tr>\n",
       "    <tr>\n",
       "      <th>1</th>\n",
       "      <td>1</td>\n",
       "      <td>06/11/2001</td>\n",
       "      <td>41</td>\n",
       "      <td>48</td>\n",
       "      <td>15</td>\n",
       "      <td>07</td>\n",
       "      <td>24</td>\n",
       "      <td>50</td>\n",
       "      <td>000</td>\n",
       "      <td>0</td>\n",
       "      <td>...</td>\n",
       "      <td>0</td>\n",
       "      <td>000</td>\n",
       "      <td>55</td>\n",
       "      <td>2.31759</td>\n",
       "      <td>1307</td>\n",
       "      <td>9716</td>\n",
       "      <td>0</td>\n",
       "      <td>000</td>\n",
       "      <td>000</td>\n",
       "      <td>000</td>\n",
       "    </tr>\n",
       "    <tr>\n",
       "      <th>2</th>\n",
       "      <td>2</td>\n",
       "      <td>09/11/2001</td>\n",
       "      <td>11</td>\n",
       "      <td>38</td>\n",
       "      <td>32</td>\n",
       "      <td>04</td>\n",
       "      <td>09</td>\n",
       "      <td>42</td>\n",
       "      <td>000</td>\n",
       "      <td>0</td>\n",
       "      <td>...</td>\n",
       "      <td>0</td>\n",
       "      <td>000</td>\n",
       "      <td>35</td>\n",
       "      <td>2.65540</td>\n",
       "      <td>2014</td>\n",
       "      <td>4598</td>\n",
       "      <td>0</td>\n",
       "      <td>000</td>\n",
       "      <td>000</td>\n",
       "      <td>000</td>\n",
       "    </tr>\n",
       "    <tr>\n",
       "      <th>3</th>\n",
       "      <td>3</td>\n",
       "      <td>13/11/2001</td>\n",
       "      <td>42</td>\n",
       "      <td>34</td>\n",
       "      <td>11</td>\n",
       "      <td>44</td>\n",
       "      <td>45</td>\n",
       "      <td>47</td>\n",
       "      <td>000</td>\n",
       "      <td>0</td>\n",
       "      <td>...</td>\n",
       "      <td>0</td>\n",
       "      <td>000</td>\n",
       "      <td>21</td>\n",
       "      <td>4.71993</td>\n",
       "      <td>1264</td>\n",
       "      <td>7813</td>\n",
       "      <td>0</td>\n",
       "      <td>000</td>\n",
       "      <td>000</td>\n",
       "      <td>000</td>\n",
       "    </tr>\n",
       "    <tr>\n",
       "      <th>4</th>\n",
       "      <td>4</td>\n",
       "      <td>16/11/2001</td>\n",
       "      <td>38</td>\n",
       "      <td>44</td>\n",
       "      <td>50</td>\n",
       "      <td>46</td>\n",
       "      <td>43</td>\n",
       "      <td>29</td>\n",
       "      <td>000</td>\n",
       "      <td>0</td>\n",
       "      <td>...</td>\n",
       "      <td>0</td>\n",
       "      <td>000</td>\n",
       "      <td>8</td>\n",
       "      <td>10.66817</td>\n",
       "      <td>1042</td>\n",
       "      <td>8159</td>\n",
       "      <td>0</td>\n",
       "      <td>000</td>\n",
       "      <td>000</td>\n",
       "      <td>000</td>\n",
       "    </tr>\n",
       "  </tbody>\n",
       "</table>\n",
       "<p>5 rows × 37 columns</p>\n",
       "</div>"
      ],
      "text/plain": [
       "         0             1                   2                   3   \\\n",
       "0  Concurso  Data Sorteio  1º número_Sorteio1  2º número_Sorteio1   \n",
       "1         1    06/11/2001                  41                  48   \n",
       "2         2    09/11/2001                  11                  38   \n",
       "3         3    13/11/2001                  42                  34   \n",
       "4         4    16/11/2001                  38                  44   \n",
       "\n",
       "                   4                   5                   6   \\\n",
       "0  3º número_Sorteio1  4º número_Sorteio1  5º número_Sorteio1   \n",
       "1                  15                  07                  24   \n",
       "2                  32                  04                  09   \n",
       "3                  11                  44                  45   \n",
       "4                  50                  46                  43   \n",
       "\n",
       "                   7                  8                         9   \\\n",
       "0  6º número_Sorteio1  Arrecadação_Total  Ganhadores_Sena_Sorteio1   \n",
       "1                  50                000                         0   \n",
       "2                  42                000                         0   \n",
       "3                  47                000                         0   \n",
       "4                  29                000                         0   \n",
       "\n",
       "               ...                                     27  \\\n",
       "0              ...               Ganhadores_Sena_Sorteio2   \n",
       "1              ...                                      0   \n",
       "2              ...                                      0   \n",
       "3              ...                                      0   \n",
       "4              ...                                      0   \n",
       "\n",
       "                     28                         29                     30  \\\n",
       "0  Rateio_Sena_Sorteio2  Ganhadores_Quina_Sorteio2  Rateio_Quina_Sorteio2   \n",
       "1                   000                         55                2.31759   \n",
       "2                   000                         35                2.65540   \n",
       "3                   000                         21                4.71993   \n",
       "4                   000                          8               10.66817   \n",
       "\n",
       "                           31                      32  \\\n",
       "0  Ganhadores_Quadra_Sorteio2  Rateio_Quadra_Sorteio2   \n",
       "1                        1307                    9716   \n",
       "2                        2014                    4598   \n",
       "3                        1264                    7813   \n",
       "4                        1042                    8159   \n",
       "\n",
       "                          33                     34                 35  \\\n",
       "0  Ganhadores_Terno_Sorteio2  Rateio_Terno_Sorteio2  Estimativa_Prêmio   \n",
       "1                          0                    000                000   \n",
       "2                          0                    000                000   \n",
       "3                          0                    000                000   \n",
       "4                          0                    000                000   \n",
       "\n",
       "                             36  \n",
       "0  Acumulado Especial de Páscoa  \n",
       "1                           000  \n",
       "2                           000  \n",
       "3                           000  \n",
       "4                           000  \n",
       "\n",
       "[5 rows x 37 columns]"
      ]
     },
     "execution_count": 3,
     "metadata": {},
     "output_type": "execute_result"
    }
   ],
   "source": [
    "# Arquivo carregado como lista, iremos conferir suas 5 primeiras linhas\n",
    "dupla_sena[0][:5]"
   ]
  },
  {
   "cell_type": "code",
   "execution_count": 4,
   "metadata": {},
   "outputs": [],
   "source": [
    "# Iremos remover as colunas que não serão utilizadas em nossa analise\n",
    "colunas = [10,11,19,20,33,34,35,36]\n",
    "dupla_sena[0].drop(columns=colunas, inplace=True)"
   ]
  },
  {
   "cell_type": "code",
   "execution_count": 5,
   "metadata": {},
   "outputs": [
    {
     "data": {
      "text/html": [
       "<div>\n",
       "<style scoped>\n",
       "    .dataframe tbody tr th:only-of-type {\n",
       "        vertical-align: middle;\n",
       "    }\n",
       "\n",
       "    .dataframe tbody tr th {\n",
       "        vertical-align: top;\n",
       "    }\n",
       "\n",
       "    .dataframe thead th {\n",
       "        text-align: right;\n",
       "    }\n",
       "</style>\n",
       "<table border=\"1\" class=\"dataframe\">\n",
       "  <thead>\n",
       "    <tr style=\"text-align: right;\">\n",
       "      <th></th>\n",
       "      <th>0</th>\n",
       "      <th>1</th>\n",
       "      <th>2</th>\n",
       "      <th>3</th>\n",
       "      <th>4</th>\n",
       "      <th>5</th>\n",
       "      <th>6</th>\n",
       "      <th>7</th>\n",
       "      <th>8</th>\n",
       "      <th>9</th>\n",
       "      <th>...</th>\n",
       "      <th>23</th>\n",
       "      <th>24</th>\n",
       "      <th>25</th>\n",
       "      <th>26</th>\n",
       "      <th>27</th>\n",
       "      <th>28</th>\n",
       "      <th>29</th>\n",
       "      <th>30</th>\n",
       "      <th>31</th>\n",
       "      <th>32</th>\n",
       "    </tr>\n",
       "  </thead>\n",
       "  <tbody>\n",
       "    <tr>\n",
       "      <th>0</th>\n",
       "      <td>Concurso</td>\n",
       "      <td>Data Sorteio</td>\n",
       "      <td>1º número_Sorteio1</td>\n",
       "      <td>2º número_Sorteio1</td>\n",
       "      <td>3º número_Sorteio1</td>\n",
       "      <td>4º número_Sorteio1</td>\n",
       "      <td>5º número_Sorteio1</td>\n",
       "      <td>6º número_Sorteio1</td>\n",
       "      <td>Arrecadação_Total</td>\n",
       "      <td>Ganhadores_Sena_Sorteio1</td>\n",
       "      <td>...</td>\n",
       "      <td>3º número_Sorteio2</td>\n",
       "      <td>4º número_Sorteio2</td>\n",
       "      <td>5º número_Sorteio2</td>\n",
       "      <td>6º número_Sorteio2</td>\n",
       "      <td>Ganhadores_Sena_Sorteio2</td>\n",
       "      <td>Rateio_Sena_Sorteio2</td>\n",
       "      <td>Ganhadores_Quina_Sorteio2</td>\n",
       "      <td>Rateio_Quina_Sorteio2</td>\n",
       "      <td>Ganhadores_Quadra_Sorteio2</td>\n",
       "      <td>Rateio_Quadra_Sorteio2</td>\n",
       "    </tr>\n",
       "    <tr>\n",
       "      <th>1</th>\n",
       "      <td>1</td>\n",
       "      <td>06/11/2001</td>\n",
       "      <td>41</td>\n",
       "      <td>48</td>\n",
       "      <td>15</td>\n",
       "      <td>07</td>\n",
       "      <td>24</td>\n",
       "      <td>50</td>\n",
       "      <td>000</td>\n",
       "      <td>0</td>\n",
       "      <td>...</td>\n",
       "      <td>41</td>\n",
       "      <td>49</td>\n",
       "      <td>44</td>\n",
       "      <td>09</td>\n",
       "      <td>0</td>\n",
       "      <td>000</td>\n",
       "      <td>55</td>\n",
       "      <td>2.31759</td>\n",
       "      <td>1307</td>\n",
       "      <td>9716</td>\n",
       "    </tr>\n",
       "    <tr>\n",
       "      <th>2</th>\n",
       "      <td>2</td>\n",
       "      <td>09/11/2001</td>\n",
       "      <td>11</td>\n",
       "      <td>38</td>\n",
       "      <td>32</td>\n",
       "      <td>04</td>\n",
       "      <td>09</td>\n",
       "      <td>42</td>\n",
       "      <td>000</td>\n",
       "      <td>0</td>\n",
       "      <td>...</td>\n",
       "      <td>46</td>\n",
       "      <td>29</td>\n",
       "      <td>19</td>\n",
       "      <td>24</td>\n",
       "      <td>0</td>\n",
       "      <td>000</td>\n",
       "      <td>35</td>\n",
       "      <td>2.65540</td>\n",
       "      <td>2014</td>\n",
       "      <td>4598</td>\n",
       "    </tr>\n",
       "    <tr>\n",
       "      <th>3</th>\n",
       "      <td>3</td>\n",
       "      <td>13/11/2001</td>\n",
       "      <td>42</td>\n",
       "      <td>34</td>\n",
       "      <td>11</td>\n",
       "      <td>44</td>\n",
       "      <td>45</td>\n",
       "      <td>47</td>\n",
       "      <td>000</td>\n",
       "      <td>0</td>\n",
       "      <td>...</td>\n",
       "      <td>48</td>\n",
       "      <td>30</td>\n",
       "      <td>40</td>\n",
       "      <td>12</td>\n",
       "      <td>0</td>\n",
       "      <td>000</td>\n",
       "      <td>21</td>\n",
       "      <td>4.71993</td>\n",
       "      <td>1264</td>\n",
       "      <td>7813</td>\n",
       "    </tr>\n",
       "    <tr>\n",
       "      <th>4</th>\n",
       "      <td>4</td>\n",
       "      <td>16/11/2001</td>\n",
       "      <td>38</td>\n",
       "      <td>44</td>\n",
       "      <td>50</td>\n",
       "      <td>46</td>\n",
       "      <td>43</td>\n",
       "      <td>29</td>\n",
       "      <td>000</td>\n",
       "      <td>0</td>\n",
       "      <td>...</td>\n",
       "      <td>02</td>\n",
       "      <td>07</td>\n",
       "      <td>49</td>\n",
       "      <td>11</td>\n",
       "      <td>0</td>\n",
       "      <td>000</td>\n",
       "      <td>8</td>\n",
       "      <td>10.66817</td>\n",
       "      <td>1042</td>\n",
       "      <td>8159</td>\n",
       "    </tr>\n",
       "  </tbody>\n",
       "</table>\n",
       "<p>5 rows × 29 columns</p>\n",
       "</div>"
      ],
      "text/plain": [
       "         0             1                   2                   3   \\\n",
       "0  Concurso  Data Sorteio  1º número_Sorteio1  2º número_Sorteio1   \n",
       "1         1    06/11/2001                  41                  48   \n",
       "2         2    09/11/2001                  11                  38   \n",
       "3         3    13/11/2001                  42                  34   \n",
       "4         4    16/11/2001                  38                  44   \n",
       "\n",
       "                   4                   5                   6   \\\n",
       "0  3º número_Sorteio1  4º número_Sorteio1  5º número_Sorteio1   \n",
       "1                  15                  07                  24   \n",
       "2                  32                  04                  09   \n",
       "3                  11                  44                  45   \n",
       "4                  50                  46                  43   \n",
       "\n",
       "                   7                  8                         9   \\\n",
       "0  6º número_Sorteio1  Arrecadação_Total  Ganhadores_Sena_Sorteio1   \n",
       "1                  50                000                         0   \n",
       "2                  42                000                         0   \n",
       "3                  47                000                         0   \n",
       "4                  29                000                         0   \n",
       "\n",
       "            ...                            23                  24  \\\n",
       "0           ...            3º número_Sorteio2  4º número_Sorteio2   \n",
       "1           ...                            41                  49   \n",
       "2           ...                            46                  29   \n",
       "3           ...                            48                  30   \n",
       "4           ...                            02                  07   \n",
       "\n",
       "                   25                  26                        27  \\\n",
       "0  5º número_Sorteio2  6º número_Sorteio2  Ganhadores_Sena_Sorteio2   \n",
       "1                  44                  09                         0   \n",
       "2                  19                  24                         0   \n",
       "3                  40                  12                         0   \n",
       "4                  49                  11                         0   \n",
       "\n",
       "                     28                         29                     30  \\\n",
       "0  Rateio_Sena_Sorteio2  Ganhadores_Quina_Sorteio2  Rateio_Quina_Sorteio2   \n",
       "1                   000                         55                2.31759   \n",
       "2                   000                         35                2.65540   \n",
       "3                   000                         21                4.71993   \n",
       "4                   000                          8               10.66817   \n",
       "\n",
       "                           31                      32  \n",
       "0  Ganhadores_Quadra_Sorteio2  Rateio_Quadra_Sorteio2  \n",
       "1                        1307                    9716  \n",
       "2                        2014                    4598  \n",
       "3                        1264                    7813  \n",
       "4                        1042                    8159  \n",
       "\n",
       "[5 rows x 29 columns]"
      ]
     },
     "execution_count": 5,
     "metadata": {},
     "output_type": "execute_result"
    }
   ],
   "source": [
    "# Conferindo a mudança feita\n",
    "dupla_sena[0][:5]"
   ]
  },
  {
   "cell_type": "code",
   "execution_count": 6,
   "metadata": {},
   "outputs": [],
   "source": [
    "# Iremos criar um df recebendo as informações da posição 0 da lista\n",
    "\n",
    "df = pd.DataFrame(dupla_sena[0]).copy()"
   ]
  },
  {
   "cell_type": "code",
   "execution_count": 7,
   "metadata": {},
   "outputs": [
    {
     "data": {
      "text/html": [
       "<div>\n",
       "<style scoped>\n",
       "    .dataframe tbody tr th:only-of-type {\n",
       "        vertical-align: middle;\n",
       "    }\n",
       "\n",
       "    .dataframe tbody tr th {\n",
       "        vertical-align: top;\n",
       "    }\n",
       "\n",
       "    .dataframe thead th {\n",
       "        text-align: right;\n",
       "    }\n",
       "</style>\n",
       "<table border=\"1\" class=\"dataframe\">\n",
       "  <thead>\n",
       "    <tr style=\"text-align: right;\">\n",
       "      <th></th>\n",
       "      <th>0</th>\n",
       "      <th>1</th>\n",
       "      <th>2</th>\n",
       "      <th>3</th>\n",
       "      <th>4</th>\n",
       "      <th>5</th>\n",
       "      <th>6</th>\n",
       "      <th>7</th>\n",
       "      <th>8</th>\n",
       "      <th>9</th>\n",
       "      <th>...</th>\n",
       "      <th>23</th>\n",
       "      <th>24</th>\n",
       "      <th>25</th>\n",
       "      <th>26</th>\n",
       "      <th>27</th>\n",
       "      <th>28</th>\n",
       "      <th>29</th>\n",
       "      <th>30</th>\n",
       "      <th>31</th>\n",
       "      <th>32</th>\n",
       "    </tr>\n",
       "  </thead>\n",
       "  <tbody>\n",
       "    <tr>\n",
       "      <th>0</th>\n",
       "      <td>Concurso</td>\n",
       "      <td>Data Sorteio</td>\n",
       "      <td>1º número_Sorteio1</td>\n",
       "      <td>2º número_Sorteio1</td>\n",
       "      <td>3º número_Sorteio1</td>\n",
       "      <td>4º número_Sorteio1</td>\n",
       "      <td>5º número_Sorteio1</td>\n",
       "      <td>6º número_Sorteio1</td>\n",
       "      <td>Arrecadação_Total</td>\n",
       "      <td>Ganhadores_Sena_Sorteio1</td>\n",
       "      <td>...</td>\n",
       "      <td>3º número_Sorteio2</td>\n",
       "      <td>4º número_Sorteio2</td>\n",
       "      <td>5º número_Sorteio2</td>\n",
       "      <td>6º número_Sorteio2</td>\n",
       "      <td>Ganhadores_Sena_Sorteio2</td>\n",
       "      <td>Rateio_Sena_Sorteio2</td>\n",
       "      <td>Ganhadores_Quina_Sorteio2</td>\n",
       "      <td>Rateio_Quina_Sorteio2</td>\n",
       "      <td>Ganhadores_Quadra_Sorteio2</td>\n",
       "      <td>Rateio_Quadra_Sorteio2</td>\n",
       "    </tr>\n",
       "    <tr>\n",
       "      <th>1</th>\n",
       "      <td>1</td>\n",
       "      <td>06/11/2001</td>\n",
       "      <td>41</td>\n",
       "      <td>48</td>\n",
       "      <td>15</td>\n",
       "      <td>07</td>\n",
       "      <td>24</td>\n",
       "      <td>50</td>\n",
       "      <td>000</td>\n",
       "      <td>0</td>\n",
       "      <td>...</td>\n",
       "      <td>41</td>\n",
       "      <td>49</td>\n",
       "      <td>44</td>\n",
       "      <td>09</td>\n",
       "      <td>0</td>\n",
       "      <td>000</td>\n",
       "      <td>55</td>\n",
       "      <td>2.31759</td>\n",
       "      <td>1307</td>\n",
       "      <td>9716</td>\n",
       "    </tr>\n",
       "    <tr>\n",
       "      <th>2</th>\n",
       "      <td>2</td>\n",
       "      <td>09/11/2001</td>\n",
       "      <td>11</td>\n",
       "      <td>38</td>\n",
       "      <td>32</td>\n",
       "      <td>04</td>\n",
       "      <td>09</td>\n",
       "      <td>42</td>\n",
       "      <td>000</td>\n",
       "      <td>0</td>\n",
       "      <td>...</td>\n",
       "      <td>46</td>\n",
       "      <td>29</td>\n",
       "      <td>19</td>\n",
       "      <td>24</td>\n",
       "      <td>0</td>\n",
       "      <td>000</td>\n",
       "      <td>35</td>\n",
       "      <td>2.65540</td>\n",
       "      <td>2014</td>\n",
       "      <td>4598</td>\n",
       "    </tr>\n",
       "    <tr>\n",
       "      <th>3</th>\n",
       "      <td>3</td>\n",
       "      <td>13/11/2001</td>\n",
       "      <td>42</td>\n",
       "      <td>34</td>\n",
       "      <td>11</td>\n",
       "      <td>44</td>\n",
       "      <td>45</td>\n",
       "      <td>47</td>\n",
       "      <td>000</td>\n",
       "      <td>0</td>\n",
       "      <td>...</td>\n",
       "      <td>48</td>\n",
       "      <td>30</td>\n",
       "      <td>40</td>\n",
       "      <td>12</td>\n",
       "      <td>0</td>\n",
       "      <td>000</td>\n",
       "      <td>21</td>\n",
       "      <td>4.71993</td>\n",
       "      <td>1264</td>\n",
       "      <td>7813</td>\n",
       "    </tr>\n",
       "    <tr>\n",
       "      <th>4</th>\n",
       "      <td>4</td>\n",
       "      <td>16/11/2001</td>\n",
       "      <td>38</td>\n",
       "      <td>44</td>\n",
       "      <td>50</td>\n",
       "      <td>46</td>\n",
       "      <td>43</td>\n",
       "      <td>29</td>\n",
       "      <td>000</td>\n",
       "      <td>0</td>\n",
       "      <td>...</td>\n",
       "      <td>02</td>\n",
       "      <td>07</td>\n",
       "      <td>49</td>\n",
       "      <td>11</td>\n",
       "      <td>0</td>\n",
       "      <td>000</td>\n",
       "      <td>8</td>\n",
       "      <td>10.66817</td>\n",
       "      <td>1042</td>\n",
       "      <td>8159</td>\n",
       "    </tr>\n",
       "  </tbody>\n",
       "</table>\n",
       "<p>5 rows × 29 columns</p>\n",
       "</div>"
      ],
      "text/plain": [
       "         0             1                   2                   3   \\\n",
       "0  Concurso  Data Sorteio  1º número_Sorteio1  2º número_Sorteio1   \n",
       "1         1    06/11/2001                  41                  48   \n",
       "2         2    09/11/2001                  11                  38   \n",
       "3         3    13/11/2001                  42                  34   \n",
       "4         4    16/11/2001                  38                  44   \n",
       "\n",
       "                   4                   5                   6   \\\n",
       "0  3º número_Sorteio1  4º número_Sorteio1  5º número_Sorteio1   \n",
       "1                  15                  07                  24   \n",
       "2                  32                  04                  09   \n",
       "3                  11                  44                  45   \n",
       "4                  50                  46                  43   \n",
       "\n",
       "                   7                  8                         9   \\\n",
       "0  6º número_Sorteio1  Arrecadação_Total  Ganhadores_Sena_Sorteio1   \n",
       "1                  50                000                         0   \n",
       "2                  42                000                         0   \n",
       "3                  47                000                         0   \n",
       "4                  29                000                         0   \n",
       "\n",
       "            ...                            23                  24  \\\n",
       "0           ...            3º número_Sorteio2  4º número_Sorteio2   \n",
       "1           ...                            41                  49   \n",
       "2           ...                            46                  29   \n",
       "3           ...                            48                  30   \n",
       "4           ...                            02                  07   \n",
       "\n",
       "                   25                  26                        27  \\\n",
       "0  5º número_Sorteio2  6º número_Sorteio2  Ganhadores_Sena_Sorteio2   \n",
       "1                  44                  09                         0   \n",
       "2                  19                  24                         0   \n",
       "3                  40                  12                         0   \n",
       "4                  49                  11                         0   \n",
       "\n",
       "                     28                         29                     30  \\\n",
       "0  Rateio_Sena_Sorteio2  Ganhadores_Quina_Sorteio2  Rateio_Quina_Sorteio2   \n",
       "1                   000                         55                2.31759   \n",
       "2                   000                         35                2.65540   \n",
       "3                   000                         21                4.71993   \n",
       "4                   000                          8               10.66817   \n",
       "\n",
       "                           31                      32  \n",
       "0  Ganhadores_Quadra_Sorteio2  Rateio_Quadra_Sorteio2  \n",
       "1                        1307                    9716  \n",
       "2                        2014                    4598  \n",
       "3                        1264                    7813  \n",
       "4                        1042                    8159  \n",
       "\n",
       "[5 rows x 29 columns]"
      ]
     },
     "execution_count": 7,
     "metadata": {},
     "output_type": "execute_result"
    }
   ],
   "source": [
    "# Lendo o inicio do DF\n",
    "\n",
    "df.head()"
   ]
  },
  {
   "cell_type": "code",
   "execution_count": 8,
   "metadata": {},
   "outputs": [],
   "source": [
    "# Como o df não foi criado com os nomes das colunas e elas estão listadas na linha 0\n",
    "# iremos atualizar o nome das colunas\n",
    "\n",
    "df.columns = df.loc[0]"
   ]
  },
  {
   "cell_type": "code",
   "execution_count": 9,
   "metadata": {},
   "outputs": [
    {
     "data": {
      "text/plain": [
       "Index(['concurso', 'data_sorteio', '1_1', '2_1', '3_1', '4_1', '5_1', '6_1',\n",
       "       'arrecadação_total', 'ganhadores_sena_sorteio1', 'rateio_sena_sorteio1',\n",
       "       'acumulado_sena_sorteio1', 'valor_acumulado_sena_sorteio1',\n",
       "       'ganhadores_quina_sorteio1', 'rateio_quina_sorteio1',\n",
       "       'ganhadores_quadra_sorteio1', 'rateio_quadra_sorteio1', '1_2', '2_2',\n",
       "       '3_2', '4_2', '5_2', '6_2', 'ganhadores_sena_sorteio2',\n",
       "       'rateio_sena_sorteio2', 'ganhadores_quina_sorteio2',\n",
       "       'rateio_quina_sorteio2', 'ganhadores_quadra_sorteio2',\n",
       "       'rateio_quadra_sorteio2'],\n",
       "      dtype='object', name=0)"
      ]
     },
     "execution_count": 9,
     "metadata": {},
     "output_type": "execute_result"
    }
   ],
   "source": [
    "# Renomeando as colunas para facilitar as consultas\n",
    "\n",
    "df.columns = df.columns.str.replace(' ','_')\n",
    "df.columns = df.columns.str.replace('ª','')\n",
    "df.columns = df.columns.str.replace('º','')\n",
    "df.columns = df.columns.str.lower()\n",
    "df.columns = df.columns.str.replace('ú','u')\n",
    "df.columns = df.columns.str.replace('numero_sorteio','')\n",
    "df.columns"
   ]
  },
  {
   "cell_type": "code",
   "execution_count": 10,
   "metadata": {},
   "outputs": [
    {
     "data": {
      "text/html": [
       "<div>\n",
       "<style scoped>\n",
       "    .dataframe tbody tr th:only-of-type {\n",
       "        vertical-align: middle;\n",
       "    }\n",
       "\n",
       "    .dataframe tbody tr th {\n",
       "        vertical-align: top;\n",
       "    }\n",
       "\n",
       "    .dataframe thead th {\n",
       "        text-align: right;\n",
       "    }\n",
       "</style>\n",
       "<table border=\"1\" class=\"dataframe\">\n",
       "  <thead>\n",
       "    <tr style=\"text-align: right;\">\n",
       "      <th></th>\n",
       "      <th>concurso</th>\n",
       "      <th>data_sorteio</th>\n",
       "      <th>1_1</th>\n",
       "      <th>2_1</th>\n",
       "      <th>3_1</th>\n",
       "      <th>4_1</th>\n",
       "      <th>5_1</th>\n",
       "      <th>6_1</th>\n",
       "      <th>arrecadação_total</th>\n",
       "      <th>ganhadores_sena_sorteio1</th>\n",
       "      <th>...</th>\n",
       "      <th>3_2</th>\n",
       "      <th>4_2</th>\n",
       "      <th>5_2</th>\n",
       "      <th>6_2</th>\n",
       "      <th>ganhadores_sena_sorteio2</th>\n",
       "      <th>rateio_sena_sorteio2</th>\n",
       "      <th>ganhadores_quina_sorteio2</th>\n",
       "      <th>rateio_quina_sorteio2</th>\n",
       "      <th>ganhadores_quadra_sorteio2</th>\n",
       "      <th>rateio_quadra_sorteio2</th>\n",
       "    </tr>\n",
       "  </thead>\n",
       "  <tbody>\n",
       "    <tr>\n",
       "      <th>0</th>\n",
       "      <td>Concurso</td>\n",
       "      <td>Data Sorteio</td>\n",
       "      <td>1º número_Sorteio1</td>\n",
       "      <td>2º número_Sorteio1</td>\n",
       "      <td>3º número_Sorteio1</td>\n",
       "      <td>4º número_Sorteio1</td>\n",
       "      <td>5º número_Sorteio1</td>\n",
       "      <td>6º número_Sorteio1</td>\n",
       "      <td>Arrecadação_Total</td>\n",
       "      <td>Ganhadores_Sena_Sorteio1</td>\n",
       "      <td>...</td>\n",
       "      <td>3º número_Sorteio2</td>\n",
       "      <td>4º número_Sorteio2</td>\n",
       "      <td>5º número_Sorteio2</td>\n",
       "      <td>6º número_Sorteio2</td>\n",
       "      <td>Ganhadores_Sena_Sorteio2</td>\n",
       "      <td>Rateio_Sena_Sorteio2</td>\n",
       "      <td>Ganhadores_Quina_Sorteio2</td>\n",
       "      <td>Rateio_Quina_Sorteio2</td>\n",
       "      <td>Ganhadores_Quadra_Sorteio2</td>\n",
       "      <td>Rateio_Quadra_Sorteio2</td>\n",
       "    </tr>\n",
       "    <tr>\n",
       "      <th>1</th>\n",
       "      <td>1</td>\n",
       "      <td>06/11/2001</td>\n",
       "      <td>41</td>\n",
       "      <td>48</td>\n",
       "      <td>15</td>\n",
       "      <td>07</td>\n",
       "      <td>24</td>\n",
       "      <td>50</td>\n",
       "      <td>000</td>\n",
       "      <td>0</td>\n",
       "      <td>...</td>\n",
       "      <td>41</td>\n",
       "      <td>49</td>\n",
       "      <td>44</td>\n",
       "      <td>09</td>\n",
       "      <td>0</td>\n",
       "      <td>000</td>\n",
       "      <td>55</td>\n",
       "      <td>2.31759</td>\n",
       "      <td>1307</td>\n",
       "      <td>9716</td>\n",
       "    </tr>\n",
       "    <tr>\n",
       "      <th>2</th>\n",
       "      <td>2</td>\n",
       "      <td>09/11/2001</td>\n",
       "      <td>11</td>\n",
       "      <td>38</td>\n",
       "      <td>32</td>\n",
       "      <td>04</td>\n",
       "      <td>09</td>\n",
       "      <td>42</td>\n",
       "      <td>000</td>\n",
       "      <td>0</td>\n",
       "      <td>...</td>\n",
       "      <td>46</td>\n",
       "      <td>29</td>\n",
       "      <td>19</td>\n",
       "      <td>24</td>\n",
       "      <td>0</td>\n",
       "      <td>000</td>\n",
       "      <td>35</td>\n",
       "      <td>2.65540</td>\n",
       "      <td>2014</td>\n",
       "      <td>4598</td>\n",
       "    </tr>\n",
       "    <tr>\n",
       "      <th>3</th>\n",
       "      <td>3</td>\n",
       "      <td>13/11/2001</td>\n",
       "      <td>42</td>\n",
       "      <td>34</td>\n",
       "      <td>11</td>\n",
       "      <td>44</td>\n",
       "      <td>45</td>\n",
       "      <td>47</td>\n",
       "      <td>000</td>\n",
       "      <td>0</td>\n",
       "      <td>...</td>\n",
       "      <td>48</td>\n",
       "      <td>30</td>\n",
       "      <td>40</td>\n",
       "      <td>12</td>\n",
       "      <td>0</td>\n",
       "      <td>000</td>\n",
       "      <td>21</td>\n",
       "      <td>4.71993</td>\n",
       "      <td>1264</td>\n",
       "      <td>7813</td>\n",
       "    </tr>\n",
       "    <tr>\n",
       "      <th>4</th>\n",
       "      <td>4</td>\n",
       "      <td>16/11/2001</td>\n",
       "      <td>38</td>\n",
       "      <td>44</td>\n",
       "      <td>50</td>\n",
       "      <td>46</td>\n",
       "      <td>43</td>\n",
       "      <td>29</td>\n",
       "      <td>000</td>\n",
       "      <td>0</td>\n",
       "      <td>...</td>\n",
       "      <td>02</td>\n",
       "      <td>07</td>\n",
       "      <td>49</td>\n",
       "      <td>11</td>\n",
       "      <td>0</td>\n",
       "      <td>000</td>\n",
       "      <td>8</td>\n",
       "      <td>10.66817</td>\n",
       "      <td>1042</td>\n",
       "      <td>8159</td>\n",
       "    </tr>\n",
       "  </tbody>\n",
       "</table>\n",
       "<p>5 rows × 29 columns</p>\n",
       "</div>"
      ],
      "text/plain": [
       "0  concurso  data_sorteio                 1_1                 2_1  \\\n",
       "0  Concurso  Data Sorteio  1º número_Sorteio1  2º número_Sorteio1   \n",
       "1         1    06/11/2001                  41                  48   \n",
       "2         2    09/11/2001                  11                  38   \n",
       "3         3    13/11/2001                  42                  34   \n",
       "4         4    16/11/2001                  38                  44   \n",
       "\n",
       "0                 3_1                 4_1                 5_1  \\\n",
       "0  3º número_Sorteio1  4º número_Sorteio1  5º número_Sorteio1   \n",
       "1                  15                  07                  24   \n",
       "2                  32                  04                  09   \n",
       "3                  11                  44                  45   \n",
       "4                  50                  46                  43   \n",
       "\n",
       "0                 6_1  arrecadação_total  ganhadores_sena_sorteio1  \\\n",
       "0  6º número_Sorteio1  Arrecadação_Total  Ganhadores_Sena_Sorteio1   \n",
       "1                  50                000                         0   \n",
       "2                  42                000                         0   \n",
       "3                  47                000                         0   \n",
       "4                  29                000                         0   \n",
       "\n",
       "0           ...                           3_2                 4_2  \\\n",
       "0           ...            3º número_Sorteio2  4º número_Sorteio2   \n",
       "1           ...                            41                  49   \n",
       "2           ...                            46                  29   \n",
       "3           ...                            48                  30   \n",
       "4           ...                            02                  07   \n",
       "\n",
       "0                 5_2                 6_2  ganhadores_sena_sorteio2  \\\n",
       "0  5º número_Sorteio2  6º número_Sorteio2  Ganhadores_Sena_Sorteio2   \n",
       "1                  44                  09                         0   \n",
       "2                  19                  24                         0   \n",
       "3                  40                  12                         0   \n",
       "4                  49                  11                         0   \n",
       "\n",
       "0  rateio_sena_sorteio2  ganhadores_quina_sorteio2  rateio_quina_sorteio2  \\\n",
       "0  Rateio_Sena_Sorteio2  Ganhadores_Quina_Sorteio2  Rateio_Quina_Sorteio2   \n",
       "1                   000                         55                2.31759   \n",
       "2                   000                         35                2.65540   \n",
       "3                   000                         21                4.71993   \n",
       "4                   000                          8               10.66817   \n",
       "\n",
       "0  ganhadores_quadra_sorteio2  rateio_quadra_sorteio2  \n",
       "0  Ganhadores_Quadra_Sorteio2  Rateio_Quadra_Sorteio2  \n",
       "1                        1307                    9716  \n",
       "2                        2014                    4598  \n",
       "3                        1264                    7813  \n",
       "4                        1042                    8159  \n",
       "\n",
       "[5 rows x 29 columns]"
      ]
     },
     "execution_count": 10,
     "metadata": {},
     "output_type": "execute_result"
    }
   ],
   "source": [
    "# Conferindo a mudança\n",
    "\n",
    "df.head()"
   ]
  },
  {
   "cell_type": "code",
   "execution_count": 11,
   "metadata": {},
   "outputs": [],
   "source": [
    "# Removendo a primeira linha \n",
    "\n",
    "df.drop([0], inplace=True)"
   ]
  },
  {
   "cell_type": "code",
   "execution_count": 12,
   "metadata": {},
   "outputs": [
    {
     "data": {
      "text/html": [
       "<div>\n",
       "<style scoped>\n",
       "    .dataframe tbody tr th:only-of-type {\n",
       "        vertical-align: middle;\n",
       "    }\n",
       "\n",
       "    .dataframe tbody tr th {\n",
       "        vertical-align: top;\n",
       "    }\n",
       "\n",
       "    .dataframe thead th {\n",
       "        text-align: right;\n",
       "    }\n",
       "</style>\n",
       "<table border=\"1\" class=\"dataframe\">\n",
       "  <thead>\n",
       "    <tr style=\"text-align: right;\">\n",
       "      <th></th>\n",
       "      <th>concurso</th>\n",
       "      <th>data_sorteio</th>\n",
       "      <th>1_1</th>\n",
       "      <th>2_1</th>\n",
       "      <th>3_1</th>\n",
       "      <th>4_1</th>\n",
       "      <th>5_1</th>\n",
       "      <th>6_1</th>\n",
       "      <th>arrecadação_total</th>\n",
       "      <th>ganhadores_sena_sorteio1</th>\n",
       "      <th>...</th>\n",
       "      <th>3_2</th>\n",
       "      <th>4_2</th>\n",
       "      <th>5_2</th>\n",
       "      <th>6_2</th>\n",
       "      <th>ganhadores_sena_sorteio2</th>\n",
       "      <th>rateio_sena_sorteio2</th>\n",
       "      <th>ganhadores_quina_sorteio2</th>\n",
       "      <th>rateio_quina_sorteio2</th>\n",
       "      <th>ganhadores_quadra_sorteio2</th>\n",
       "      <th>rateio_quadra_sorteio2</th>\n",
       "    </tr>\n",
       "  </thead>\n",
       "  <tbody>\n",
       "    <tr>\n",
       "      <th>1</th>\n",
       "      <td>1</td>\n",
       "      <td>06/11/2001</td>\n",
       "      <td>41</td>\n",
       "      <td>48</td>\n",
       "      <td>15</td>\n",
       "      <td>07</td>\n",
       "      <td>24</td>\n",
       "      <td>50</td>\n",
       "      <td>000</td>\n",
       "      <td>0</td>\n",
       "      <td>...</td>\n",
       "      <td>41</td>\n",
       "      <td>49</td>\n",
       "      <td>44</td>\n",
       "      <td>09</td>\n",
       "      <td>0</td>\n",
       "      <td>000</td>\n",
       "      <td>55</td>\n",
       "      <td>2.31759</td>\n",
       "      <td>1307</td>\n",
       "      <td>9716</td>\n",
       "    </tr>\n",
       "    <tr>\n",
       "      <th>2</th>\n",
       "      <td>2</td>\n",
       "      <td>09/11/2001</td>\n",
       "      <td>11</td>\n",
       "      <td>38</td>\n",
       "      <td>32</td>\n",
       "      <td>04</td>\n",
       "      <td>09</td>\n",
       "      <td>42</td>\n",
       "      <td>000</td>\n",
       "      <td>0</td>\n",
       "      <td>...</td>\n",
       "      <td>46</td>\n",
       "      <td>29</td>\n",
       "      <td>19</td>\n",
       "      <td>24</td>\n",
       "      <td>0</td>\n",
       "      <td>000</td>\n",
       "      <td>35</td>\n",
       "      <td>2.65540</td>\n",
       "      <td>2014</td>\n",
       "      <td>4598</td>\n",
       "    </tr>\n",
       "    <tr>\n",
       "      <th>3</th>\n",
       "      <td>3</td>\n",
       "      <td>13/11/2001</td>\n",
       "      <td>42</td>\n",
       "      <td>34</td>\n",
       "      <td>11</td>\n",
       "      <td>44</td>\n",
       "      <td>45</td>\n",
       "      <td>47</td>\n",
       "      <td>000</td>\n",
       "      <td>0</td>\n",
       "      <td>...</td>\n",
       "      <td>48</td>\n",
       "      <td>30</td>\n",
       "      <td>40</td>\n",
       "      <td>12</td>\n",
       "      <td>0</td>\n",
       "      <td>000</td>\n",
       "      <td>21</td>\n",
       "      <td>4.71993</td>\n",
       "      <td>1264</td>\n",
       "      <td>7813</td>\n",
       "    </tr>\n",
       "    <tr>\n",
       "      <th>4</th>\n",
       "      <td>4</td>\n",
       "      <td>16/11/2001</td>\n",
       "      <td>38</td>\n",
       "      <td>44</td>\n",
       "      <td>50</td>\n",
       "      <td>46</td>\n",
       "      <td>43</td>\n",
       "      <td>29</td>\n",
       "      <td>000</td>\n",
       "      <td>0</td>\n",
       "      <td>...</td>\n",
       "      <td>02</td>\n",
       "      <td>07</td>\n",
       "      <td>49</td>\n",
       "      <td>11</td>\n",
       "      <td>0</td>\n",
       "      <td>000</td>\n",
       "      <td>8</td>\n",
       "      <td>10.66817</td>\n",
       "      <td>1042</td>\n",
       "      <td>8159</td>\n",
       "    </tr>\n",
       "    <tr>\n",
       "      <th>5</th>\n",
       "      <td>5</td>\n",
       "      <td>20/11/2001</td>\n",
       "      <td>32</td>\n",
       "      <td>16</td>\n",
       "      <td>12</td>\n",
       "      <td>40</td>\n",
       "      <td>25</td>\n",
       "      <td>07</td>\n",
       "      <td>000</td>\n",
       "      <td>0</td>\n",
       "      <td>...</td>\n",
       "      <td>03</td>\n",
       "      <td>49</td>\n",
       "      <td>10</td>\n",
       "      <td>26</td>\n",
       "      <td>0</td>\n",
       "      <td>000</td>\n",
       "      <td>34</td>\n",
       "      <td>2.94335</td>\n",
       "      <td>1804</td>\n",
       "      <td>5526</td>\n",
       "    </tr>\n",
       "  </tbody>\n",
       "</table>\n",
       "<p>5 rows × 29 columns</p>\n",
       "</div>"
      ],
      "text/plain": [
       "0 concurso data_sorteio 1_1 2_1 3_1 4_1 5_1 6_1 arrecadação_total  \\\n",
       "1        1   06/11/2001  41  48  15  07  24  50               000   \n",
       "2        2   09/11/2001  11  38  32  04  09  42               000   \n",
       "3        3   13/11/2001  42  34  11  44  45  47               000   \n",
       "4        4   16/11/2001  38  44  50  46  43  29               000   \n",
       "5        5   20/11/2001  32  16  12  40  25  07               000   \n",
       "\n",
       "0 ganhadores_sena_sorteio1          ...           3_2 4_2 5_2 6_2  \\\n",
       "1                        0          ...            41  49  44  09   \n",
       "2                        0          ...            46  29  19  24   \n",
       "3                        0          ...            48  30  40  12   \n",
       "4                        0          ...            02  07  49  11   \n",
       "5                        0          ...            03  49  10  26   \n",
       "\n",
       "0 ganhadores_sena_sorteio2 rateio_sena_sorteio2 ganhadores_quina_sorteio2  \\\n",
       "1                        0                  000                        55   \n",
       "2                        0                  000                        35   \n",
       "3                        0                  000                        21   \n",
       "4                        0                  000                         8   \n",
       "5                        0                  000                        34   \n",
       "\n",
       "0 rateio_quina_sorteio2 ganhadores_quadra_sorteio2 rateio_quadra_sorteio2  \n",
       "1               2.31759                       1307                   9716  \n",
       "2               2.65540                       2014                   4598  \n",
       "3               4.71993                       1264                   7813  \n",
       "4              10.66817                       1042                   8159  \n",
       "5               2.94335                       1804                   5526  \n",
       "\n",
       "[5 rows x 29 columns]"
      ]
     },
     "execution_count": 12,
     "metadata": {},
     "output_type": "execute_result"
    }
   ],
   "source": [
    "df.head()"
   ]
  },
  {
   "cell_type": "code",
   "execution_count": 13,
   "metadata": {},
   "outputs": [
    {
     "data": {
      "text/html": [
       "<div>\n",
       "<style scoped>\n",
       "    .dataframe tbody tr th:only-of-type {\n",
       "        vertical-align: middle;\n",
       "    }\n",
       "\n",
       "    .dataframe tbody tr th {\n",
       "        vertical-align: top;\n",
       "    }\n",
       "\n",
       "    .dataframe thead th {\n",
       "        text-align: right;\n",
       "    }\n",
       "</style>\n",
       "<table border=\"1\" class=\"dataframe\">\n",
       "  <thead>\n",
       "    <tr style=\"text-align: right;\">\n",
       "      <th></th>\n",
       "      <th>concurso</th>\n",
       "      <th>data_sorteio</th>\n",
       "      <th>1_1</th>\n",
       "      <th>2_1</th>\n",
       "      <th>3_1</th>\n",
       "      <th>4_1</th>\n",
       "      <th>5_1</th>\n",
       "      <th>6_1</th>\n",
       "      <th>arrecadação_total</th>\n",
       "      <th>ganhadores_sena_sorteio1</th>\n",
       "      <th>...</th>\n",
       "      <th>3_2</th>\n",
       "      <th>4_2</th>\n",
       "      <th>5_2</th>\n",
       "      <th>6_2</th>\n",
       "      <th>ganhadores_sena_sorteio2</th>\n",
       "      <th>rateio_sena_sorteio2</th>\n",
       "      <th>ganhadores_quina_sorteio2</th>\n",
       "      <th>rateio_quina_sorteio2</th>\n",
       "      <th>ganhadores_quadra_sorteio2</th>\n",
       "      <th>rateio_quadra_sorteio2</th>\n",
       "    </tr>\n",
       "  </thead>\n",
       "  <tbody>\n",
       "    <tr>\n",
       "      <th>2351</th>\n",
       "      <td>1882</td>\n",
       "      <td>27/12/2018</td>\n",
       "      <td>10</td>\n",
       "      <td>19</td>\n",
       "      <td>44</td>\n",
       "      <td>16</td>\n",
       "      <td>39</td>\n",
       "      <td>38</td>\n",
       "      <td>3.384.54400</td>\n",
       "      <td>0</td>\n",
       "      <td>...</td>\n",
       "      <td>13</td>\n",
       "      <td>27</td>\n",
       "      <td>45</td>\n",
       "      <td>16</td>\n",
       "      <td>0</td>\n",
       "      <td>000</td>\n",
       "      <td>26</td>\n",
       "      <td>3.55508</td>\n",
       "      <td>1413</td>\n",
       "      <td>8306</td>\n",
       "    </tr>\n",
       "    <tr>\n",
       "      <th>2352</th>\n",
       "      <td>1883</td>\n",
       "      <td>29/12/2018</td>\n",
       "      <td>22</td>\n",
       "      <td>13</td>\n",
       "      <td>07</td>\n",
       "      <td>37</td>\n",
       "      <td>35</td>\n",
       "      <td>03</td>\n",
       "      <td>2.960.69000</td>\n",
       "      <td>0</td>\n",
       "      <td>...</td>\n",
       "      <td>46</td>\n",
       "      <td>05</td>\n",
       "      <td>43</td>\n",
       "      <td>16</td>\n",
       "      <td>0</td>\n",
       "      <td>000</td>\n",
       "      <td>29</td>\n",
       "      <td>2.78816</td>\n",
       "      <td>1305</td>\n",
       "      <td>7867</td>\n",
       "    </tr>\n",
       "    <tr>\n",
       "      <th>2353</th>\n",
       "      <td>1884</td>\n",
       "      <td>03/01/2019</td>\n",
       "      <td>11</td>\n",
       "      <td>18</td>\n",
       "      <td>44</td>\n",
       "      <td>10</td>\n",
       "      <td>27</td>\n",
       "      <td>40</td>\n",
       "      <td>4.170.71200</td>\n",
       "      <td>0</td>\n",
       "      <td>...</td>\n",
       "      <td>12</td>\n",
       "      <td>35</td>\n",
       "      <td>32</td>\n",
       "      <td>48</td>\n",
       "      <td>0</td>\n",
       "      <td>000</td>\n",
       "      <td>12</td>\n",
       "      <td>9.49186</td>\n",
       "      <td>1307</td>\n",
       "      <td>11066</td>\n",
       "    </tr>\n",
       "    <tr>\n",
       "      <th>2354</th>\n",
       "      <td>1885</td>\n",
       "      <td>05/01/2019</td>\n",
       "      <td>19</td>\n",
       "      <td>32</td>\n",
       "      <td>12</td>\n",
       "      <td>31</td>\n",
       "      <td>08</td>\n",
       "      <td>50</td>\n",
       "      <td>4.367.33400</td>\n",
       "      <td>0</td>\n",
       "      <td>...</td>\n",
       "      <td>38</td>\n",
       "      <td>21</td>\n",
       "      <td>07</td>\n",
       "      <td>22</td>\n",
       "      <td>0</td>\n",
       "      <td>000</td>\n",
       "      <td>46</td>\n",
       "      <td>2.59287</td>\n",
       "      <td>1798</td>\n",
       "      <td>8423</td>\n",
       "    </tr>\n",
       "    <tr>\n",
       "      <th>2355</th>\n",
       "      <td>1886</td>\n",
       "      <td>08/01/2019</td>\n",
       "      <td>42</td>\n",
       "      <td>08</td>\n",
       "      <td>35</td>\n",
       "      <td>25</td>\n",
       "      <td>47</td>\n",
       "      <td>26</td>\n",
       "      <td>4.641.10600</td>\n",
       "      <td>0</td>\n",
       "      <td>...</td>\n",
       "      <td>20</td>\n",
       "      <td>38</td>\n",
       "      <td>13</td>\n",
       "      <td>23</td>\n",
       "      <td>0</td>\n",
       "      <td>000</td>\n",
       "      <td>32</td>\n",
       "      <td>3.96090</td>\n",
       "      <td>1868</td>\n",
       "      <td>8616</td>\n",
       "    </tr>\n",
       "  </tbody>\n",
       "</table>\n",
       "<p>5 rows × 29 columns</p>\n",
       "</div>"
      ],
      "text/plain": [
       "0    concurso data_sorteio 1_1 2_1 3_1 4_1 5_1 6_1 arrecadação_total  \\\n",
       "2351     1882   27/12/2018  10  19  44  16  39  38       3.384.54400   \n",
       "2352     1883   29/12/2018  22  13  07  37  35  03       2.960.69000   \n",
       "2353     1884   03/01/2019  11  18  44  10  27  40       4.170.71200   \n",
       "2354     1885   05/01/2019  19  32  12  31  08  50       4.367.33400   \n",
       "2355     1886   08/01/2019  42  08  35  25  47  26       4.641.10600   \n",
       "\n",
       "0    ganhadores_sena_sorteio1          ...           3_2 4_2 5_2 6_2  \\\n",
       "2351                        0          ...            13  27  45  16   \n",
       "2352                        0          ...            46  05  43  16   \n",
       "2353                        0          ...            12  35  32  48   \n",
       "2354                        0          ...            38  21  07  22   \n",
       "2355                        0          ...            20  38  13  23   \n",
       "\n",
       "0    ganhadores_sena_sorteio2 rateio_sena_sorteio2 ganhadores_quina_sorteio2  \\\n",
       "2351                        0                  000                        26   \n",
       "2352                        0                  000                        29   \n",
       "2353                        0                  000                        12   \n",
       "2354                        0                  000                        46   \n",
       "2355                        0                  000                        32   \n",
       "\n",
       "0    rateio_quina_sorteio2 ganhadores_quadra_sorteio2 rateio_quadra_sorteio2  \n",
       "2351               3.55508                       1413                   8306  \n",
       "2352               2.78816                       1305                   7867  \n",
       "2353               9.49186                       1307                  11066  \n",
       "2354               2.59287                       1798                   8423  \n",
       "2355               3.96090                       1868                   8616  \n",
       "\n",
       "[5 rows x 29 columns]"
      ]
     },
     "execution_count": 13,
     "metadata": {},
     "output_type": "execute_result"
    }
   ],
   "source": [
    "df.tail()"
   ]
  },
  {
   "cell_type": "markdown",
   "metadata": {},
   "source": [
    "### Dados nulos\n",
    "\n",
    "Observamos que a linha 4 esta com dados nulos, suas informações passaram para a linha 5 vamos verificar se temos mais linhas desta forma"
   ]
  },
  {
   "cell_type": "code",
   "execution_count": 14,
   "metadata": {},
   "outputs": [
    {
     "data": {
      "text/plain": [
       "(2355, 29)"
      ]
     },
     "execution_count": 14,
     "metadata": {},
     "output_type": "execute_result"
    }
   ],
   "source": [
    "df.shape"
   ]
  },
  {
   "cell_type": "code",
   "execution_count": 15,
   "metadata": {},
   "outputs": [
    {
     "name": "stdout",
     "output_type": "stream",
     "text": [
      "<class 'pandas.core.frame.DataFrame'>\n",
      "Int64Index: 2355 entries, 1 to 2355\n",
      "Data columns (total 29 columns):\n",
      "concurso                         1901 non-null object\n",
      "data_sorteio                     2355 non-null object\n",
      "1_1                              1886 non-null object\n",
      "2_1                              1886 non-null object\n",
      "3_1                              1886 non-null object\n",
      "4_1                              1886 non-null object\n",
      "5_1                              1886 non-null object\n",
      "6_1                              1886 non-null object\n",
      "arrecadação_total                1886 non-null object\n",
      "ganhadores_sena_sorteio1         1886 non-null object\n",
      "rateio_sena_sorteio1             1886 non-null object\n",
      "acumulado_sena_sorteio1          1886 non-null object\n",
      "valor_acumulado_sena_sorteio1    1886 non-null object\n",
      "ganhadores_quina_sorteio1        1886 non-null object\n",
      "rateio_quina_sorteio1            1886 non-null object\n",
      "ganhadores_quadra_sorteio1       1886 non-null object\n",
      "rateio_quadra_sorteio1           1886 non-null object\n",
      "1_2                              1886 non-null object\n",
      "2_2                              1886 non-null object\n",
      "3_2                              1886 non-null object\n",
      "4_2                              1886 non-null object\n",
      "5_2                              1886 non-null object\n",
      "6_2                              1886 non-null object\n",
      "ganhadores_sena_sorteio2         1886 non-null object\n",
      "rateio_sena_sorteio2             1886 non-null object\n",
      "ganhadores_quina_sorteio2        1886 non-null object\n",
      "rateio_quina_sorteio2            1886 non-null object\n",
      "ganhadores_quadra_sorteio2       1886 non-null object\n",
      "rateio_quadra_sorteio2           1886 non-null object\n",
      "dtypes: object(29)\n",
      "memory usage: 552.0+ KB\n"
     ]
    }
   ],
   "source": [
    "df.info()"
   ]
  },
  {
   "cell_type": "markdown",
   "metadata": {},
   "source": [
    "Apenas a coluna __data_sorteio__ possui 2352 linhas"
   ]
  },
  {
   "cell_type": "code",
   "execution_count": 16,
   "metadata": {},
   "outputs": [
    {
     "data": {
      "text/plain": [
       "SP    142\n",
       "RJ     48\n",
       "MG     47\n",
       "BA     41\n",
       "PR     33\n",
       "GO     32\n",
       "SC     25\n",
       "RS     20\n",
       "DF     19\n",
       "PA     12\n",
       "Name: data_sorteio, dtype: int64"
      ]
     },
     "execution_count": 16,
     "metadata": {},
     "output_type": "execute_result"
    }
   ],
   "source": [
    "df['data_sorteio'].value_counts()[:10]"
   ]
  },
  {
   "cell_type": "markdown",
   "metadata": {},
   "source": [
    "Podemos ver que o erro da linha 4 (estar preenchida com estado) se repete em outras colunas, iremos remover então as linhas que possuem valor nulo em concurso"
   ]
  },
  {
   "cell_type": "code",
   "execution_count": 17,
   "metadata": {},
   "outputs": [],
   "source": [
    "# Apagando as linhas onde a coluna bola1 é nula (NaN)\n",
    "\n",
    "df.dropna(subset=['1_1'], how=\"any\", inplace=True)"
   ]
  },
  {
   "cell_type": "code",
   "execution_count": 18,
   "metadata": {},
   "outputs": [],
   "source": [
    "# Reindexando as linhas\n",
    "\n",
    "df.reset_index(drop=True, inplace=True)"
   ]
  },
  {
   "cell_type": "code",
   "execution_count": 19,
   "metadata": {},
   "outputs": [
    {
     "data": {
      "text/html": [
       "<div>\n",
       "<style scoped>\n",
       "    .dataframe tbody tr th:only-of-type {\n",
       "        vertical-align: middle;\n",
       "    }\n",
       "\n",
       "    .dataframe tbody tr th {\n",
       "        vertical-align: top;\n",
       "    }\n",
       "\n",
       "    .dataframe thead th {\n",
       "        text-align: right;\n",
       "    }\n",
       "</style>\n",
       "<table border=\"1\" class=\"dataframe\">\n",
       "  <thead>\n",
       "    <tr style=\"text-align: right;\">\n",
       "      <th></th>\n",
       "      <th>concurso</th>\n",
       "      <th>data_sorteio</th>\n",
       "      <th>1_1</th>\n",
       "      <th>2_1</th>\n",
       "      <th>3_1</th>\n",
       "      <th>4_1</th>\n",
       "      <th>5_1</th>\n",
       "      <th>6_1</th>\n",
       "      <th>arrecadação_total</th>\n",
       "      <th>ganhadores_sena_sorteio1</th>\n",
       "      <th>...</th>\n",
       "      <th>3_2</th>\n",
       "      <th>4_2</th>\n",
       "      <th>5_2</th>\n",
       "      <th>6_2</th>\n",
       "      <th>ganhadores_sena_sorteio2</th>\n",
       "      <th>rateio_sena_sorteio2</th>\n",
       "      <th>ganhadores_quina_sorteio2</th>\n",
       "      <th>rateio_quina_sorteio2</th>\n",
       "      <th>ganhadores_quadra_sorteio2</th>\n",
       "      <th>rateio_quadra_sorteio2</th>\n",
       "    </tr>\n",
       "  </thead>\n",
       "  <tbody>\n",
       "    <tr>\n",
       "      <th>0</th>\n",
       "      <td>1</td>\n",
       "      <td>06/11/2001</td>\n",
       "      <td>41</td>\n",
       "      <td>48</td>\n",
       "      <td>15</td>\n",
       "      <td>07</td>\n",
       "      <td>24</td>\n",
       "      <td>50</td>\n",
       "      <td>000</td>\n",
       "      <td>0</td>\n",
       "      <td>...</td>\n",
       "      <td>41</td>\n",
       "      <td>49</td>\n",
       "      <td>44</td>\n",
       "      <td>09</td>\n",
       "      <td>0</td>\n",
       "      <td>000</td>\n",
       "      <td>55</td>\n",
       "      <td>2.31759</td>\n",
       "      <td>1307</td>\n",
       "      <td>9716</td>\n",
       "    </tr>\n",
       "    <tr>\n",
       "      <th>1</th>\n",
       "      <td>2</td>\n",
       "      <td>09/11/2001</td>\n",
       "      <td>11</td>\n",
       "      <td>38</td>\n",
       "      <td>32</td>\n",
       "      <td>04</td>\n",
       "      <td>09</td>\n",
       "      <td>42</td>\n",
       "      <td>000</td>\n",
       "      <td>0</td>\n",
       "      <td>...</td>\n",
       "      <td>46</td>\n",
       "      <td>29</td>\n",
       "      <td>19</td>\n",
       "      <td>24</td>\n",
       "      <td>0</td>\n",
       "      <td>000</td>\n",
       "      <td>35</td>\n",
       "      <td>2.65540</td>\n",
       "      <td>2014</td>\n",
       "      <td>4598</td>\n",
       "    </tr>\n",
       "    <tr>\n",
       "      <th>2</th>\n",
       "      <td>3</td>\n",
       "      <td>13/11/2001</td>\n",
       "      <td>42</td>\n",
       "      <td>34</td>\n",
       "      <td>11</td>\n",
       "      <td>44</td>\n",
       "      <td>45</td>\n",
       "      <td>47</td>\n",
       "      <td>000</td>\n",
       "      <td>0</td>\n",
       "      <td>...</td>\n",
       "      <td>48</td>\n",
       "      <td>30</td>\n",
       "      <td>40</td>\n",
       "      <td>12</td>\n",
       "      <td>0</td>\n",
       "      <td>000</td>\n",
       "      <td>21</td>\n",
       "      <td>4.71993</td>\n",
       "      <td>1264</td>\n",
       "      <td>7813</td>\n",
       "    </tr>\n",
       "    <tr>\n",
       "      <th>3</th>\n",
       "      <td>4</td>\n",
       "      <td>16/11/2001</td>\n",
       "      <td>38</td>\n",
       "      <td>44</td>\n",
       "      <td>50</td>\n",
       "      <td>46</td>\n",
       "      <td>43</td>\n",
       "      <td>29</td>\n",
       "      <td>000</td>\n",
       "      <td>0</td>\n",
       "      <td>...</td>\n",
       "      <td>02</td>\n",
       "      <td>07</td>\n",
       "      <td>49</td>\n",
       "      <td>11</td>\n",
       "      <td>0</td>\n",
       "      <td>000</td>\n",
       "      <td>8</td>\n",
       "      <td>10.66817</td>\n",
       "      <td>1042</td>\n",
       "      <td>8159</td>\n",
       "    </tr>\n",
       "    <tr>\n",
       "      <th>4</th>\n",
       "      <td>5</td>\n",
       "      <td>20/11/2001</td>\n",
       "      <td>32</td>\n",
       "      <td>16</td>\n",
       "      <td>12</td>\n",
       "      <td>40</td>\n",
       "      <td>25</td>\n",
       "      <td>07</td>\n",
       "      <td>000</td>\n",
       "      <td>0</td>\n",
       "      <td>...</td>\n",
       "      <td>03</td>\n",
       "      <td>49</td>\n",
       "      <td>10</td>\n",
       "      <td>26</td>\n",
       "      <td>0</td>\n",
       "      <td>000</td>\n",
       "      <td>34</td>\n",
       "      <td>2.94335</td>\n",
       "      <td>1804</td>\n",
       "      <td>5526</td>\n",
       "    </tr>\n",
       "  </tbody>\n",
       "</table>\n",
       "<p>5 rows × 29 columns</p>\n",
       "</div>"
      ],
      "text/plain": [
       "0 concurso data_sorteio 1_1 2_1 3_1 4_1 5_1 6_1 arrecadação_total  \\\n",
       "0        1   06/11/2001  41  48  15  07  24  50               000   \n",
       "1        2   09/11/2001  11  38  32  04  09  42               000   \n",
       "2        3   13/11/2001  42  34  11  44  45  47               000   \n",
       "3        4   16/11/2001  38  44  50  46  43  29               000   \n",
       "4        5   20/11/2001  32  16  12  40  25  07               000   \n",
       "\n",
       "0 ganhadores_sena_sorteio1          ...           3_2 4_2 5_2 6_2  \\\n",
       "0                        0          ...            41  49  44  09   \n",
       "1                        0          ...            46  29  19  24   \n",
       "2                        0          ...            48  30  40  12   \n",
       "3                        0          ...            02  07  49  11   \n",
       "4                        0          ...            03  49  10  26   \n",
       "\n",
       "0 ganhadores_sena_sorteio2 rateio_sena_sorteio2 ganhadores_quina_sorteio2  \\\n",
       "0                        0                  000                        55   \n",
       "1                        0                  000                        35   \n",
       "2                        0                  000                        21   \n",
       "3                        0                  000                         8   \n",
       "4                        0                  000                        34   \n",
       "\n",
       "0 rateio_quina_sorteio2 ganhadores_quadra_sorteio2 rateio_quadra_sorteio2  \n",
       "0               2.31759                       1307                   9716  \n",
       "1               2.65540                       2014                   4598  \n",
       "2               4.71993                       1264                   7813  \n",
       "3              10.66817                       1042                   8159  \n",
       "4               2.94335                       1804                   5526  \n",
       "\n",
       "[5 rows x 29 columns]"
      ]
     },
     "execution_count": 19,
     "metadata": {},
     "output_type": "execute_result"
    }
   ],
   "source": [
    "df.head()"
   ]
  },
  {
   "cell_type": "code",
   "execution_count": 20,
   "metadata": {},
   "outputs": [
    {
     "name": "stdout",
     "output_type": "stream",
     "text": [
      "<class 'pandas.core.frame.DataFrame'>\n",
      "RangeIndex: 1886 entries, 0 to 1885\n",
      "Data columns (total 29 columns):\n",
      "concurso                         1886 non-null object\n",
      "data_sorteio                     1886 non-null object\n",
      "1_1                              1886 non-null object\n",
      "2_1                              1886 non-null object\n",
      "3_1                              1886 non-null object\n",
      "4_1                              1886 non-null object\n",
      "5_1                              1886 non-null object\n",
      "6_1                              1886 non-null object\n",
      "arrecadação_total                1886 non-null object\n",
      "ganhadores_sena_sorteio1         1886 non-null object\n",
      "rateio_sena_sorteio1             1886 non-null object\n",
      "acumulado_sena_sorteio1          1886 non-null object\n",
      "valor_acumulado_sena_sorteio1    1886 non-null object\n",
      "ganhadores_quina_sorteio1        1886 non-null object\n",
      "rateio_quina_sorteio1            1886 non-null object\n",
      "ganhadores_quadra_sorteio1       1886 non-null object\n",
      "rateio_quadra_sorteio1           1886 non-null object\n",
      "1_2                              1886 non-null object\n",
      "2_2                              1886 non-null object\n",
      "3_2                              1886 non-null object\n",
      "4_2                              1886 non-null object\n",
      "5_2                              1886 non-null object\n",
      "6_2                              1886 non-null object\n",
      "ganhadores_sena_sorteio2         1886 non-null object\n",
      "rateio_sena_sorteio2             1886 non-null object\n",
      "ganhadores_quina_sorteio2        1886 non-null object\n",
      "rateio_quina_sorteio2            1886 non-null object\n",
      "ganhadores_quadra_sorteio2       1886 non-null object\n",
      "rateio_quadra_sorteio2           1886 non-null object\n",
      "dtypes: object(29)\n",
      "memory usage: 427.4+ KB\n"
     ]
    }
   ],
   "source": [
    "df.info()"
   ]
  },
  {
   "cell_type": "markdown",
   "metadata": {},
   "source": [
    "Agora todas as colunas possuem a mesma quantidade de linhas"
   ]
  },
  {
   "cell_type": "markdown",
   "metadata": {},
   "source": [
    "### Tipagem\n",
    "\n",
    "A coluna data_sorteio será convertida para datetime, rateios para float e as demais para inteiro"
   ]
  },
  {
   "cell_type": "code",
   "execution_count": 21,
   "metadata": {},
   "outputs": [],
   "source": [
    "# Convertendo a coluna data_sorteio para datetime\n",
    "df['data_sorteio'] = pd.to_datetime(df['data_sorteio'])"
   ]
  },
  {
   "cell_type": "code",
   "execution_count": 22,
   "metadata": {},
   "outputs": [],
   "source": [
    "# Inserindo uma coluna com o ano de cada sorteio\n",
    "\n",
    "df['ano'] = df['data_sorteio'].dt.year"
   ]
  },
  {
   "cell_type": "markdown",
   "metadata": {},
   "source": [
    "#### Problemas com as casas decimais\n",
    "Ao analisar os valores nos passos futuros, verificamos que as casas decimais ficaram a esquerda do .\n",
    "Para resolver a questão iremos e remover os dois ultimos numeros, descartando o valor dos decimais, como estamos trabalhando com valores na casa dos __milhões__ alguns __centavos__ não atrapalham nossos resultados."
   ]
  },
  {
   "cell_type": "code",
   "execution_count": 23,
   "metadata": {},
   "outputs": [],
   "source": [
    "# Colunas que possuem os valores que serão tratados\n",
    "colunas_valores = ['rateio_sena_sorteio1','rateio_quina_sorteio1','rateio_quadra_sorteio1',\n",
    "                   'rateio_sena_sorteio2','rateio_quina_sorteio2','rateio_quadra_sorteio2',\n",
    "                  'arrecadação_total','valor_acumulado_sena_sorteio1'] #colunas que serão convertidas para float"
   ]
  },
  {
   "cell_type": "code",
   "execution_count": 24,
   "metadata": {},
   "outputs": [],
   "source": [
    "# Criando uma copia de cada coluna para o caso de erros na conversão ser fácil a recuperação\n",
    "pos = 0\n",
    "copia = pd.DataFrame()\n",
    "for coluna in colunas_valores:\n",
    "    copia[coluna] = df[coluna]\n",
    "    pos += 1"
   ]
  },
  {
   "cell_type": "code",
   "execution_count": 25,
   "metadata": {},
   "outputs": [],
   "source": [
    "# Recuperando a partir da copia\n",
    "pos = 0\n",
    "for coluna in colunas_valores:\n",
    "    df[coluna] = copia[coluna]\n",
    "    pos += 1"
   ]
  },
  {
   "cell_type": "code",
   "execution_count": 26,
   "metadata": {},
   "outputs": [
    {
     "name": "stdout",
     "output_type": "stream",
     "text": [
      "0    000\n",
      "1    000\n",
      "2    000\n",
      "Name: rateio_sena_sorteio1, dtype: object\n",
      "0    000\n",
      "1    000\n",
      "2    000\n",
      "Name: rateio_quina_sorteio1, dtype: object\n",
      "0    000\n",
      "1    000\n",
      "2    000\n",
      "Name: rateio_quadra_sorteio1, dtype: object\n",
      "0    000\n",
      "1    000\n",
      "2    000\n",
      "Name: rateio_sena_sorteio2, dtype: object\n",
      "0    2.31759\n",
      "1    2.65540\n",
      "2    4.71993\n",
      "Name: rateio_quina_sorteio2, dtype: object\n",
      "0    9716\n",
      "1    4598\n",
      "2    7813\n",
      "Name: rateio_quadra_sorteio2, dtype: object\n",
      "0    000\n",
      "1    000\n",
      "2    000\n",
      "Name: arrecadação_total, dtype: object\n",
      "0      588.51968\n",
      "1      867.33646\n",
      "2    1.164.69174\n",
      "Name: valor_acumulado_sena_sorteio1, dtype: object\n"
     ]
    }
   ],
   "source": [
    "# Conferindo se a copia foi feita\n",
    "\n",
    "for coluna in colunas_valores:\n",
    "    print(copia[coluna].head(3))"
   ]
  },
  {
   "cell_type": "code",
   "execution_count": 27,
   "metadata": {},
   "outputs": [],
   "source": [
    "# Trabalhando com os valores\n",
    "\n",
    "for coluna in colunas_valores:\n",
    "    df[coluna] = df[coluna].str.replace('.','') #removendo o . dos valores"
   ]
  },
  {
   "cell_type": "code",
   "execution_count": 28,
   "metadata": {},
   "outputs": [
    {
     "data": {
      "text/html": [
       "<div>\n",
       "<style scoped>\n",
       "    .dataframe tbody tr th:only-of-type {\n",
       "        vertical-align: middle;\n",
       "    }\n",
       "\n",
       "    .dataframe tbody tr th {\n",
       "        vertical-align: top;\n",
       "    }\n",
       "\n",
       "    .dataframe thead th {\n",
       "        text-align: right;\n",
       "    }\n",
       "</style>\n",
       "<table border=\"1\" class=\"dataframe\">\n",
       "  <thead>\n",
       "    <tr style=\"text-align: right;\">\n",
       "      <th></th>\n",
       "      <th>concurso</th>\n",
       "      <th>data_sorteio</th>\n",
       "      <th>1_1</th>\n",
       "      <th>2_1</th>\n",
       "      <th>3_1</th>\n",
       "      <th>4_1</th>\n",
       "      <th>5_1</th>\n",
       "      <th>6_1</th>\n",
       "      <th>arrecadação_total</th>\n",
       "      <th>ganhadores_sena_sorteio1</th>\n",
       "      <th>...</th>\n",
       "      <th>4_2</th>\n",
       "      <th>5_2</th>\n",
       "      <th>6_2</th>\n",
       "      <th>ganhadores_sena_sorteio2</th>\n",
       "      <th>rateio_sena_sorteio2</th>\n",
       "      <th>ganhadores_quina_sorteio2</th>\n",
       "      <th>rateio_quina_sorteio2</th>\n",
       "      <th>ganhadores_quadra_sorteio2</th>\n",
       "      <th>rateio_quadra_sorteio2</th>\n",
       "      <th>ano</th>\n",
       "    </tr>\n",
       "  </thead>\n",
       "  <tbody>\n",
       "    <tr>\n",
       "      <th>0</th>\n",
       "      <td>1</td>\n",
       "      <td>2001-06-11</td>\n",
       "      <td>41</td>\n",
       "      <td>48</td>\n",
       "      <td>15</td>\n",
       "      <td>07</td>\n",
       "      <td>24</td>\n",
       "      <td>50</td>\n",
       "      <td>000</td>\n",
       "      <td>0</td>\n",
       "      <td>...</td>\n",
       "      <td>49</td>\n",
       "      <td>44</td>\n",
       "      <td>09</td>\n",
       "      <td>0</td>\n",
       "      <td>000</td>\n",
       "      <td>55</td>\n",
       "      <td>231759</td>\n",
       "      <td>1307</td>\n",
       "      <td>9716</td>\n",
       "      <td>2001</td>\n",
       "    </tr>\n",
       "    <tr>\n",
       "      <th>1</th>\n",
       "      <td>2</td>\n",
       "      <td>2001-09-11</td>\n",
       "      <td>11</td>\n",
       "      <td>38</td>\n",
       "      <td>32</td>\n",
       "      <td>04</td>\n",
       "      <td>09</td>\n",
       "      <td>42</td>\n",
       "      <td>000</td>\n",
       "      <td>0</td>\n",
       "      <td>...</td>\n",
       "      <td>29</td>\n",
       "      <td>19</td>\n",
       "      <td>24</td>\n",
       "      <td>0</td>\n",
       "      <td>000</td>\n",
       "      <td>35</td>\n",
       "      <td>265540</td>\n",
       "      <td>2014</td>\n",
       "      <td>4598</td>\n",
       "      <td>2001</td>\n",
       "    </tr>\n",
       "    <tr>\n",
       "      <th>2</th>\n",
       "      <td>3</td>\n",
       "      <td>2001-11-13</td>\n",
       "      <td>42</td>\n",
       "      <td>34</td>\n",
       "      <td>11</td>\n",
       "      <td>44</td>\n",
       "      <td>45</td>\n",
       "      <td>47</td>\n",
       "      <td>000</td>\n",
       "      <td>0</td>\n",
       "      <td>...</td>\n",
       "      <td>30</td>\n",
       "      <td>40</td>\n",
       "      <td>12</td>\n",
       "      <td>0</td>\n",
       "      <td>000</td>\n",
       "      <td>21</td>\n",
       "      <td>471993</td>\n",
       "      <td>1264</td>\n",
       "      <td>7813</td>\n",
       "      <td>2001</td>\n",
       "    </tr>\n",
       "    <tr>\n",
       "      <th>3</th>\n",
       "      <td>4</td>\n",
       "      <td>2001-11-16</td>\n",
       "      <td>38</td>\n",
       "      <td>44</td>\n",
       "      <td>50</td>\n",
       "      <td>46</td>\n",
       "      <td>43</td>\n",
       "      <td>29</td>\n",
       "      <td>000</td>\n",
       "      <td>0</td>\n",
       "      <td>...</td>\n",
       "      <td>07</td>\n",
       "      <td>49</td>\n",
       "      <td>11</td>\n",
       "      <td>0</td>\n",
       "      <td>000</td>\n",
       "      <td>8</td>\n",
       "      <td>1066817</td>\n",
       "      <td>1042</td>\n",
       "      <td>8159</td>\n",
       "      <td>2001</td>\n",
       "    </tr>\n",
       "    <tr>\n",
       "      <th>4</th>\n",
       "      <td>5</td>\n",
       "      <td>2001-11-20</td>\n",
       "      <td>32</td>\n",
       "      <td>16</td>\n",
       "      <td>12</td>\n",
       "      <td>40</td>\n",
       "      <td>25</td>\n",
       "      <td>07</td>\n",
       "      <td>000</td>\n",
       "      <td>0</td>\n",
       "      <td>...</td>\n",
       "      <td>49</td>\n",
       "      <td>10</td>\n",
       "      <td>26</td>\n",
       "      <td>0</td>\n",
       "      <td>000</td>\n",
       "      <td>34</td>\n",
       "      <td>294335</td>\n",
       "      <td>1804</td>\n",
       "      <td>5526</td>\n",
       "      <td>2001</td>\n",
       "    </tr>\n",
       "  </tbody>\n",
       "</table>\n",
       "<p>5 rows × 30 columns</p>\n",
       "</div>"
      ],
      "text/plain": [
       "0 concurso data_sorteio 1_1 2_1 3_1 4_1 5_1 6_1 arrecadação_total  \\\n",
       "0        1   2001-06-11  41  48  15  07  24  50               000   \n",
       "1        2   2001-09-11  11  38  32  04  09  42               000   \n",
       "2        3   2001-11-13  42  34  11  44  45  47               000   \n",
       "3        4   2001-11-16  38  44  50  46  43  29               000   \n",
       "4        5   2001-11-20  32  16  12  40  25  07               000   \n",
       "\n",
       "0 ganhadores_sena_sorteio1  ...  4_2 5_2 6_2 ganhadores_sena_sorteio2  \\\n",
       "0                        0  ...   49  44  09                        0   \n",
       "1                        0  ...   29  19  24                        0   \n",
       "2                        0  ...   30  40  12                        0   \n",
       "3                        0  ...   07  49  11                        0   \n",
       "4                        0  ...   49  10  26                        0   \n",
       "\n",
       "0 rateio_sena_sorteio2 ganhadores_quina_sorteio2 rateio_quina_sorteio2  \\\n",
       "0                  000                        55                231759   \n",
       "1                  000                        35                265540   \n",
       "2                  000                        21                471993   \n",
       "3                  000                         8               1066817   \n",
       "4                  000                        34                294335   \n",
       "\n",
       "0 ganhadores_quadra_sorteio2 rateio_quadra_sorteio2   ano  \n",
       "0                       1307                   9716  2001  \n",
       "1                       2014                   4598  2001  \n",
       "2                       1264                   7813  2001  \n",
       "3                       1042                   8159  2001  \n",
       "4                       1804                   5526  2001  \n",
       "\n",
       "[5 rows x 30 columns]"
      ]
     },
     "execution_count": 28,
     "metadata": {},
     "output_type": "execute_result"
    }
   ],
   "source": [
    "df.head()"
   ]
  },
  {
   "cell_type": "code",
   "execution_count": 29,
   "metadata": {},
   "outputs": [],
   "source": [
    "# Removendo o dois ultimos numeros das colunas de ratio\n",
    "\n",
    "for coluna in colunas_valores:\n",
    "    temp = df[coluna].copy() #criando uma copia temporaria das informações da coluna\n",
    "    pos = 0 #variavel criada para posicionar a atualização\n",
    "    for valor in temp: #para cada valor\n",
    "        temp[pos] = valor[:-2] #atualizar o valor para ele mesmo removendo sem as ultimas duas posições\n",
    "        pos += 1 \n",
    "    df[coluna] = temp #copiar o conteudo da copia temporaria para a coluna"
   ]
  },
  {
   "cell_type": "code",
   "execution_count": 30,
   "metadata": {},
   "outputs": [],
   "source": [
    "# convertendo as colunas de valores para int\n",
    "\n",
    "for coluna in colunas_valores:\n",
    "    df[coluna] = df[coluna].astype(int)"
   ]
  },
  {
   "cell_type": "code",
   "execution_count": 31,
   "metadata": {},
   "outputs": [
    {
     "data": {
      "text/plain": [
       "0             0\n",
       "1             0\n",
       "2             0\n",
       "3             0\n",
       "4             0\n",
       "5             0\n",
       "6             0\n",
       "7             0\n",
       "8       2979726\n",
       "9             0\n",
       "10            0\n",
       "11            0\n",
       "12            0\n",
       "13            0\n",
       "14            0\n",
       "15            0\n",
       "16            0\n",
       "17            0\n",
       "18            0\n",
       "19            0\n",
       "20            0\n",
       "21      4431627\n",
       "22            0\n",
       "23       541936\n",
       "24            0\n",
       "25            0\n",
       "26            0\n",
       "27            0\n",
       "28            0\n",
       "29            0\n",
       "         ...   \n",
       "1856          0\n",
       "1857    1642352\n",
       "1858          0\n",
       "1859          0\n",
       "1860          0\n",
       "1861          0\n",
       "1862          0\n",
       "1863          0\n",
       "1864          0\n",
       "1865          0\n",
       "1866          0\n",
       "1867          0\n",
       "1868          0\n",
       "1869          0\n",
       "1870          0\n",
       "1871          0\n",
       "1872          0\n",
       "1873          0\n",
       "1874          0\n",
       "1875          0\n",
       "1876          0\n",
       "1877          0\n",
       "1878          0\n",
       "1879          0\n",
       "1880          0\n",
       "1881          0\n",
       "1882          0\n",
       "1883          0\n",
       "1884          0\n",
       "1885          0\n",
       "Name: rateio_sena_sorteio1, Length: 1886, dtype: int32"
      ]
     },
     "execution_count": 31,
     "metadata": {},
     "output_type": "execute_result"
    }
   ],
   "source": [
    "df['rateio_sena_sorteio1']"
   ]
  },
  {
   "cell_type": "code",
   "execution_count": 32,
   "metadata": {},
   "outputs": [
    {
     "data": {
      "text/html": [
       "<div>\n",
       "<style scoped>\n",
       "    .dataframe tbody tr th:only-of-type {\n",
       "        vertical-align: middle;\n",
       "    }\n",
       "\n",
       "    .dataframe tbody tr th {\n",
       "        vertical-align: top;\n",
       "    }\n",
       "\n",
       "    .dataframe thead th {\n",
       "        text-align: right;\n",
       "    }\n",
       "</style>\n",
       "<table border=\"1\" class=\"dataframe\">\n",
       "  <thead>\n",
       "    <tr style=\"text-align: right;\">\n",
       "      <th></th>\n",
       "      <th>concurso</th>\n",
       "      <th>data_sorteio</th>\n",
       "      <th>1_1</th>\n",
       "      <th>2_1</th>\n",
       "      <th>3_1</th>\n",
       "      <th>4_1</th>\n",
       "      <th>5_1</th>\n",
       "      <th>6_1</th>\n",
       "      <th>arrecadação_total</th>\n",
       "      <th>ganhadores_sena_sorteio1</th>\n",
       "      <th>...</th>\n",
       "      <th>4_2</th>\n",
       "      <th>5_2</th>\n",
       "      <th>6_2</th>\n",
       "      <th>ganhadores_sena_sorteio2</th>\n",
       "      <th>rateio_sena_sorteio2</th>\n",
       "      <th>ganhadores_quina_sorteio2</th>\n",
       "      <th>rateio_quina_sorteio2</th>\n",
       "      <th>ganhadores_quadra_sorteio2</th>\n",
       "      <th>rateio_quadra_sorteio2</th>\n",
       "      <th>ano</th>\n",
       "    </tr>\n",
       "  </thead>\n",
       "  <tbody>\n",
       "    <tr>\n",
       "      <th>0</th>\n",
       "      <td>1</td>\n",
       "      <td>2001-06-11</td>\n",
       "      <td>41</td>\n",
       "      <td>48</td>\n",
       "      <td>15</td>\n",
       "      <td>07</td>\n",
       "      <td>24</td>\n",
       "      <td>50</td>\n",
       "      <td>0</td>\n",
       "      <td>0</td>\n",
       "      <td>...</td>\n",
       "      <td>49</td>\n",
       "      <td>44</td>\n",
       "      <td>09</td>\n",
       "      <td>0</td>\n",
       "      <td>0</td>\n",
       "      <td>55</td>\n",
       "      <td>2317</td>\n",
       "      <td>1307</td>\n",
       "      <td>97</td>\n",
       "      <td>2001</td>\n",
       "    </tr>\n",
       "    <tr>\n",
       "      <th>1</th>\n",
       "      <td>2</td>\n",
       "      <td>2001-09-11</td>\n",
       "      <td>11</td>\n",
       "      <td>38</td>\n",
       "      <td>32</td>\n",
       "      <td>04</td>\n",
       "      <td>09</td>\n",
       "      <td>42</td>\n",
       "      <td>0</td>\n",
       "      <td>0</td>\n",
       "      <td>...</td>\n",
       "      <td>29</td>\n",
       "      <td>19</td>\n",
       "      <td>24</td>\n",
       "      <td>0</td>\n",
       "      <td>0</td>\n",
       "      <td>35</td>\n",
       "      <td>2655</td>\n",
       "      <td>2014</td>\n",
       "      <td>45</td>\n",
       "      <td>2001</td>\n",
       "    </tr>\n",
       "    <tr>\n",
       "      <th>2</th>\n",
       "      <td>3</td>\n",
       "      <td>2001-11-13</td>\n",
       "      <td>42</td>\n",
       "      <td>34</td>\n",
       "      <td>11</td>\n",
       "      <td>44</td>\n",
       "      <td>45</td>\n",
       "      <td>47</td>\n",
       "      <td>0</td>\n",
       "      <td>0</td>\n",
       "      <td>...</td>\n",
       "      <td>30</td>\n",
       "      <td>40</td>\n",
       "      <td>12</td>\n",
       "      <td>0</td>\n",
       "      <td>0</td>\n",
       "      <td>21</td>\n",
       "      <td>4719</td>\n",
       "      <td>1264</td>\n",
       "      <td>78</td>\n",
       "      <td>2001</td>\n",
       "    </tr>\n",
       "    <tr>\n",
       "      <th>3</th>\n",
       "      <td>4</td>\n",
       "      <td>2001-11-16</td>\n",
       "      <td>38</td>\n",
       "      <td>44</td>\n",
       "      <td>50</td>\n",
       "      <td>46</td>\n",
       "      <td>43</td>\n",
       "      <td>29</td>\n",
       "      <td>0</td>\n",
       "      <td>0</td>\n",
       "      <td>...</td>\n",
       "      <td>07</td>\n",
       "      <td>49</td>\n",
       "      <td>11</td>\n",
       "      <td>0</td>\n",
       "      <td>0</td>\n",
       "      <td>8</td>\n",
       "      <td>10668</td>\n",
       "      <td>1042</td>\n",
       "      <td>81</td>\n",
       "      <td>2001</td>\n",
       "    </tr>\n",
       "    <tr>\n",
       "      <th>4</th>\n",
       "      <td>5</td>\n",
       "      <td>2001-11-20</td>\n",
       "      <td>32</td>\n",
       "      <td>16</td>\n",
       "      <td>12</td>\n",
       "      <td>40</td>\n",
       "      <td>25</td>\n",
       "      <td>07</td>\n",
       "      <td>0</td>\n",
       "      <td>0</td>\n",
       "      <td>...</td>\n",
       "      <td>49</td>\n",
       "      <td>10</td>\n",
       "      <td>26</td>\n",
       "      <td>0</td>\n",
       "      <td>0</td>\n",
       "      <td>34</td>\n",
       "      <td>2943</td>\n",
       "      <td>1804</td>\n",
       "      <td>55</td>\n",
       "      <td>2001</td>\n",
       "    </tr>\n",
       "  </tbody>\n",
       "</table>\n",
       "<p>5 rows × 30 columns</p>\n",
       "</div>"
      ],
      "text/plain": [
       "0 concurso data_sorteio 1_1 2_1 3_1 4_1 5_1 6_1  arrecadação_total  \\\n",
       "0        1   2001-06-11  41  48  15  07  24  50                  0   \n",
       "1        2   2001-09-11  11  38  32  04  09  42                  0   \n",
       "2        3   2001-11-13  42  34  11  44  45  47                  0   \n",
       "3        4   2001-11-16  38  44  50  46  43  29                  0   \n",
       "4        5   2001-11-20  32  16  12  40  25  07                  0   \n",
       "\n",
       "0 ganhadores_sena_sorteio1  ...   4_2 5_2  6_2 ganhadores_sena_sorteio2  \\\n",
       "0                        0  ...    49  44   09                        0   \n",
       "1                        0  ...    29  19   24                        0   \n",
       "2                        0  ...    30  40   12                        0   \n",
       "3                        0  ...    07  49   11                        0   \n",
       "4                        0  ...    49  10   26                        0   \n",
       "\n",
       "0  rateio_sena_sorteio2 ganhadores_quina_sorteio2  rateio_quina_sorteio2  \\\n",
       "0                     0                        55                   2317   \n",
       "1                     0                        35                   2655   \n",
       "2                     0                        21                   4719   \n",
       "3                     0                         8                  10668   \n",
       "4                     0                        34                   2943   \n",
       "\n",
       "0 ganhadores_quadra_sorteio2 rateio_quadra_sorteio2   ano  \n",
       "0                       1307                     97  2001  \n",
       "1                       2014                     45  2001  \n",
       "2                       1264                     78  2001  \n",
       "3                       1042                     81  2001  \n",
       "4                       1804                     55  2001  \n",
       "\n",
       "[5 rows x 30 columns]"
      ]
     },
     "execution_count": 32,
     "metadata": {},
     "output_type": "execute_result"
    }
   ],
   "source": [
    "# Conferindo os valores\n",
    "df.head()"
   ]
  },
  {
   "cell_type": "code",
   "execution_count": 33,
   "metadata": {},
   "outputs": [
    {
     "name": "stdout",
     "output_type": "stream",
     "text": [
      "<class 'pandas.core.frame.DataFrame'>\n",
      "RangeIndex: 1886 entries, 0 to 1885\n",
      "Data columns (total 30 columns):\n",
      "concurso                         1886 non-null object\n",
      "data_sorteio                     1886 non-null datetime64[ns]\n",
      "1_1                              1886 non-null object\n",
      "2_1                              1886 non-null object\n",
      "3_1                              1886 non-null object\n",
      "4_1                              1886 non-null object\n",
      "5_1                              1886 non-null object\n",
      "6_1                              1886 non-null object\n",
      "arrecadação_total                1886 non-null int32\n",
      "ganhadores_sena_sorteio1         1886 non-null object\n",
      "rateio_sena_sorteio1             1886 non-null int32\n",
      "acumulado_sena_sorteio1          1886 non-null object\n",
      "valor_acumulado_sena_sorteio1    1886 non-null int32\n",
      "ganhadores_quina_sorteio1        1886 non-null object\n",
      "rateio_quina_sorteio1            1886 non-null int32\n",
      "ganhadores_quadra_sorteio1       1886 non-null object\n",
      "rateio_quadra_sorteio1           1886 non-null int32\n",
      "1_2                              1886 non-null object\n",
      "2_2                              1886 non-null object\n",
      "3_2                              1886 non-null object\n",
      "4_2                              1886 non-null object\n",
      "5_2                              1886 non-null object\n",
      "6_2                              1886 non-null object\n",
      "ganhadores_sena_sorteio2         1886 non-null object\n",
      "rateio_sena_sorteio2             1886 non-null int32\n",
      "ganhadores_quina_sorteio2        1886 non-null object\n",
      "rateio_quina_sorteio2            1886 non-null int32\n",
      "ganhadores_quadra_sorteio2       1886 non-null object\n",
      "rateio_quadra_sorteio2           1886 non-null int32\n",
      "ano                              1886 non-null int64\n",
      "dtypes: datetime64[ns](1), int32(8), int64(1), object(20)\n",
      "memory usage: 383.2+ KB\n"
     ]
    }
   ],
   "source": [
    "df.info()"
   ]
  },
  {
   "cell_type": "code",
   "execution_count": 34,
   "metadata": {},
   "outputs": [],
   "source": [
    "# Convertendo as colunas para inteiro\n",
    "\n",
    "colunas_int = ['concurso','1_1','2_1','3_1','4_1','5_1','6_1','ganhadores_sena_sorteio1','ganhadores_quina_sorteio1',\n",
    "              'ganhadores_quadra_sorteio1','1_2','2_2','3_2','4_2','5_2','6_2','ganhadores_sena_sorteio2',\n",
    "              'ganhadores_quina_sorteio2','ganhadores_quadra_sorteio2']\n",
    "\n",
    "for coluna in colunas_int:\n",
    "    df[coluna] = df[coluna].astype(int)"
   ]
  },
  {
   "cell_type": "code",
   "execution_count": 35,
   "metadata": {},
   "outputs": [
    {
     "name": "stdout",
     "output_type": "stream",
     "text": [
      "<class 'pandas.core.frame.DataFrame'>\n",
      "RangeIndex: 1886 entries, 0 to 1885\n",
      "Data columns (total 30 columns):\n",
      "concurso                         1886 non-null int32\n",
      "data_sorteio                     1886 non-null datetime64[ns]\n",
      "1_1                              1886 non-null int32\n",
      "2_1                              1886 non-null int32\n",
      "3_1                              1886 non-null int32\n",
      "4_1                              1886 non-null int32\n",
      "5_1                              1886 non-null int32\n",
      "6_1                              1886 non-null int32\n",
      "arrecadação_total                1886 non-null int32\n",
      "ganhadores_sena_sorteio1         1886 non-null int32\n",
      "rateio_sena_sorteio1             1886 non-null int32\n",
      "acumulado_sena_sorteio1          1886 non-null object\n",
      "valor_acumulado_sena_sorteio1    1886 non-null int32\n",
      "ganhadores_quina_sorteio1        1886 non-null int32\n",
      "rateio_quina_sorteio1            1886 non-null int32\n",
      "ganhadores_quadra_sorteio1       1886 non-null int32\n",
      "rateio_quadra_sorteio1           1886 non-null int32\n",
      "1_2                              1886 non-null int32\n",
      "2_2                              1886 non-null int32\n",
      "3_2                              1886 non-null int32\n",
      "4_2                              1886 non-null int32\n",
      "5_2                              1886 non-null int32\n",
      "6_2                              1886 non-null int32\n",
      "ganhadores_sena_sorteio2         1886 non-null int32\n",
      "rateio_sena_sorteio2             1886 non-null int32\n",
      "ganhadores_quina_sorteio2        1886 non-null int32\n",
      "rateio_quina_sorteio2            1886 non-null int32\n",
      "ganhadores_quadra_sorteio2       1886 non-null int32\n",
      "rateio_quadra_sorteio2           1886 non-null int32\n",
      "ano                              1886 non-null int64\n",
      "dtypes: datetime64[ns](1), int32(27), int64(1), object(1)\n",
      "memory usage: 243.2+ KB\n"
     ]
    }
   ],
   "source": [
    "df.info()"
   ]
  },
  {
   "cell_type": "code",
   "execution_count": 36,
   "metadata": {},
   "outputs": [],
   "source": [
    "# 2.500.000.000\n",
    "num_teste = 2500000000.00"
   ]
  },
  {
   "cell_type": "markdown",
   "metadata": {},
   "source": [
    "### Funções"
   ]
  },
  {
   "cell_type": "code",
   "execution_count": 37,
   "metadata": {},
   "outputs": [],
   "source": [
    "def formato_brl(valor):\n",
    "    \"\"\"\n",
    "    Função para converter numeração para formato moeda BRL\n",
    "    argumentos: valor = valor que será tratado\n",
    "    retorna: valor formato     \n",
    "    \"\"\"\n",
    "    temp = str(int(valor))[::-1]\n",
    "    cont = 1\n",
    "    novo_valor = ''\n",
    "    for digito in temp:\n",
    "        if cont == 4:\n",
    "            novo_valor = '.' + novo_valor\n",
    "            cont = 1\n",
    "        novo_valor = digito + novo_valor\n",
    "        cont += 1\n",
    "    novo_valor = novo_valor + ',00'\n",
    "    novo_valor = 'R$ ' + novo_valor\n",
    "    return novo_valor"
   ]
  },
  {
   "cell_type": "code",
   "execution_count": 38,
   "metadata": {},
   "outputs": [
    {
     "data": {
      "text/plain": [
       "'R$ 2.500.000.000,00'"
      ]
     },
     "execution_count": 38,
     "metadata": {},
     "output_type": "execute_result"
    }
   ],
   "source": [
    "# Testando e conferindo a função\n",
    "formato_brl(num_teste)"
   ]
  },
  {
   "cell_type": "markdown",
   "metadata": {},
   "source": [
    "__Obs.:__ Depois de elaborar a função, localizei uma [artigo](http://blog.alura.com.br/formatando-moeda-no-python/) falando da biblioteca locale. [Exemplo](https://pt.stackoverflow.com/questions/66183/como-retornar-um-valor-no-formato-moeda-brasileiro-na-view-do-django) de aplicação da função para moeda brasileira.\n",
    "\n",
    "__Como já elaborei a função, manterei o meu código utilizando ela__"
   ]
  },
  {
   "cell_type": "markdown",
   "metadata": {},
   "source": [
    "### Analisando nosso DF"
   ]
  },
  {
   "cell_type": "code",
   "execution_count": 39,
   "metadata": {},
   "outputs": [
    {
     "data": {
      "text/plain": [
       "0\n",
       "concurso                                           9\n",
       "data_sorteio                     2001-04-12 00:00:00\n",
       "1_1                                               44\n",
       "2_1                                               22\n",
       "3_1                                               37\n",
       "4_1                                               18\n",
       "5_1                                               42\n",
       "6_1                                               10\n",
       "arrecadação_total                                  0\n",
       "ganhadores_sena_sorteio1                           1\n",
       "rateio_sena_sorteio1                         2979726\n",
       "acumulado_sena_sorteio1                          NÃO\n",
       "valor_acumulado_sena_sorteio1                      0\n",
       "ganhadores_quina_sorteio1                          0\n",
       "rateio_quina_sorteio1                              0\n",
       "ganhadores_quadra_sorteio1                         0\n",
       "rateio_quadra_sorteio1                             0\n",
       "1_2                                               26\n",
       "2_2                                               31\n",
       "3_2                                               42\n",
       "4_2                                               46\n",
       "5_2                                               10\n",
       "6_2                                               37\n",
       "ganhadores_sena_sorteio2                           0\n",
       "rateio_sena_sorteio2                               0\n",
       "ganhadores_quina_sorteio2                         17\n",
       "rateio_quina_sorteio2                           8219\n",
       "ganhadores_quadra_sorteio2                      1300\n",
       "rateio_quadra_sorteio2                           107\n",
       "ano                                             2001\n",
       "Name: 8, dtype: object"
      ]
     },
     "execution_count": 39,
     "metadata": {},
     "output_type": "execute_result"
    }
   ],
   "source": [
    "# Primeiro sorteio que consta em nosso df\n",
    "\n",
    "df.loc[df['data_sorteio'].idxmin()]"
   ]
  },
  {
   "cell_type": "code",
   "execution_count": 40,
   "metadata": {},
   "outputs": [
    {
     "data": {
      "text/plain": [
       "0\n",
       "concurso                                        1886\n",
       "data_sorteio                     2019-08-01 00:00:00\n",
       "1_1                                               42\n",
       "2_1                                                8\n",
       "3_1                                               35\n",
       "4_1                                               25\n",
       "5_1                                               47\n",
       "6_1                                               26\n",
       "arrecadação_total                            4641106\n",
       "ganhadores_sena_sorteio1                           0\n",
       "rateio_sena_sorteio1                               0\n",
       "acumulado_sena_sorteio1                          SIM\n",
       "valor_acumulado_sena_sorteio1                7964614\n",
       "ganhadores_quina_sorteio1                         36\n",
       "rateio_quina_sorteio1                           3912\n",
       "ganhadores_quadra_sorteio1                      1993\n",
       "rateio_quadra_sorteio1                            80\n",
       "1_2                                               15\n",
       "2_2                                               43\n",
       "3_2                                               20\n",
       "4_2                                               38\n",
       "5_2                                               13\n",
       "6_2                                               23\n",
       "ganhadores_sena_sorteio2                           0\n",
       "rateio_sena_sorteio2                               0\n",
       "ganhadores_quina_sorteio2                         32\n",
       "rateio_quina_sorteio2                           3960\n",
       "ganhadores_quadra_sorteio2                      1868\n",
       "rateio_quadra_sorteio2                            86\n",
       "ano                                             2019\n",
       "Name: 1885, dtype: object"
      ]
     },
     "execution_count": 40,
     "metadata": {},
     "output_type": "execute_result"
    }
   ],
   "source": [
    "# Último sorteio que consta em nosso df\n",
    "\n",
    "df.loc[df['data_sorteio'].idxmax()]"
   ]
  },
  {
   "cell_type": "code",
   "execution_count": 41,
   "metadata": {},
   "outputs": [
    {
     "data": {
      "text/plain": [
       "0\n",
       "concurso                                        1105\n",
       "data_sorteio                     2012-06-09 00:00:00\n",
       "1_1                                               26\n",
       "2_1                                               46\n",
       "3_1                                               24\n",
       "4_1                                                5\n",
       "5_1                                               34\n",
       "6_1                                               17\n",
       "arrecadação_total                            1271459\n",
       "ganhadores_sena_sorteio1                           1\n",
       "rateio_sena_sorteio1                          117533\n",
       "acumulado_sena_sorteio1                          NÃO\n",
       "valor_acumulado_sena_sorteio1                  78355\n",
       "ganhadores_quina_sorteio1                         20\n",
       "rateio_quina_sorteio1                           2938\n",
       "ganhadores_quadra_sorteio1                      1369\n",
       "rateio_quadra_sorteio1                            40\n",
       "1_2                                               39\n",
       "2_2                                               22\n",
       "3_2                                               49\n",
       "4_2                                               18\n",
       "5_2                                               31\n",
       "6_2                                               47\n",
       "ganhadores_sena_sorteio2                           0\n",
       "rateio_sena_sorteio2                               0\n",
       "ganhadores_quina_sorteio2                         24\n",
       "rateio_quina_sorteio2                           2448\n",
       "ganhadores_quadra_sorteio2                      1034\n",
       "rateio_quadra_sorteio2                            54\n",
       "ano                                             2012\n",
       "Name: 1104, dtype: object"
      ]
     },
     "execution_count": 41,
     "metadata": {},
     "output_type": "execute_result"
    }
   ],
   "source": [
    "# Menor valor pago na SENA - SORTEIO 1\n",
    "\n",
    "df.loc[df[df['rateio_sena_sorteio1'] != 0]['rateio_sena_sorteio1'].idxmin()]"
   ]
  },
  {
   "cell_type": "code",
   "execution_count": 42,
   "metadata": {},
   "outputs": [
    {
     "data": {
      "text/plain": [
       "0\n",
       "concurso                                        1759\n",
       "data_sorteio                     2018-02-22 00:00:00\n",
       "1_1                                               43\n",
       "2_1                                               34\n",
       "3_1                                               45\n",
       "4_1                                               26\n",
       "5_1                                               12\n",
       "6_1                                               16\n",
       "arrecadação_total                            2366062\n",
       "ganhadores_sena_sorteio1                           1\n",
       "rateio_sena_sorteio1                         1809242\n",
       "acumulado_sena_sorteio1                          NÃO\n",
       "valor_acumulado_sena_sorteio1                      0\n",
       "ganhadores_quina_sorteio1                         25\n",
       "rateio_quina_sorteio1                           2871\n",
       "ganhadores_quadra_sorteio1                      1226\n",
       "rateio_quadra_sorteio1                            66\n",
       "1_2                                               12\n",
       "2_2                                               29\n",
       "3_2                                               22\n",
       "4_2                                               13\n",
       "5_2                                               30\n",
       "6_2                                               27\n",
       "ganhadores_sena_sorteio2                           2\n",
       "rateio_sena_sorteio2                           39488\n",
       "ganhadores_quina_sorteio2                         29\n",
       "rateio_quina_sorteio2                           2228\n",
       "ganhadores_quadra_sorteio2                      1122\n",
       "rateio_quadra_sorteio2                            73\n",
       "ano                                             2018\n",
       "Name: 1758, dtype: object"
      ]
     },
     "execution_count": 42,
     "metadata": {},
     "output_type": "execute_result"
    }
   ],
   "source": [
    "# Menor valor pago na SENA - SORTEIO 2\n",
    "\n",
    "df.loc[df[df['rateio_sena_sorteio2'] != 0]['rateio_sena_sorteio2'].idxmin()]"
   ]
  },
  {
   "cell_type": "code",
   "execution_count": 43,
   "metadata": {},
   "outputs": [
    {
     "data": {
      "text/plain": [
       "0\n",
       "concurso                                        1402\n",
       "data_sorteio                     2015-07-14 00:00:00\n",
       "1_1                                                2\n",
       "2_1                                                1\n",
       "3_1                                               41\n",
       "4_1                                               23\n",
       "5_1                                               19\n",
       "6_1                                               36\n",
       "arrecadação_total                           18082796\n",
       "ganhadores_sena_sorteio1                           1\n",
       "rateio_sena_sorteio1                        25451710\n",
       "acumulado_sena_sorteio1                          NÃO\n",
       "valor_acumulado_sena_sorteio1                1114384\n",
       "ganhadores_quina_sorteio1                        150\n",
       "rateio_quina_sorteio1                           5571\n",
       "ganhadores_quadra_sorteio1                      8307\n",
       "rateio_quadra_sorteio1                            95\n",
       "1_2                                               16\n",
       "2_2                                               48\n",
       "3_2                                               34\n",
       "4_2                                                1\n",
       "5_2                                               47\n",
       "6_2                                               31\n",
       "ganhadores_sena_sorteio2                           0\n",
       "rateio_sena_sorteio2                               0\n",
       "ganhadores_quina_sorteio2                        138\n",
       "rateio_quina_sorteio2                           6056\n",
       "ganhadores_quadra_sorteio2                      7110\n",
       "rateio_quadra_sorteio2                           111\n",
       "ano                                             2015\n",
       "Name: 1401, dtype: object"
      ]
     },
     "execution_count": 43,
     "metadata": {},
     "output_type": "execute_result"
    }
   ],
   "source": [
    "# Maior valor pago na SENA - Sorteio1\n",
    "\n",
    "index = df['rateio_sena_sorteio1'].idxmax()\n",
    "df.loc[index]"
   ]
  },
  {
   "cell_type": "code",
   "execution_count": 44,
   "metadata": {},
   "outputs": [
    {
     "data": {
      "text/plain": [
       "0\n",
       "concurso                                        1401\n",
       "data_sorteio                     2015-10-07 00:00:00\n",
       "1_1                                               44\n",
       "2_1                                               25\n",
       "3_1                                               34\n",
       "4_1                                               47\n",
       "5_1                                                8\n",
       "6_1                                               21\n",
       "arrecadação_total                           16877716\n",
       "ganhadores_sena_sorteio1                           0\n",
       "rateio_sena_sorteio1                               0\n",
       "acumulado_sena_sorteio1                          SIM\n",
       "valor_acumulado_sena_sorteio1               23780133\n",
       "ganhadores_quina_sorteio1                        113\n",
       "rateio_quina_sorteio1                           6903\n",
       "ganhadores_quadra_sorteio1                      7001\n",
       "rateio_quadra_sorteio1                           106\n",
       "1_2                                               24\n",
       "2_2                                               46\n",
       "3_2                                               29\n",
       "4_2                                               31\n",
       "5_2                                               12\n",
       "6_2                                               38\n",
       "ganhadores_sena_sorteio2                           1\n",
       "rateio_sena_sorteio2                         1040119\n",
       "ganhadores_quina_sorteio2                        192\n",
       "rateio_quina_sorteio2                           4062\n",
       "ganhadores_quadra_sorteio2                      8527\n",
       "rateio_quadra_sorteio2                            87\n",
       "ano                                             2015\n",
       "Name: 1400, dtype: object"
      ]
     },
     "execution_count": 44,
     "metadata": {},
     "output_type": "execute_result"
    }
   ],
   "source": [
    "# Maior valor pago na SENA - Sorteio2\n",
    "\n",
    "index = df['rateio_sena_sorteio2'].idxmax()\n",
    "df.loc[index]"
   ]
  },
  {
   "cell_type": "code",
   "execution_count": 45,
   "metadata": {},
   "outputs": [
    {
     "name": "stdout",
     "output_type": "stream",
     "text": [
      "O valor TOTAL pago em premiações pela DUPLA-SENA no SORTEIO 1 é de R$ 615.496.802,00\n",
      "\n",
      "O valor TOTAL pago em premiações pela DUPLA-SENA no SORTEIO 2 é de R$ 41.363.899,00\n"
     ]
    }
   ],
   "source": [
    "# Total pago em premiões da SENA\n",
    "\n",
    "valor = formato_brl(df['rateio_sena_sorteio1'].sum())\n",
    "print('O valor TOTAL pago em premiações pela DUPLA-SENA no SORTEIO 1 é de {}'\n",
    "     .format(valor))\n",
    "valor = formato_brl(df['rateio_sena_sorteio2'].sum())\n",
    "print('\\nO valor TOTAL pago em premiações pela DUPLA-SENA no SORTEIO 2 é de {}'\n",
    "     .format(valor))"
   ]
  },
  {
   "cell_type": "code",
   "execution_count": 46,
   "metadata": {},
   "outputs": [
    {
     "data": {
      "text/plain": [
       "0\n",
       "concurso                                         644\n",
       "data_sorteio                     2008-01-04 00:00:00\n",
       "1_1                                               23\n",
       "2_1                                               49\n",
       "3_1                                               35\n",
       "4_1                                                4\n",
       "5_1                                               13\n",
       "6_1                                               11\n",
       "arrecadação_total                                  0\n",
       "ganhadores_sena_sorteio1                           4\n",
       "rateio_sena_sorteio1                         1413914\n",
       "acumulado_sena_sorteio1                          NÃO\n",
       "valor_acumulado_sena_sorteio1                      0\n",
       "ganhadores_quina_sorteio1                          0\n",
       "rateio_quina_sorteio1                              0\n",
       "ganhadores_quadra_sorteio1                         0\n",
       "rateio_quadra_sorteio1                             0\n",
       "1_2                                               30\n",
       "2_2                                               48\n",
       "3_2                                               22\n",
       "4_2                                               24\n",
       "5_2                                               20\n",
       "6_2                                               44\n",
       "ganhadores_sena_sorteio2                           0\n",
       "rateio_sena_sorteio2                               0\n",
       "ganhadores_quina_sorteio2                         43\n",
       "rateio_quina_sorteio2                           4443\n",
       "ganhadores_quadra_sorteio2                      2396\n",
       "rateio_quadra_sorteio2                            79\n",
       "ano                                             2008\n",
       "Name: 643, dtype: object"
      ]
     },
     "execution_count": 46,
     "metadata": {},
     "output_type": "execute_result"
    }
   ],
   "source": [
    "# Jogo com maior numero de ganhadores da SENA - Sorteio 1\n",
    "\n",
    "index = df['ganhadores_sena_sorteio1'].idxmax\n",
    "df.loc[index]"
   ]
  },
  {
   "cell_type": "code",
   "execution_count": 47,
   "metadata": {},
   "outputs": [
    {
     "name": "stdout",
     "output_type": "stream",
     "text": [
      "No sorteio com maior números de ganhadores da Dupla-Sena Sorteio 1, cada ganhador levou R$ 353.478,00\n"
     ]
    }
   ],
   "source": [
    "dividido = formato_brl(df['rateio_sena_sorteio1'].loc[index] / df['ganhadores_sena_sorteio1'].loc[index])\n",
    "print('No sorteio com maior números de ganhadores da Dupla-Sena Sorteio 1, cada ganhador levou {}'\n",
    "     .format(dividido))"
   ]
  },
  {
   "cell_type": "code",
   "execution_count": 48,
   "metadata": {},
   "outputs": [
    {
     "data": {
      "text/plain": [
       "0\n",
       "concurso                                        1194\n",
       "data_sorteio                     2013-07-16 00:00:00\n",
       "1_1                                               38\n",
       "2_1                                                3\n",
       "3_1                                                4\n",
       "4_1                                               29\n",
       "5_1                                               43\n",
       "6_1                                                8\n",
       "arrecadação_total                            9823113\n",
       "ganhadores_sena_sorteio1                           0\n",
       "rateio_sena_sorteio1                               0\n",
       "acumulado_sena_sorteio1                          SIM\n",
       "valor_acumulado_sena_sorteio1                9648059\n",
       "ganhadores_quina_sorteio1                        156\n",
       "rateio_quina_sorteio1                           2910\n",
       "ganhadores_quadra_sorteio1                      8721\n",
       "rateio_quadra_sorteio1                            49\n",
       "1_2                                               32\n",
       "2_2                                               13\n",
       "3_2                                               45\n",
       "4_2                                               19\n",
       "5_2                                               16\n",
       "6_2                                               38\n",
       "ganhadores_sena_sorteio2                           8\n",
       "rateio_sena_sorteio2                           75670\n",
       "ganhadores_quina_sorteio2                        420\n",
       "rateio_quina_sorteio2                           1544\n",
       "ganhadores_quadra_sorteio2                     14109\n",
       "rateio_quadra_sorteio2                            30\n",
       "ano                                             2013\n",
       "Name: 1193, dtype: object"
      ]
     },
     "execution_count": 48,
     "metadata": {},
     "output_type": "execute_result"
    }
   ],
   "source": [
    "# Jogo com maior numero de ganhadores da SENA - Sorteio 2\n",
    "\n",
    "index = df['ganhadores_sena_sorteio2'].idxmax\n",
    "df.loc[index]"
   ]
  },
  {
   "cell_type": "code",
   "execution_count": 49,
   "metadata": {},
   "outputs": [
    {
     "name": "stdout",
     "output_type": "stream",
     "text": [
      "No sorteio com maior números de ganhadores da Dupla-Sena Sorteio 2, cada ganhador levou R$ 9.458,00\n"
     ]
    }
   ],
   "source": [
    "dividido = formato_brl(df['rateio_sena_sorteio2'].loc[index] / df['ganhadores_sena_sorteio2'].loc[index])\n",
    "print('No sorteio com maior números de ganhadores da Dupla-Sena Sorteio 2, cada ganhador levou {}'\n",
    "     .format(dividido))"
   ]
  },
  {
   "cell_type": "markdown",
   "metadata": {},
   "source": [
    "### Valor ARRECADADO\n",
    "\n",
    "Sabendo que o prêmio bruto corresponde a __43,35%__ da arrecadação, vamos verificar qual foi o __valor total__ arrecadado na maior premiação da SENA."
   ]
  },
  {
   "cell_type": "code",
   "execution_count": 50,
   "metadata": {},
   "outputs": [],
   "source": [
    "#convertendo o valor para int64 usando o numpy devido ao tamanho do valor final\n",
    "\n",
    "valor = np.int64(df['rateio_sena_sorteio1'].max())\n",
    "arrecadado = formato_brl(((valor * 100) / 43.3))"
   ]
  },
  {
   "cell_type": "code",
   "execution_count": 51,
   "metadata": {},
   "outputs": [
    {
     "name": "stdout",
     "output_type": "stream",
     "text": [
      "O maior valor de premiação - SORTEIO 1 - foi de R$ 25.451.710,00\n",
      "O VALOR TOTAL arrecadado neste sorteio foi de R$ 58.779.930,00\n"
     ]
    }
   ],
   "source": [
    "print('O maior valor de premiação - SORTEIO 1 - foi de {}'\n",
    "      .format(formato_brl(valor)))\n",
    "print('O VALOR TOTAL arrecadado neste sorteio foi de {}'\n",
    "     .format(arrecadado))"
   ]
  },
  {
   "cell_type": "code",
   "execution_count": 52,
   "metadata": {},
   "outputs": [],
   "source": [
    "# E o valor TOTAL ARRECADO \n",
    "\n",
    "valor_total = np.int64(df['rateio_sena_sorteio1'].sum())\n",
    "arrecadado_total = formato_brl((valor_total * 100) / 43.3)"
   ]
  },
  {
   "cell_type": "code",
   "execution_count": 53,
   "metadata": {},
   "outputs": [
    {
     "name": "stdout",
     "output_type": "stream",
     "text": [
      "O valor total de premiações - SORTEIO 1 - da DUPLA-SENA foi de R$ 615.496.802,00*\n",
      "Isso corresponde a uma arrecadação total de R$ 1.421.470.674,00*\n"
     ]
    }
   ],
   "source": [
    "print('O valor total de premiações - SORTEIO 1 - da DUPLA-SENA foi de {}*'\n",
    "     .format(formato_brl(valor_total)))\n",
    "print('Isso corresponde a uma arrecadação total de {}*'\n",
    "     .format(arrecadado_total))"
   ]
  },
  {
   "cell_type": "markdown",
   "metadata": {},
   "source": [
    "_*calculos feitos sobre os valores pagos em premiações da SENA_"
   ]
  },
  {
   "cell_type": "markdown",
   "metadata": {},
   "source": [
    "### Analisando os dados utilizando gráficos"
   ]
  },
  {
   "cell_type": "markdown",
   "metadata": {},
   "source": [
    "### Sorteio 1"
   ]
  },
  {
   "cell_type": "code",
   "execution_count": 54,
   "metadata": {},
   "outputs": [],
   "source": [
    "# Agrupando por ano o total de ganhadores e valores pagos na SENA\n",
    "\n",
    "sena1_ganhadores = df.groupby('ano')['ganhadores_sena_sorteio1'].sum()\n",
    "sena1_valores = df.groupby('ano')['rateio_sena_sorteio1'].sum()"
   ]
  },
  {
   "cell_type": "code",
   "execution_count": 55,
   "metadata": {},
   "outputs": [],
   "source": [
    "# Agrupando por ano o total de ganhadores e valores pagos na QUINA\n",
    "\n",
    "quina1_ganhadores = df.groupby('ano')['ganhadores_quina_sorteio1'].sum()\n",
    "quina1_valores = df.groupby('ano')['rateio_quina_sorteio1'].sum()"
   ]
  },
  {
   "cell_type": "code",
   "execution_count": 56,
   "metadata": {},
   "outputs": [],
   "source": [
    "# Agrupando por ano o total de ganhadores e valores pagos na QUADRA\n",
    "\n",
    "quadra1_ganhadores = df.groupby('ano')['ganhadores_quadra_sorteio1'].sum()\n",
    "quadra1_valores = df.groupby('ano')['rateio_quadra_sorteio1'].sum()"
   ]
  },
  {
   "cell_type": "code",
   "execution_count": 57,
   "metadata": {},
   "outputs": [
    {
     "data": {
      "text/plain": [
       "<matplotlib.axes._subplots.AxesSubplot at 0xc2c72b0>"
      ]
     },
     "execution_count": 57,
     "metadata": {},
     "output_type": "execute_result"
    },
    {
     "data": {
      "image/png": "[encoded data removed]",
      "text/plain": [
       "<Figure size 432x288 with 1 Axes>"
      ]
     },
     "metadata": {
      "needs_background": "light"
     },
     "output_type": "display_data"
    }
   ],
   "source": [
    "# Plotando um gráfico comparativo do ganhadores por tipo de prêmio\n",
    "sena1_ganhadores.plot()\n",
    "quadra1_ganhadores.plot()\n",
    "quina1_ganhadores.plot()"
   ]
  },
  {
   "cell_type": "markdown",
   "metadata": {},
   "source": [
    "O gráfico não ficou muito informativo devido a diferença entre os valores de cada tipo de ganhadores.\n",
    "Para plotar um gráfico melhor, iremos utilizar a proporção de cada tipo de ganhadores."
   ]
  },
  {
   "cell_type": "code",
   "execution_count": 58,
   "metadata": {},
   "outputs": [],
   "source": [
    "# Proporções\n",
    "# Totais\n",
    "total_sena1 = df['ganhadores_sena_sorteio1'].sum()\n",
    "valor_sena1 = df['rateio_sena_sorteio1'].sum()\n",
    "total_quina1 = df['ganhadores_quina_sorteio1'].sum()\n",
    "valor_quina1 = df['rateio_quina_sorteio1'].sum()\n",
    "total_quadra1 = df['ganhadores_quadra_sorteio1'].sum()\n",
    "valor_quadra1 = df['rateio_quadra_sorteio1'].sum()\n",
    "\n",
    "# Proporção\n",
    "sena1_ganhadores = sena1_ganhadores / total_sena1\n",
    "sena1_valores = sena1_valores / valor_sena1\n",
    "quina1_ganhadores = quina1_ganhadores / total_quina1\n",
    "quina1_valores = quina1_valores / valor_quina1\n",
    "quadra1_ganhadores = quadra1_ganhadores / total_quadra1\n",
    "quadra1_valores = quadra1_valores / valor_quadra1"
   ]
  },
  {
   "cell_type": "code",
   "execution_count": 59,
   "metadata": {},
   "outputs": [
    {
     "data": {
      "image/png": "[encoded data removed]",
      "text/plain": [
       "<Figure size 720x360 with 1 Axes>"
      ]
     },
     "metadata": {
      "needs_background": "light"
     },
     "output_type": "display_data"
    }
   ],
   "source": [
    "# Plotando um gráfico com os valores proporcionais - GANHADORES\n",
    "\n",
    "sena1_ganhadores.plot(label='Sena', figsize=(10,5))\n",
    "quina1_ganhadores.plot(label='Quina')\n",
    "quadra1_ganhadores.plot(label='Quadra')\n",
    "plt.title('Ganhadores por ano - DUPLA SENA')\n",
    "plt.xlabel('')\n",
    "plt.legend();"
   ]
  },
  {
   "cell_type": "markdown",
   "metadata": {},
   "source": [
    "Cursiosamente podemos observar a inexistencia de ganhadores de __Quadra__ e __Quina__ até o ano de 2009, e que os números neles possuem linha igual, já __SENA__ possui uma linha bem variável no decorrer dos anos."
   ]
  },
  {
   "cell_type": "code",
   "execution_count": 60,
   "metadata": {},
   "outputs": [
    {
     "data": {
      "image/png": "[encoded data removed]",
      "text/plain": [
       "<Figure size 720x360 with 1 Axes>"
      ]
     },
     "metadata": {
      "needs_background": "light"
     },
     "output_type": "display_data"
    }
   ],
   "source": [
    "# Plotando um gráfico com os valores proporcionais - GANHADORES\n",
    "\n",
    "sena1_valores.plot(label='Sena', figsize=(10,5))\n",
    "quina1_valores.plot(label='Quina')\n",
    "quadra1_valores.plot(label='Quadra')\n",
    "plt.title('Valores por ano - DUPLA SENA')\n",
    "plt.xlabel('')\n",
    "plt.legend();"
   ]
  },
  {
   "cell_type": "markdown",
   "metadata": {},
   "source": [
    "No gráfico de valores _anuais_ observamos comportamente igual ao do _gráfico de ganhadores_"
   ]
  },
  {
   "cell_type": "markdown",
   "metadata": {},
   "source": [
    "### Sorteio 2"
   ]
  },
  {
   "cell_type": "code",
   "execution_count": 61,
   "metadata": {},
   "outputs": [],
   "source": [
    "# Agrupando por ano o total de ganhadores e valores pagos na SENA\n",
    "\n",
    "sena2_ganhadores = df.groupby('ano')['ganhadores_sena_sorteio2'].sum()\n",
    "sena2_valores = df.groupby('ano')['rateio_sena_sorteio2'].sum()"
   ]
  },
  {
   "cell_type": "code",
   "execution_count": 62,
   "metadata": {},
   "outputs": [],
   "source": [
    "# Agrupando por ano o total de ganhadores e valores pagos na QUINA\n",
    "\n",
    "quina2_ganhadores = df.groupby('ano')['ganhadores_quina_sorteio2'].sum()\n",
    "quina2_valores = df.groupby('ano')['rateio_quina_sorteio2'].sum()"
   ]
  },
  {
   "cell_type": "code",
   "execution_count": 63,
   "metadata": {},
   "outputs": [],
   "source": [
    "# Agrupando por ano o total de ganhadores e valores pagos na QUADRA\n",
    "\n",
    "quadra2_ganhadores = df.groupby('ano')['ganhadores_quadra_sorteio2'].sum()\n",
    "quadra2_valores = df.groupby('ano')['rateio_quadra_sorteio2'].sum()"
   ]
  },
  {
   "cell_type": "code",
   "execution_count": 64,
   "metadata": {},
   "outputs": [],
   "source": [
    "# Proporções\n",
    "# Totais\n",
    "total_sena2 = df['ganhadores_sena_sorteio2'].sum()\n",
    "valor_sena2 = df['rateio_sena_sorteio2'].sum()\n",
    "total_quina2 = df['ganhadores_quina_sorteio2'].sum()\n",
    "valor_quina2 = df['rateio_quina_sorteio2'].sum()\n",
    "total_quadra2 = df['ganhadores_quadra_sorteio2'].sum()\n",
    "valor_quadra2 = df['rateio_quadra_sorteio2'].sum()\n",
    "\n",
    "# Proporção\n",
    "sena2_ganhadores = sena2_ganhadores / total_sena2\n",
    "sena2_valores = sena2_valores / valor_sena2\n",
    "quina2_ganhadores = quina2_ganhadores / total_quina2\n",
    "quina2_valores = quina2_valores / valor_quina2\n",
    "quadra2_ganhadores = quadra2_ganhadores / total_quadra2\n",
    "quadra2_valores = quadra2_valores / valor_quadra2"
   ]
  },
  {
   "cell_type": "code",
   "execution_count": 65,
   "metadata": {},
   "outputs": [
    {
     "data": {
      "image/png": "[encoded data removed]",
      "text/plain": [
       "<Figure size 720x360 with 1 Axes>"
      ]
     },
     "metadata": {
      "needs_background": "light"
     },
     "output_type": "display_data"
    }
   ],
   "source": [
    "# Plotando um gráfico com os valores proporcionais - GANHADORES\n",
    "\n",
    "sena2_ganhadores.plot(label='Sena', figsize=(10,5))\n",
    "quina2_ganhadores.plot(label='Quina')\n",
    "quadra2_ganhadores.plot(label='Quadra')\n",
    "plt.title('Ganhadores por ano - DUPLA SENA')\n",
    "plt.xlabel('')\n",
    "plt.legend();"
   ]
  },
  {
   "cell_type": "markdown",
   "metadata": {},
   "source": [
    "Nos registros do __Sorteio 2__ observamos que todas as categorias de premiações seguem uma linha parecida desde o inicio dos registros."
   ]
  },
  {
   "cell_type": "code",
   "execution_count": 66,
   "metadata": {},
   "outputs": [
    {
     "data": {
      "image/png": "[encoded data removed]",
      "text/plain": [
       "<Figure size 720x360 with 1 Axes>"
      ]
     },
     "metadata": {
      "needs_background": "light"
     },
     "output_type": "display_data"
    }
   ],
   "source": [
    "# Plotando um gráfico com os valores proporcionais - GANHADORES\n",
    "\n",
    "sena2_valores.plot(label='Sena', figsize=(10,5))\n",
    "quina2_valores.plot(label='Quina')\n",
    "quadra2_valores.plot(label='Quadra')\n",
    "plt.title('Valores por ano - DUPLA SENA')\n",
    "plt.xlabel('')\n",
    "plt.legend();"
   ]
  },
  {
   "cell_type": "markdown",
   "metadata": {},
   "source": [
    "Em relação aos valores __Quadra__ e __Quina__ possuem uma linha semelhantes e __Sena__ segue uma variação diferenciada, apresentando valores maiores entre os anos de 2010 e 2015, grande queda de 2015 para 2016."
   ]
  },
  {
   "cell_type": "markdown",
   "metadata": {},
   "source": [
    "### Sorteio 1 e 2"
   ]
  },
  {
   "cell_type": "code",
   "execution_count": 67,
   "metadata": {},
   "outputs": [
    {
     "data": {
      "image/png": "[encoded data removed]",
      "text/plain": [
       "<Figure size 720x360 with 1 Axes>"
      ]
     },
     "metadata": {
      "needs_background": "light"
     },
     "output_type": "display_data"
    }
   ],
   "source": [
    "# Plotando um gráfico com os valores proporcionais - GANHADORES - SENA\n",
    "\n",
    "sena1_ganhadores.plot(label='Sorteio 1', figsize=(10,5))\n",
    "sena2_ganhadores.plot(label='Sorteio 2')\n",
    "plt.title('Ganhadores por ano - SENA')\n",
    "plt.xlabel('')\n",
    "plt.legend();"
   ]
  },
  {
   "cell_type": "markdown",
   "metadata": {},
   "source": [
    "As linhas possuem frequencias distintas, apresentando semelhança somente no periodo inicial até 2004."
   ]
  },
  {
   "cell_type": "code",
   "execution_count": 68,
   "metadata": {},
   "outputs": [
    {
     "data": {
      "image/png": "[encoded data removed]",
      "text/plain": [
       "<Figure size 720x360 with 1 Axes>"
      ]
     },
     "metadata": {
      "needs_background": "light"
     },
     "output_type": "display_data"
    }
   ],
   "source": [
    "# Plotando um gráfico com os valores proporcionais - GANHADORES - QUINA\n",
    "\n",
    "quina1_ganhadores.plot(label='Sorteio 1', figsize=(10,5))\n",
    "quina2_ganhadores.plot(label='Sorteio 2')\n",
    "plt.title('Ganhadores por ano - QUINA')\n",
    "plt.xlabel('')\n",
    "plt.legend();"
   ]
  },
  {
   "cell_type": "markdown",
   "metadata": {},
   "source": [
    "Nos resultados da Quina podemos observar grande diferença entre as duas linhas, tendo a partir de 2010 maiores registros de ganhadores no __primeiro sorteio__"
   ]
  },
  {
   "cell_type": "code",
   "execution_count": 69,
   "metadata": {},
   "outputs": [
    {
     "data": {
      "image/png": "[encoded data removed]",
      "text/plain": [
       "<Figure size 720x360 with 1 Axes>"
      ]
     },
     "metadata": {
      "needs_background": "light"
     },
     "output_type": "display_data"
    }
   ],
   "source": [
    "# Plotando um gráfico com os valores proporcionais - GANHADORES - QUADRA\n",
    "\n",
    "quadra1_ganhadores.plot(label='Sorteio 1', figsize=(10,5))\n",
    "quadra2_ganhadores.plot(label='Sorteio 2')\n",
    "plt.title('Ganhadores por ano - QUADRA')\n",
    "plt.xlabel('')\n",
    "plt.legend();"
   ]
  },
  {
   "cell_type": "markdown",
   "metadata": {},
   "source": [
    "__Quadra__ segue o mesmo resultado da analise da _Quina_ tendo a partir de 2010 maiores registros de ganhadores no __primeiro sorteio__"
   ]
  },
  {
   "cell_type": "code",
   "execution_count": 70,
   "metadata": {},
   "outputs": [
    {
     "data": {
      "image/png": "[encoded data removed]",
      "text/plain": [
       "<Figure size 720x360 with 1 Axes>"
      ]
     },
     "metadata": {
      "needs_background": "light"
     },
     "output_type": "display_data"
    }
   ],
   "source": [
    "# Plotando um gráfico com os valores proporcionais - SENA\n",
    "\n",
    "sena1_valores.plot(label='Sorteio 1', figsize=(10,5))\n",
    "sena2_valores.plot(label='Sorteio 2')\n",
    "plt.title('Valores por ano - SENA')\n",
    "plt.xlabel('')\n",
    "plt.legend();"
   ]
  },
  {
   "cell_type": "markdown",
   "metadata": {},
   "source": [
    "Os valores seguem linhas bem variadas, tendo uma maior diferença no ano de 2015 onde os valores distribuidos no __Sorteio 2__ são bem superiores ao do __Sorteio 1__"
   ]
  },
  {
   "cell_type": "code",
   "execution_count": 71,
   "metadata": {},
   "outputs": [
    {
     "data": {
      "image/png": "[encoded data removed]",
      "text/plain": [
       "<Figure size 720x360 with 1 Axes>"
      ]
     },
     "metadata": {
      "needs_background": "light"
     },
     "output_type": "display_data"
    }
   ],
   "source": [
    "# Plotando um gráfico com os valores proporcionais - QUINA\n",
    "\n",
    "quina1_valores.plot(label='Sorteio 1', figsize=(10,5))\n",
    "quina2_valores.plot(label='Sorteio 2')\n",
    "plt.title('Valores por ano - Quina')\n",
    "plt.xlabel('')\n",
    "plt.legend();"
   ]
  },
  {
   "cell_type": "markdown",
   "metadata": {},
   "source": [
    "Na __Quina__ o valor total no __Sorteio 1__ a partir de _2010_ segue uma linha superior aos valores do __Sorteio 2__"
   ]
  },
  {
   "cell_type": "code",
   "execution_count": 72,
   "metadata": {},
   "outputs": [
    {
     "data": {
      "image/png": "[encoded data removed]",
      "text/plain": [
       "<Figure size 720x360 with 1 Axes>"
      ]
     },
     "metadata": {
      "needs_background": "light"
     },
     "output_type": "display_data"
    }
   ],
   "source": [
    "# Plotando um gráfico com os valores proporcionais - Quadra\n",
    "\n",
    "quadra1_valores.plot(label='Sorteio 1', figsize=(10,5))\n",
    "quadra2_valores.plot(label='Sorteio 2')\n",
    "plt.title('Valores por ano - Quadra')\n",
    "plt.xlabel('')\n",
    "plt.legend();"
   ]
  },
  {
   "cell_type": "markdown",
   "metadata": {},
   "source": [
    "Assim como na _Quina_ os valores da __Quadra__ também são superiores no __Sorteio 1__ em relação ao __Sorteio 2__ a partir de 2010."
   ]
  },
  {
   "cell_type": "markdown",
   "metadata": {},
   "source": [
    "## Conclusão"
   ]
  },
  {
   "cell_type": "markdown",
   "metadata": {},
   "source": [
    "Como podemos observar os valores/ganhadores distribuidos na __SENA__ no SORTEIO 1 e SORTEIO 2 possuem variação no decorrer dos anos e não possuem semelhança.\n",
    "\n",
    "Já os resultados da analise da __Quina__ e __Quadra__ apresentam _a partir de 2010_ maiores registros de prêmios e ganhadores no Sorteio 1 em relação ao Sorteio 2, _no periodo que antecede 2010 não possuimos registros de ganhadores no Sorteio 1 e tão pouco informações se os registros estão corretos antes desse periodo_"
   ]
  },
  {
   "cell_type": "markdown",
   "metadata": {},
   "source": [
    "### Limitações"
   ]
  },
  {
   "cell_type": "markdown",
   "metadata": {},
   "source": [
    "Nosso dataframe foi importado a partir de um arquivo _.htm_ e apresentou algumas inconsistencias durante a analise devido a algumas quebras de valores que foram interpretadas como quebra de linha.\n",
    "\n",
    "- Para contornar o problema removemos as linhas criadas de forma a não afetar nossas analises\n",
    "\n",
    "As colunas foram importadas como _string_ o que nos levou a realizar as devidas conversões:\n",
    "- data_sorteio - convertida para datetime\n",
    "- demais colunas - convertidas para int, mesmo as colunas que tratam de valores foram convertidas para int para facilitar a manipulação de valores altos, e por trabalharmos com valores na casa dos milhões e bilhões, o descarte dos centavos não afetam os resultados finais."
   ]
  },
  {
   "cell_type": "markdown",
   "metadata": {},
   "source": [
    "## Sorteando alguns PALPITES com base no df"
   ]
  },
  {
   "cell_type": "markdown",
   "metadata": {},
   "source": [
    "Iremos ver as desenas mais sorteadas em cada posição e então elaborar palpites com estes números, para isso iremos utilizar a biblioteca __random__"
   ]
  },
  {
   "cell_type": "markdown",
   "metadata": {},
   "source": [
    "Como temos 2 sorteios na __Dupla Sena__ iremos criar um novo df para inserir todos os numeros do primeiro e segundo sorteio para então elaborar os palpites."
   ]
  },
  {
   "cell_type": "code",
   "execution_count": 73,
   "metadata": {},
   "outputs": [
    {
     "name": "stdout",
     "output_type": "stream",
     "text": [
      "Dataframe gerado com sucesso\n"
     ]
    }
   ],
   "source": [
    "df_bolas = pd.DataFrame()\n",
    "df_temp = pd.DataFrame()\n",
    "\n",
    "sorteios = [1,2] #temos dois sorteios\n",
    "for sort in sorteios: \n",
    "    pos = '_' + str(sort) #montando o nome da dezena\n",
    "    for posicao in range(6): #cada sorteio possui 6 numeros\n",
    "        coluna = str(posicao+1) + pos #montando o nome da coluna que vai de 1 a 6\n",
    "        df_temp[str(posicao+1)] = df[coluna] #adicionando a coluna ao df temporario e pegando as informações do df principal\n",
    "    df_bolas = df_bolas.append(df_temp, ignore_index=True) #apendando os dados no df de bolas sorteadas\n",
    "\n",
    "if df_bolas.shape[0] == df.shape[0]*2:\n",
    "    print('Dataframe gerado com sucesso')"
   ]
  },
  {
   "cell_type": "markdown",
   "metadata": {},
   "source": [
    "### Aqui iremos chamar a função PALPITE para elaborar palpites baseados no df"
   ]
  },
  {
   "cell_type": "code",
   "execution_count": 74,
   "metadata": {},
   "outputs": [
    {
     "name": "stdout",
     "output_type": "stream",
     "text": [
      "The history saving thread hit an unexpected error (OperationalError('database is locked')).History will not be written to the database.\n"
     ]
    }
   ],
   "source": [
    "# Dados para elaboração do palpite\n",
    "# Alterar apenas estas duas variaveis\n",
    "\n",
    "palpitar = 2\n",
    "bolas = 0"
   ]
  },
  {
   "cell_type": "code",
   "execution_count": 75,
   "metadata": {},
   "outputs": [
    {
     "name": "stdout",
     "output_type": "stream",
     "text": [
      "Palpite 1\n",
      "9 - 32 - 7 - 40 - 49 - 30 - \n",
      "\n",
      "Palpite 2\n",
      "14 - 35 - 9 - 18 - 49 - 32 - \n",
      "\n"
     ]
    }
   ],
   "source": [
    "# Rodando a função com \n",
    "palpite(palpitar,bolas,6,df_bolas)"
   ]
  },
  {
   "cell_type": "markdown",
   "metadata": {},
   "source": [
    "### Ultimo resultado da Mega"
   ]
  },
  {
   "cell_type": "code",
   "execution_count": 76,
   "metadata": {},
   "outputs": [
    {
     "data": {
      "text/html": [
       "<div>\n",
       "<style scoped>\n",
       "    .dataframe tbody tr th:only-of-type {\n",
       "        vertical-align: middle;\n",
       "    }\n",
       "\n",
       "    .dataframe tbody tr th {\n",
       "        vertical-align: top;\n",
       "    }\n",
       "\n",
       "    .dataframe thead th {\n",
       "        text-align: right;\n",
       "    }\n",
       "</style>\n",
       "<table border=\"1\" class=\"dataframe\">\n",
       "  <thead>\n",
       "    <tr style=\"text-align: right;\">\n",
       "      <th></th>\n",
       "      <th>concurso</th>\n",
       "      <th>data_sorteio</th>\n",
       "      <th>1_1</th>\n",
       "      <th>2_1</th>\n",
       "      <th>3_1</th>\n",
       "      <th>4_1</th>\n",
       "      <th>5_1</th>\n",
       "      <th>6_1</th>\n",
       "      <th>arrecadação_total</th>\n",
       "      <th>ganhadores_sena_sorteio1</th>\n",
       "      <th>...</th>\n",
       "      <th>4_2</th>\n",
       "      <th>5_2</th>\n",
       "      <th>6_2</th>\n",
       "      <th>ganhadores_sena_sorteio2</th>\n",
       "      <th>rateio_sena_sorteio2</th>\n",
       "      <th>ganhadores_quina_sorteio2</th>\n",
       "      <th>rateio_quina_sorteio2</th>\n",
       "      <th>ganhadores_quadra_sorteio2</th>\n",
       "      <th>rateio_quadra_sorteio2</th>\n",
       "      <th>ano</th>\n",
       "    </tr>\n",
       "  </thead>\n",
       "  <tbody>\n",
       "    <tr>\n",
       "      <th>1885</th>\n",
       "      <td>1886</td>\n",
       "      <td>2019-08-01</td>\n",
       "      <td>42</td>\n",
       "      <td>8</td>\n",
       "      <td>35</td>\n",
       "      <td>25</td>\n",
       "      <td>47</td>\n",
       "      <td>26</td>\n",
       "      <td>4641106</td>\n",
       "      <td>0</td>\n",
       "      <td>...</td>\n",
       "      <td>38</td>\n",
       "      <td>13</td>\n",
       "      <td>23</td>\n",
       "      <td>0</td>\n",
       "      <td>0</td>\n",
       "      <td>32</td>\n",
       "      <td>3960</td>\n",
       "      <td>1868</td>\n",
       "      <td>86</td>\n",
       "      <td>2019</td>\n",
       "    </tr>\n",
       "  </tbody>\n",
       "</table>\n",
       "<p>1 rows × 30 columns</p>\n",
       "</div>"
      ],
      "text/plain": [
       "0     concurso data_sorteio  1_1  2_1  3_1  4_1  5_1  6_1  arrecadação_total  \\\n",
       "1885      1886   2019-08-01   42    8   35   25   47   26            4641106   \n",
       "\n",
       "0     ganhadores_sena_sorteio1  ...   4_2 5_2  6_2  ganhadores_sena_sorteio2  \\\n",
       "1885                         0  ...    38  13   23                         0   \n",
       "\n",
       "0     rateio_sena_sorteio2  ganhadores_quina_sorteio2  rateio_quina_sorteio2  \\\n",
       "1885                     0                         32                   3960   \n",
       "\n",
       "0     ganhadores_quadra_sorteio2  rateio_quadra_sorteio2   ano  \n",
       "1885                        1868                      86  2019  \n",
       "\n",
       "[1 rows x 30 columns]"
      ]
     },
     "execution_count": 76,
     "metadata": {},
     "output_type": "execute_result"
    }
   ],
   "source": [
    "df.tail(1)"
   ]
  },
  {
   "cell_type": "markdown",
   "metadata": {},
   "source": [
    "__Fabiano__ _Lima_ - 14/12/2018"
   ]
  }
 ],
 "metadata": {
  "kernelspec": {
   "display_name": "Python 3",
   "language": "python",
   "name": "python3"
  },
  "language_info": {
   "codemirror_mode": {
    "name": "ipython",
    "version": 3
   },
   "file_extension": ".py",
   "mimetype": "text/x-python",
   "name": "python",
   "nbconvert_exporter": "python",
   "pygments_lexer": "ipython3",
   "version": "3.7.1"
  }
 },
 "nbformat": 4,
 "nbformat_minor": 2
}
